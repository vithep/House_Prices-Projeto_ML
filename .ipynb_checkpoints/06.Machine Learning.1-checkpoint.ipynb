{
 "cells": [
  {
   "cell_type": "markdown",
   "metadata": {},
   "source": [
    "# House Price - Linear Regression"
   ]
  },
  {
   "cell_type": "markdown",
   "metadata": {},
   "source": [
    "## Parte 06 - Machine Learning - Rodagem com todas as variaveis"
   ]
  },
  {
   "cell_type": "markdown",
   "metadata": {},
   "source": [
    "#### > Importação das Bibliotecas"
   ]
  },
  {
   "cell_type": "code",
   "execution_count": 93,
   "metadata": {},
   "outputs": [
    {
     "name": "stdout",
     "output_type": "stream",
     "text": [
      "Requirement already satisfied: xgboost in c:\\users\\vithep\\anaconda3\\lib\\site-packages (1.3.3)\n",
      "Requirement already satisfied: scipy in c:\\users\\vithep\\anaconda3\\lib\\site-packages (from xgboost) (1.5.2)\n",
      "Requirement already satisfied: numpy in c:\\users\\vithep\\anaconda3\\lib\\site-packages (from xgboost) (1.19.2)\n",
      "Note: you may need to restart the kernel to use updated packages.\n"
     ]
    }
   ],
   "source": [
    "pip install xgboost"
   ]
  },
  {
   "cell_type": "code",
   "execution_count": 94,
   "metadata": {},
   "outputs": [],
   "source": [
    "import matplotlib.pyplot as plt  \n",
    "import numpy as np \n",
    "import pandas as pd  \n",
    "import seaborn as sns\n",
    "from sklearn.ensemble import BaggingRegressor\n",
    "from sklearn.ensemble import GradientBoostingRegressor\n",
    "from sklearn.ensemble import RandomForestRegressor\n",
    "from sklearn.ensemble import VotingRegressor\n",
    "from sklearn.linear_model import LinearRegression\n",
    "from sklearn.model_selection import train_test_split \n",
    "from sklearn.neighbors import KNeighborsRegressor\n",
    "from sklearn.metrics import mean_squared_error, mean_absolute_error, r2_score\n",
    "from sklearn.tree import DecisionTreeRegressor\n",
    "from statsmodels.formula.api import ols\n",
    "from xgboost import XGBRegressor\n",
    "import statsmodels.api as sm\n",
    "import statsmodels.formula.api as smf"
   ]
  },
  {
   "cell_type": "markdown",
   "metadata": {},
   "source": [
    "#### > Carregamento do Dataset"
   ]
  },
  {
   "cell_type": "markdown",
   "metadata": {},
   "source": [
    "Carregamento do dataset **'house_price.csv'**. O comando 'set_option' permite que a tabela seja apresentada sem simplicação "
   ]
  },
  {
   "cell_type": "code",
   "execution_count": 95,
   "metadata": {},
   "outputs": [],
   "source": [
    "df0 = pd.read_csv('house_price.csv')\n",
    "pd.set_option('max_columns', None)"
   ]
  },
  {
   "cell_type": "markdown",
   "metadata": {},
   "source": [
    "#### 1. Primeira Rodagem"
   ]
  },
  {
   "cell_type": "markdown",
   "metadata": {},
   "source": [
    "Nessa primeira rodagem, serão colocados todos os dados do dataset, com a intenção de prever o preço da casa"
   ]
  },
  {
   "cell_type": "markdown",
   "metadata": {},
   "source": [
    "##### > Separando os Dados"
   ]
  },
  {
   "cell_type": "markdown",
   "metadata": {},
   "source": [
    "Colocando todas as colunas como variaveis"
   ]
  },
  {
   "cell_type": "code",
   "execution_count": 96,
   "metadata": {},
   "outputs": [],
   "source": [
    "df = df0.copy()"
   ]
  },
  {
   "cell_type": "code",
   "execution_count": 97,
   "metadata": {},
   "outputs": [
    {
     "data": {
      "text/plain": [
       "Index(['date', 'day', 'month', 'year', 'price', 'bedrooms', 'bathrooms',\n",
       "       'sqft_living', 'sqft_lot', 'floors', 'waterfront', 'view', 'condition',\n",
       "       'grade', 'sqft_above', 'sqft_basement', 'age_built', 'yr_renovated',\n",
       "       'zipcode', 'lat', 'long', 'sqft_living15', 'sqft_lot15'],\n",
       "      dtype='object')"
      ]
     },
     "execution_count": 97,
     "metadata": {},
     "output_type": "execute_result"
    }
   ],
   "source": [
    "df.columns"
   ]
  },
  {
   "cell_type": "code",
   "execution_count": 98,
   "metadata": {},
   "outputs": [
    {
     "name": "stdout",
     "output_type": "stream",
     "text": [
      "<class 'pandas.core.frame.DataFrame'>\n",
      "RangeIndex: 19450 entries, 0 to 19449\n",
      "Data columns (total 23 columns):\n",
      " #   Column         Non-Null Count  Dtype  \n",
      "---  ------         --------------  -----  \n",
      " 0   date           19450 non-null  object \n",
      " 1   day            19450 non-null  int64  \n",
      " 2   month          19450 non-null  int64  \n",
      " 3   year           19450 non-null  int64  \n",
      " 4   price          19450 non-null  float64\n",
      " 5   bedrooms       19450 non-null  float64\n",
      " 6   bathrooms      19450 non-null  float64\n",
      " 7   sqft_living    19450 non-null  float64\n",
      " 8   sqft_lot       19450 non-null  float64\n",
      " 9   floors         19450 non-null  float64\n",
      " 10  waterfront     19450 non-null  int64  \n",
      " 11  view           19450 non-null  int64  \n",
      " 12  condition      19450 non-null  int64  \n",
      " 13  grade          19450 non-null  int64  \n",
      " 14  sqft_above     19450 non-null  float64\n",
      " 15  sqft_basement  19450 non-null  int64  \n",
      " 16  age_built      19450 non-null  float64\n",
      " 17  yr_renovated   19450 non-null  int64  \n",
      " 18  zipcode        19450 non-null  int64  \n",
      " 19  lat            19450 non-null  float64\n",
      " 20  long           19450 non-null  float64\n",
      " 21  sqft_living15  19450 non-null  float64\n",
      " 22  sqft_lot15     19450 non-null  float64\n",
      "dtypes: float64(12), int64(10), object(1)\n",
      "memory usage: 3.4+ MB\n"
     ]
    }
   ],
   "source": [
    "df.info()"
   ]
  },
  {
   "cell_type": "markdown",
   "metadata": {},
   "source": [
    "Transformando os tipos de variaveis"
   ]
  },
  {
   "cell_type": "code",
   "execution_count": 99,
   "metadata": {},
   "outputs": [],
   "source": [
    "df['date']=df['date'].astype('datetime64')"
   ]
  },
  {
   "cell_type": "code",
   "execution_count": 100,
   "metadata": {},
   "outputs": [
    {
     "name": "stdout",
     "output_type": "stream",
     "text": [
      "<class 'pandas.core.frame.DataFrame'>\n",
      "RangeIndex: 19450 entries, 0 to 19449\n",
      "Data columns (total 23 columns):\n",
      " #   Column         Non-Null Count  Dtype         \n",
      "---  ------         --------------  -----         \n",
      " 0   date           19450 non-null  datetime64[ns]\n",
      " 1   day            19450 non-null  int64         \n",
      " 2   month          19450 non-null  int64         \n",
      " 3   year           19450 non-null  int64         \n",
      " 4   price          19450 non-null  float64       \n",
      " 5   bedrooms       19450 non-null  float64       \n",
      " 6   bathrooms      19450 non-null  float64       \n",
      " 7   sqft_living    19450 non-null  float64       \n",
      " 8   sqft_lot       19450 non-null  float64       \n",
      " 9   floors         19450 non-null  float64       \n",
      " 10  waterfront     19450 non-null  int64         \n",
      " 11  view           19450 non-null  int64         \n",
      " 12  condition      19450 non-null  int64         \n",
      " 13  grade          19450 non-null  int64         \n",
      " 14  sqft_above     19450 non-null  float64       \n",
      " 15  sqft_basement  19450 non-null  int64         \n",
      " 16  age_built      19450 non-null  float64       \n",
      " 17  yr_renovated   19450 non-null  int64         \n",
      " 18  zipcode        19450 non-null  int64         \n",
      " 19  lat            19450 non-null  float64       \n",
      " 20  long           19450 non-null  float64       \n",
      " 21  sqft_living15  19450 non-null  float64       \n",
      " 22  sqft_lot15     19450 non-null  float64       \n",
      "dtypes: datetime64[ns](1), float64(12), int64(10)\n",
      "memory usage: 3.4 MB\n"
     ]
    }
   ],
   "source": [
    "df.info()"
   ]
  },
  {
   "cell_type": "markdown",
   "metadata": {},
   "source": [
    "Colocando somente os valores proximos no dataset, tentando avaliar se diminuiremos os erros"
   ]
  },
  {
   "cell_type": "markdown",
   "metadata": {},
   "source": [
    "Colocando as features em uma variavel"
   ]
  },
  {
   "cell_type": "code",
   "execution_count": 101,
   "metadata": {},
   "outputs": [],
   "source": [
    "X = df[['day', 'month', 'year', 'bedrooms', 'bathrooms',\n",
    "       'sqft_living', 'sqft_lot', 'floors', 'waterfront', 'view', 'condition',\n",
    "       'grade', 'sqft_above', 'sqft_basement', 'age_built', 'yr_renovated',\n",
    "       'zipcode', 'lat', 'long', 'sqft_living15', 'sqft_lot15']]"
   ]
  },
  {
   "cell_type": "markdown",
   "metadata": {},
   "source": [
    "Colocando a coluna 'price' como nossa variavel resposta"
   ]
  },
  {
   "cell_type": "code",
   "execution_count": 102,
   "metadata": {},
   "outputs": [],
   "source": [
    "y = df['price']"
   ]
  },
  {
   "cell_type": "markdown",
   "metadata": {},
   "source": [
    "Realizando a separação dos dados em Treino e Teste, onde 30% dos dados serão de teste"
   ]
  },
  {
   "cell_type": "code",
   "execution_count": 103,
   "metadata": {},
   "outputs": [],
   "source": [
    "X_train,X_test,y_train,y_test=train_test_split(X,y,test_size=0.2,random_state=42)"
   ]
  },
  {
   "cell_type": "markdown",
   "metadata": {},
   "source": [
    "Metrica para validação dos dados"
   ]
  },
  {
   "cell_type": "code",
   "execution_count": 104,
   "metadata": {},
   "outputs": [],
   "source": [
    "def acc_reg(y_pred,y_test,tolerancia):\n",
    "    \n",
    "    df_final = pd.DataFrame({'Actual': y_test, 'Predicted': y_pred})\n",
    "    \n",
    "    df_final['error']=1-df_final['Predicted']/df_final['Actual']\n",
    "    \n",
    "    ((df_final['error']<tolerancia) & (df_final['error']>-tolerancia)).value_counts()\n",
    "    \n",
    "    Falso = ((df_final['error']<tolerancia) & (df_final['error']>-tolerancia)).value_counts()[0]\n",
    "    \n",
    "    Verdadeiro = ((df_final['error']<tolerancia) & (df_final['error']>-tolerancia)).value_counts()[1]\n",
    "    \n",
    "    Acc = Verdadeiro/(Falso+Verdadeiro)*100\n",
    "    \n",
    "    return round(Acc,2)"
   ]
  },
  {
   "cell_type": "markdown",
   "metadata": {},
   "source": [
    "#### > LinearRegression"
   ]
  },
  {
   "cell_type": "markdown",
   "metadata": {},
   "source": [
    "##### > Verificação dos resultados"
   ]
  },
  {
   "cell_type": "code",
   "execution_count": 105,
   "metadata": {},
   "outputs": [
    {
     "name": "stdout",
     "output_type": "stream",
     "text": [
      "Coefficient: [-4.38713496e+02  4.32535632e+02  3.08939523e+04 -2.92582934e+04\n",
      "  3.43032116e+04  9.09084576e+01 -8.14230106e-01  1.47624813e+04\n",
      "  4.97387093e+05  5.29916322e+04  2.91594998e+04  1.02714385e+05\n",
      "  5.64091437e+01  3.44993137e+01  2.60387270e+03  1.96819872e+01\n",
      " -4.97240895e+02  5.99594017e+05 -1.62699358e+05  3.87076634e+01\n",
      " -2.28092951e+00]\n",
      "Intercept: -62684928.536653236\n",
      "R^2: 0.71 \n",
      "Mean Absolute error: 112586.47754043472\n",
      "Mean Squared error: 28571963503.450996\n",
      "Root Mean Squared Error: 169032.43328855856\n"
     ]
    }
   ],
   "source": [
    "lr = LinearRegression()\n",
    "lr.fit(X_train,y_train)\n",
    "y_pred = lr.predict(X_test)\n",
    "lrr = r2_score(y_test, y_pred)\n",
    "MAElr = mean_absolute_error(y_test, y_pred)\n",
    "MSElr = mean_squared_error(y_test, y_pred)\n",
    "RMSElr = np.sqrt(mean_squared_error(y_test, y_pred))\n",
    "print('Coefficient:', lr.coef_)\n",
    "print('Intercept:', lr.intercept_)\n",
    "print('R^2: %.2f ' % lrr)\n",
    "print('Mean Absolute error:', MAElr)\n",
    "print('Mean Squared error:', MSElr )\n",
    "print('Root Mean Squared Error:', RMSElr )"
   ]
  },
  {
   "cell_type": "code",
   "execution_count": 106,
   "metadata": {},
   "outputs": [
    {
     "data": {
      "image/png": "[encoded data removed]",
      "text/plain": [
       "<Figure size 432x288 with 1 Axes>"
      ]
     },
     "metadata": {
      "needs_background": "light"
     },
     "output_type": "display_data"
    }
   ],
   "source": [
    "plt.scatter(y_test, y_pred)\n",
    "plt.xlabel('Preço')\n",
    "plt.ylabel('Previsão do Preço')\n",
    "plt.title('Preço vs Previsão do Preço')\n",
    "plt.show()"
   ]
  },
  {
   "cell_type": "code",
   "execution_count": 107,
   "metadata": {},
   "outputs": [
    {
     "data": {
      "text/plain": [
       "29.79"
      ]
     },
     "execution_count": 107,
     "metadata": {},
     "output_type": "execute_result"
    }
   ],
   "source": [
    "lrp = acc_reg(y_pred,y_test,0.1)\n",
    "lrp"
   ]
  },
  {
   "cell_type": "code",
   "execution_count": 108,
   "metadata": {},
   "outputs": [
    {
     "data": {
      "text/plain": [
       "['LinearRegression',\n",
       " 0.7091342860350951,\n",
       " 112586.47754043472,\n",
       " 28571963503.450996,\n",
       " 169032.43328855856,\n",
       " 29.79]"
      ]
     },
     "execution_count": 108,
     "metadata": {},
     "output_type": "execute_result"
    }
   ],
   "source": [
    "Linear = ['LinearRegression',lrr,MAElr,MSElr,RMSElr,lrp]\n",
    "Linear"
   ]
  },
  {
   "cell_type": "markdown",
   "metadata": {},
   "source": [
    "#### > KNN Regressor"
   ]
  },
  {
   "cell_type": "markdown",
   "metadata": {},
   "source": [
    "##### > Verificação dos resultados"
   ]
  },
  {
   "cell_type": "code",
   "execution_count": 109,
   "metadata": {},
   "outputs": [
    {
     "name": "stdout",
     "output_type": "stream",
     "text": [
      "R^2: 0.52 \n",
      "Mean Absolute error: 144521.75537275063\n",
      "Mean Squared error: 47341577183.70815\n",
      "Root Mean Squared Error: 217581.19676044653\n"
     ]
    }
   ],
   "source": [
    "knn = KNeighborsRegressor(n_neighbors=5,metric='euclidean')\n",
    "knn.fit(X_train,y_train)\n",
    "y_pred = knn.predict(X_test)\n",
    "knnr = r2_score(y_test, y_pred)\n",
    "MAEknn = mean_absolute_error(y_test, y_pred)\n",
    "MSEknn = mean_squared_error(y_test, y_pred)\n",
    "RMSEknn = np.sqrt(mean_squared_error(y_test, y_pred))\n",
    "print('R^2: %.2f ' % knnr)\n",
    "print('Mean Absolute error:', MAEknn)\n",
    "print('Mean Squared error:', MSEknn )\n",
    "print('Root Mean Squared Error:', RMSEknn )"
   ]
  },
  {
   "cell_type": "code",
   "execution_count": 110,
   "metadata": {},
   "outputs": [
    {
     "data": {
      "image/png": "[encoded data removed]",
      "text/plain": [
       "<Figure size 432x288 with 1 Axes>"
      ]
     },
     "metadata": {
      "needs_background": "light"
     },
     "output_type": "display_data"
    }
   ],
   "source": [
    "plt.scatter(y_test, y_pred)\n",
    "plt.xlabel('Preço')\n",
    "plt.ylabel('Previsão do Preço')\n",
    "plt.title('Preço vs Previsão do Preço')\n",
    "plt.show()"
   ]
  },
  {
   "cell_type": "code",
   "execution_count": 111,
   "metadata": {},
   "outputs": [
    {
     "data": {
      "text/plain": [
       "23.03"
      ]
     },
     "execution_count": 111,
     "metadata": {},
     "output_type": "execute_result"
    }
   ],
   "source": [
    "knnp = acc_reg(y_pred,y_test,0.1)\n",
    "knnp"
   ]
  },
  {
   "cell_type": "code",
   "execution_count": 112,
   "metadata": {},
   "outputs": [
    {
     "data": {
      "text/plain": [
       "['KNN Regressor',\n",
       " 0.518057565553703,\n",
       " 144521.75537275063,\n",
       " 47341577183.70815,\n",
       " 217581.19676044653,\n",
       " 23.03]"
      ]
     },
     "execution_count": 112,
     "metadata": {},
     "output_type": "execute_result"
    }
   ],
   "source": [
    "KNN = ['KNN Regressor',knnr,MAEknn,MSEknn,RMSEknn,knnp]\n",
    "KNN"
   ]
  },
  {
   "cell_type": "markdown",
   "metadata": {},
   "source": [
    "#### > Decision Tree"
   ]
  },
  {
   "cell_type": "markdown",
   "metadata": {},
   "source": [
    "##### > Verificação dos resultados"
   ]
  },
  {
   "cell_type": "code",
   "execution_count": 113,
   "metadata": {},
   "outputs": [
    {
     "name": "stdout",
     "output_type": "stream",
     "text": [
      "R^2: 0.74 \n",
      "Mean Absolute error: 92926.2997429306\n",
      "Mean Squared error: 26014158130.09717\n",
      "Root Mean Squared Error: 161289.05148861522\n"
     ]
    }
   ],
   "source": [
    "dct = DecisionTreeRegressor(random_state=42)\n",
    "dct.fit(X_train, y_train)\n",
    "y_pred = dct.predict(X_test)\n",
    "dtr = r2_score(y_test, y_pred)\n",
    "MAEdt = mean_absolute_error(y_test, y_pred)\n",
    "MSEdt = mean_squared_error(y_test, y_pred)\n",
    "RMSEdt = np.sqrt(mean_squared_error(y_test, y_pred))\n",
    "print('R^2: %.2f ' % dtr)\n",
    "print('Mean Absolute error:', MAEdt)\n",
    "print('Mean Squared error:', MSEdt )\n",
    "print('Root Mean Squared Error:', RMSEdt )"
   ]
  },
  {
   "cell_type": "code",
   "execution_count": 114,
   "metadata": {},
   "outputs": [
    {
     "data": {
      "image/png": "[encoded data removed]",
      "text/plain": [
       "<Figure size 432x288 with 1 Axes>"
      ]
     },
     "metadata": {
      "needs_background": "light"
     },
     "output_type": "display_data"
    }
   ],
   "source": [
    "plt.scatter(y_test, y_pred)\n",
    "plt.xlabel('Preço')\n",
    "plt.ylabel('Previsão do Preço')\n",
    "plt.title('Preço vs Previsão do Preço')\n",
    "plt.show()"
   ]
  },
  {
   "cell_type": "code",
   "execution_count": 115,
   "metadata": {},
   "outputs": [
    {
     "data": {
      "text/plain": [
       "41.65"
      ]
     },
     "execution_count": 115,
     "metadata": {},
     "output_type": "execute_result"
    }
   ],
   "source": [
    "dtp = acc_reg(y_pred,y_test,0.1)\n",
    "dtp"
   ]
  },
  {
   "cell_type": "code",
   "execution_count": 116,
   "metadata": {},
   "outputs": [
    {
     "data": {
      "text/plain": [
       "['Decision Tree',\n",
       " 0.7351730245353025,\n",
       " 92926.2997429306,\n",
       " 26014158130.09717,\n",
       " 161289.05148861522,\n",
       " 41.65]"
      ]
     },
     "execution_count": 116,
     "metadata": {},
     "output_type": "execute_result"
    }
   ],
   "source": [
    "DT = ['Decision Tree',dtr,MAEdt,MSEdt,RMSEdt,dtp]\n",
    "DT"
   ]
  },
  {
   "cell_type": "markdown",
   "metadata": {},
   "source": [
    "#### > Random Forest"
   ]
  },
  {
   "cell_type": "markdown",
   "metadata": {},
   "source": [
    "##### > Verificação dos resultados"
   ]
  },
  {
   "cell_type": "code",
   "execution_count": 117,
   "metadata": {},
   "outputs": [
    {
     "name": "stdout",
     "output_type": "stream",
     "text": [
      "R^2: 0.87 \n",
      "Mean Absolute error: 64728.32106169666\n",
      "Mean Squared error: 13164807812.264921\n",
      "Root Mean Squared Error: 114737.99637550292\n"
     ]
    }
   ],
   "source": [
    "rft = RandomForestRegressor(n_estimators=100, random_state=26)\n",
    "rft.fit(X_train, y_train)\n",
    "y_pred = rft.predict(X_test)\n",
    "rfr = r2_score(y_test, y_pred)\n",
    "MAErf = mean_absolute_error(y_test, y_pred)\n",
    "MSErf = mean_squared_error(y_test, y_pred)\n",
    "RMSErf = np.sqrt(mean_squared_error(y_test, y_pred))\n",
    "print('R^2: %.2f ' % rfr)\n",
    "print('Mean Absolute error:', MAErf)\n",
    "print('Mean Squared error:', MSErf )\n",
    "print('Root Mean Squared Error:', RMSErf )"
   ]
  },
  {
   "cell_type": "code",
   "execution_count": 118,
   "metadata": {},
   "outputs": [
    {
     "data": {
      "image/png": "[encoded data removed]",
      "text/plain": [
       "<Figure size 432x288 with 1 Axes>"
      ]
     },
     "metadata": {
      "needs_background": "light"
     },
     "output_type": "display_data"
    }
   ],
   "source": [
    "plt.scatter(y_test, y_pred)\n",
    "plt.xlabel('Preço')\n",
    "plt.ylabel('Previsão do Preço')\n",
    "plt.title('Preço vs Previsão do Preço')\n",
    "plt.show()"
   ]
  },
  {
   "cell_type": "code",
   "execution_count": 119,
   "metadata": {},
   "outputs": [
    {
     "data": {
      "text/plain": [
       "56.32"
      ]
     },
     "execution_count": 119,
     "metadata": {},
     "output_type": "execute_result"
    }
   ],
   "source": [
    "rfp = acc_reg(y_pred,y_test,0.1)\n",
    "rfp"
   ]
  },
  {
   "cell_type": "code",
   "execution_count": 120,
   "metadata": {},
   "outputs": [
    {
     "data": {
      "text/plain": [
       "['Random Forest',\n",
       " 0.8659808163669713,\n",
       " 64728.32106169666,\n",
       " 13164807812.264921,\n",
       " 114737.99637550292,\n",
       " 56.32]"
      ]
     },
     "execution_count": 120,
     "metadata": {},
     "output_type": "execute_result"
    }
   ],
   "source": [
    "RF = ['Random Forest',rfr,MAErf,MSErf,RMSErf,rfp]\n",
    "RF"
   ]
  },
  {
   "cell_type": "markdown",
   "metadata": {},
   "source": [
    "#### > Bagging"
   ]
  },
  {
   "cell_type": "markdown",
   "metadata": {},
   "source": [
    "##### > Verificação dos resultados"
   ]
  },
  {
   "cell_type": "code",
   "execution_count": 121,
   "metadata": {},
   "outputs": [
    {
     "name": "stdout",
     "output_type": "stream",
     "text": [
      "R^2: 0.85 \n",
      "Mean Absolute error: 68970.19809768639\n",
      "Mean Squared error: 14746022412.591389\n",
      "Root Mean Squared Error: 121433.20144256837\n"
     ]
    }
   ],
   "source": [
    "bag_base = DecisionTreeRegressor(random_state=26)\n",
    "bag = BaggingRegressor(base_estimator=bag_base, n_estimators=10, random_state=26)\n",
    "bag.fit(X_train, y_train)\n",
    "y_pred = bag.predict(X_test)\n",
    "bagr = r2_score(y_test, y_pred)\n",
    "MAEbag = mean_absolute_error(y_test, y_pred)\n",
    "MSEbag = mean_squared_error(y_test, y_pred)\n",
    "RMSEbag = np.sqrt(mean_squared_error(y_test, y_pred))\n",
    "print('R^2: %.2f ' % bagr)\n",
    "print('Mean Absolute error:', MAEbag)\n",
    "print('Mean Squared error:', MSEbag )\n",
    "print('Root Mean Squared Error:', RMSEbag)"
   ]
  },
  {
   "cell_type": "code",
   "execution_count": 122,
   "metadata": {},
   "outputs": [
    {
     "data": {
      "image/png": "[encoded data removed]",
      "text/plain": [
       "<Figure size 432x288 with 1 Axes>"
      ]
     },
     "metadata": {
      "needs_background": "light"
     },
     "output_type": "display_data"
    }
   ],
   "source": [
    "plt.scatter(y_test, y_pred)\n",
    "plt.xlabel('Preço')\n",
    "plt.ylabel('Previsão do Preço')\n",
    "plt.title('Preço vs Previsão do Preço')\n",
    "plt.show()"
   ]
  },
  {
   "cell_type": "code",
   "execution_count": 123,
   "metadata": {},
   "outputs": [
    {
     "data": {
      "text/plain": [
       "53.29"
      ]
     },
     "execution_count": 123,
     "metadata": {},
     "output_type": "execute_result"
    }
   ],
   "source": [
    "bagp = acc_reg(y_pred,y_test,0.1)\n",
    "bagp"
   ]
  },
  {
   "cell_type": "code",
   "execution_count": 124,
   "metadata": {},
   "outputs": [
    {
     "data": {
      "text/plain": [
       "['Bagging',\n",
       " 0.8498838787658807,\n",
       " 68970.19809768639,\n",
       " 14746022412.591389,\n",
       " 121433.20144256837,\n",
       " 53.29]"
      ]
     },
     "execution_count": 124,
     "metadata": {},
     "output_type": "execute_result"
    }
   ],
   "source": [
    "BAG = ['Bagging',bagr,MAEbag,MSEbag,RMSEbag,bagp]\n",
    "BAG"
   ]
  },
  {
   "cell_type": "markdown",
   "metadata": {},
   "source": [
    "#### > Ensemble"
   ]
  },
  {
   "cell_type": "markdown",
   "metadata": {},
   "source": [
    "##### > Verificação dos resultados"
   ]
  },
  {
   "cell_type": "code",
   "execution_count": 125,
   "metadata": {},
   "outputs": [
    {
     "name": "stdout",
     "output_type": "stream",
     "text": [
      "R^2: 0.83 \n",
      "Mean Absolute error: 79634.46569725533\n",
      "Mean Squared error: 16610484296.605648\n",
      "Root Mean Squared Error: 128881.66780658004\n"
     ]
    }
   ],
   "source": [
    "rft2 = RandomForestRegressor(n_estimators=10, random_state=26)\n",
    "ens = VotingRegressor([('LR', lr), ('RF', rft2)])\n",
    "ens.fit(X_train, y_train)\n",
    "y_pred = ens.predict(X_test)\n",
    "ensr = r2_score(y_test, y_pred)\n",
    "MAEens = mean_absolute_error(y_test, y_pred)\n",
    "MSEens = mean_squared_error(y_test, y_pred)\n",
    "RMSEens = np.sqrt(mean_squared_error(y_test, y_pred))\n",
    "print('R^2: %.2f ' % ensr)\n",
    "print('Mean Absolute error:', MAEens)\n",
    "print('Mean Squared error:', MSEens )\n",
    "print('Root Mean Squared Error:', RMSEens)"
   ]
  },
  {
   "cell_type": "code",
   "execution_count": 126,
   "metadata": {},
   "outputs": [
    {
     "data": {
      "image/png": "[encoded data removed]",
      "text/plain": [
       "<Figure size 432x288 with 1 Axes>"
      ]
     },
     "metadata": {
      "needs_background": "light"
     },
     "output_type": "display_data"
    }
   ],
   "source": [
    "plt.scatter(y_test, y_pred)\n",
    "plt.xlabel('Preço')\n",
    "plt.ylabel('Previsão do Preço')\n",
    "plt.title('Preço vs Previsão do Preço')\n",
    "plt.show()"
   ]
  },
  {
   "cell_type": "code",
   "execution_count": 127,
   "metadata": {},
   "outputs": [
    {
     "data": {
      "text/plain": [
       "42.52"
      ]
     },
     "execution_count": 127,
     "metadata": {},
     "output_type": "execute_result"
    }
   ],
   "source": [
    "ensp = acc_reg(y_pred,y_test,0.1)\n",
    "ensp"
   ]
  },
  {
   "cell_type": "code",
   "execution_count": 128,
   "metadata": {},
   "outputs": [
    {
     "data": {
      "text/plain": [
       "['Ensemble',\n",
       " 0.8309034528323022,\n",
       " 79634.46569725533,\n",
       " 16610484296.605648,\n",
       " 128881.66780658004,\n",
       " 42.52]"
      ]
     },
     "execution_count": 128,
     "metadata": {},
     "output_type": "execute_result"
    }
   ],
   "source": [
    "ENS = ['Ensemble',ensr,MAEens,MSEens,RMSEens,ensp]\n",
    "ENS"
   ]
  },
  {
   "cell_type": "markdown",
   "metadata": {},
   "source": [
    "#### > Gradient Boosting Regressor"
   ]
  },
  {
   "cell_type": "markdown",
   "metadata": {},
   "source": [
    "##### > Verificação dos resultados"
   ]
  },
  {
   "cell_type": "code",
   "execution_count": 129,
   "metadata": {},
   "outputs": [
    {
     "name": "stdout",
     "output_type": "stream",
     "text": [
      "R^2: 0.89 \n",
      "Mean Absolute error: 60701.362512435524\n",
      "Mean Squared error: 11181357959.596449\n",
      "Root Mean Squared Error: 105741.94040018582\n"
     ]
    }
   ],
   "source": [
    "gbos = GradientBoostingRegressor(max_depth=7,random_state=42)\n",
    "gbos.fit(X_train, y_train)\n",
    "y_pred = gbos.predict(X_test)\n",
    "gbosr = r2_score(y_test, y_pred)\n",
    "MAEgbos = mean_absolute_error(y_test, y_pred)\n",
    "MSEgbos = mean_squared_error(y_test, y_pred)\n",
    "RMSEgbos = np.sqrt(mean_squared_error(y_test, y_pred))\n",
    "print('R^2: %.2f ' % gbosr)\n",
    "print('Mean Absolute error:', MAEgbos)\n",
    "print('Mean Squared error:', MSEgbos )\n",
    "print('Root Mean Squared Error:', RMSEgbos)"
   ]
  },
  {
   "cell_type": "code",
   "execution_count": 130,
   "metadata": {},
   "outputs": [
    {
     "data": {
      "image/png": "[encoded data removed]",
      "text/plain": [
       "<Figure size 432x288 with 1 Axes>"
      ]
     },
     "metadata": {
      "needs_background": "light"
     },
     "output_type": "display_data"
    }
   ],
   "source": [
    "plt.scatter(y_test, y_pred)\n",
    "plt.xlabel('Preço')\n",
    "plt.ylabel('Previsão do Preço')\n",
    "plt.title('Preço vs Previsão do Preço')\n",
    "plt.show()"
   ]
  },
  {
   "cell_type": "code",
   "execution_count": 131,
   "metadata": {},
   "outputs": [
    {
     "data": {
      "text/plain": [
       "57.12"
      ]
     },
     "execution_count": 131,
     "metadata": {},
     "output_type": "execute_result"
    }
   ],
   "source": [
    "gbosp = acc_reg(y_pred,y_test,0.1)\n",
    "gbosp"
   ]
  },
  {
   "cell_type": "code",
   "execution_count": 132,
   "metadata": {},
   "outputs": [
    {
     "data": {
      "text/plain": [
       "['Gradient Boosting',\n",
       " 0.8861725528375963,\n",
       " 60701.362512435524,\n",
       " 11181357959.596449,\n",
       " 105741.94040018582,\n",
       " 57.12]"
      ]
     },
     "execution_count": 132,
     "metadata": {},
     "output_type": "execute_result"
    }
   ],
   "source": [
    "GBOS = ['Gradient Boosting',gbosr,MAEgbos,MSEgbos,RMSEgbos,gbosp]\n",
    "GBOS"
   ]
  },
  {
   "cell_type": "markdown",
   "metadata": {},
   "source": [
    "#### > XGBoost Regressor"
   ]
  },
  {
   "cell_type": "markdown",
   "metadata": {},
   "source": [
    "##### > Verificação dos resultados"
   ]
  },
  {
   "cell_type": "code",
   "execution_count": 133,
   "metadata": {},
   "outputs": [
    {
     "name": "stdout",
     "output_type": "stream",
     "text": [
      "R^2: 0.88 \n",
      "Mean Absolute error: 64889.97992046915\n",
      "Mean Squared error: 11601379481.751278\n",
      "Root Mean Squared Error: 107709.70003556447\n"
     ]
    }
   ],
   "source": [
    "xgb = XGBRegressor(max_depth=4,random_state=42).fit(X_train, y_train)\n",
    "y_pred = xgb.predict(X_test)\n",
    "xgbr = r2_score(y_test, y_pred)\n",
    "MAExgb = mean_absolute_error(y_test, y_pred)\n",
    "MSExgb = mean_squared_error(y_test, y_pred)\n",
    "RMSExgb = np.sqrt(mean_squared_error(y_test, y_pred))\n",
    "print('R^2: %.2f ' % xgbr)\n",
    "print('Mean Absolute error:', MAExgb)\n",
    "print('Mean Squared error:', MSExgb )\n",
    "print('Root Mean Squared Error:', RMSExgb)"
   ]
  },
  {
   "cell_type": "code",
   "execution_count": 134,
   "metadata": {},
   "outputs": [
    {
     "data": {
      "image/png": "[encoded data removed]",
      "text/plain": [
       "<Figure size 432x288 with 1 Axes>"
      ]
     },
     "metadata": {
      "needs_background": "light"
     },
     "output_type": "display_data"
    }
   ],
   "source": [
    "plt.scatter(y_test, y_pred)\n",
    "plt.xlabel('Preço')\n",
    "plt.ylabel('Previsão do Preço')\n",
    "plt.title('Preço vs Previsão do Preço')\n",
    "plt.show()"
   ]
  },
  {
   "cell_type": "code",
   "execution_count": 135,
   "metadata": {},
   "outputs": [
    {
     "data": {
      "text/plain": [
       "53.19"
      ]
     },
     "execution_count": 135,
     "metadata": {},
     "output_type": "execute_result"
    }
   ],
   "source": [
    "xgbp = acc_reg(y_pred,y_test,0.1)\n",
    "xgbp"
   ]
  },
  {
   "cell_type": "code",
   "execution_count": 136,
   "metadata": {},
   "outputs": [
    {
     "data": {
      "text/plain": [
       "['XGBoost Regressor',\n",
       " 0.8818966877957194,\n",
       " 64889.97992046915,\n",
       " 11601379481.751278,\n",
       " 107709.70003556447,\n",
       " 53.19]"
      ]
     },
     "execution_count": 136,
     "metadata": {},
     "output_type": "execute_result"
    }
   ],
   "source": [
    "XGB = ['XGBoost Regressor',xgbr,MAExgb,MSExgb,RMSExgb,xgbp]\n",
    "XGB"
   ]
  },
  {
   "cell_type": "markdown",
   "metadata": {},
   "source": [
    "#### > OLS"
   ]
  },
  {
   "cell_type": "markdown",
   "metadata": {},
   "source": [
    "##### > Verificação dos resultados"
   ]
  },
  {
   "cell_type": "code",
   "execution_count": 137,
   "metadata": {},
   "outputs": [
    {
     "name": "stdout",
     "output_type": "stream",
     "text": [
      "                            OLS Regression Results                            \n",
      "==============================================================================\n",
      "Dep. Variable:                  price   R-squared:                       0.700\n",
      "Model:                            OLS   Adj. R-squared:                  0.700\n",
      "Method:                 Least Squares   F-statistic:                     2268.\n",
      "Date:                Thu, 08 Apr 2021   Prob (F-statistic):               0.00\n",
      "Time:                        17:02:29   Log-Likelihood:            -2.6207e+05\n",
      "No. Observations:               19450   AIC:                         5.242e+05\n",
      "Df Residuals:                   19429   BIC:                         5.244e+05\n",
      "Df Model:                          20                                         \n",
      "Covariance Type:            nonrobust                                         \n",
      "=================================================================================\n",
      "                    coef    std err          t      P>|t|      [0.025      0.975]\n",
      "---------------------------------------------------------------------------------\n",
      "Intercept     -5.811e+07   9.05e+06     -6.418      0.000   -7.59e+07   -4.04e+07\n",
      "day            -414.7326    143.928     -2.882      0.004    -696.845    -132.621\n",
      "month           429.4413    642.387      0.669      0.504    -829.693    1688.576\n",
      "year           2.849e+04   4281.745      6.653      0.000    2.01e+04    3.69e+04\n",
      "bedrooms       -2.92e+04   1870.465    -15.610      0.000   -3.29e+04   -2.55e+04\n",
      "bathrooms      3.438e+04   3037.286     11.319      0.000    2.84e+04    4.03e+04\n",
      "sqft_living      90.4384      2.291     39.475      0.000      85.948      94.929\n",
      "sqft_lot         -1.0463      0.343     -3.053      0.002      -1.718      -0.374\n",
      "floors         9963.6188   3568.931      2.792      0.005    2968.208     1.7e+04\n",
      "waterfront     5.493e+05   1.85e+04     29.736      0.000    5.13e+05    5.85e+05\n",
      "view           5.253e+04   2028.534     25.897      0.000    4.86e+04    5.65e+04\n",
      "condition      3.053e+04   2125.938     14.359      0.000    2.64e+04    3.47e+04\n",
      "grade          1.022e+05   2003.236     51.016      0.000    9.83e+04    1.06e+05\n",
      "sqft_above       58.7035      2.255     26.027      0.000      54.283      63.124\n",
      "sqft_basement    31.7007      2.558     12.392      0.000      26.687      36.715\n",
      "age_built      2538.2146     64.943     39.083      0.000    2410.920    2665.509\n",
      "yr_renovated     20.6807      3.377      6.124      0.000      14.062      27.299\n",
      "zipcode        -487.7573     29.569    -16.495      0.000    -545.715    -429.799\n",
      "lat            5.958e+05   9827.044     60.625      0.000    5.76e+05    6.15e+05\n",
      "long          -1.588e+05   1.25e+04    -12.712      0.000   -1.83e+05   -1.34e+05\n",
      "sqft_living15    38.3280      3.405     11.256      0.000      31.654      45.002\n",
      "sqft_lot15       -2.4334      0.580     -4.194      0.000      -3.571      -1.296\n",
      "==============================================================================\n",
      "Omnibus:                    11275.239   Durbin-Watson:                   1.977\n",
      "Prob(Omnibus):                  0.000   Jarque-Bera (JB):           249044.632\n",
      "Skew:                           2.357   Prob(JB):                         0.00\n",
      "Kurtosis:                      19.885   Cond. No.                     7.57e+17\n",
      "==============================================================================\n",
      "\n",
      "Notes:\n",
      "[1] Standard Errors assume that the covariance matrix of the errors is correctly specified.\n",
      "[2] The smallest eigenvalue is 3.31e-22. This might indicate that there are\n",
      "strong multicollinearity problems or that the design matrix is singular.\n"
     ]
    }
   ],
   "source": [
    "m=ols('price~day+month+year+bedrooms+bathrooms+sqft_living+sqft_lot+floors+waterfront+view+condition+grade+sqft_above+sqft_basement+age_built+yr_renovated+zipcode+lat+long+sqft_living15+sqft_lot15',df).fit()\n",
    "print(m.summary())"
   ]
  },
  {
   "cell_type": "code",
   "execution_count": 138,
   "metadata": {},
   "outputs": [
    {
     "data": {
      "text/html": [
       "<div>\n",
       "<style scoped>\n",
       "    .dataframe tbody tr th:only-of-type {\n",
       "        vertical-align: middle;\n",
       "    }\n",
       "\n",
       "    .dataframe tbody tr th {\n",
       "        vertical-align: top;\n",
       "    }\n",
       "\n",
       "    .dataframe thead th {\n",
       "        text-align: right;\n",
       "    }\n",
       "</style>\n",
       "<table border=\"1\" class=\"dataframe\">\n",
       "  <thead>\n",
       "    <tr style=\"text-align: right;\">\n",
       "      <th></th>\n",
       "      <th>TIPO</th>\n",
       "      <th>R²</th>\n",
       "      <th>MAE</th>\n",
       "      <th>MSE</th>\n",
       "      <th>RMSE</th>\n",
       "      <th>ACURACIA %</th>\n",
       "    </tr>\n",
       "  </thead>\n",
       "  <tbody>\n",
       "    <tr>\n",
       "      <th>0</th>\n",
       "      <td>LinearRegression</td>\n",
       "      <td>0.709134</td>\n",
       "      <td>112586.477540</td>\n",
       "      <td>2.857196e+10</td>\n",
       "      <td>169032.433289</td>\n",
       "      <td>29.79</td>\n",
       "    </tr>\n",
       "    <tr>\n",
       "      <th>1</th>\n",
       "      <td>KNN Regressor</td>\n",
       "      <td>0.518058</td>\n",
       "      <td>144521.755373</td>\n",
       "      <td>4.734158e+10</td>\n",
       "      <td>217581.196760</td>\n",
       "      <td>23.03</td>\n",
       "    </tr>\n",
       "    <tr>\n",
       "      <th>2</th>\n",
       "      <td>Decision Tree</td>\n",
       "      <td>0.735173</td>\n",
       "      <td>92926.299743</td>\n",
       "      <td>2.601416e+10</td>\n",
       "      <td>161289.051489</td>\n",
       "      <td>41.65</td>\n",
       "    </tr>\n",
       "    <tr>\n",
       "      <th>3</th>\n",
       "      <td>Random Forest</td>\n",
       "      <td>0.865981</td>\n",
       "      <td>64728.321062</td>\n",
       "      <td>1.316481e+10</td>\n",
       "      <td>114737.996376</td>\n",
       "      <td>56.32</td>\n",
       "    </tr>\n",
       "    <tr>\n",
       "      <th>4</th>\n",
       "      <td>Bagging</td>\n",
       "      <td>0.849884</td>\n",
       "      <td>68970.198098</td>\n",
       "      <td>1.474602e+10</td>\n",
       "      <td>121433.201443</td>\n",
       "      <td>53.29</td>\n",
       "    </tr>\n",
       "    <tr>\n",
       "      <th>5</th>\n",
       "      <td>Ensemble</td>\n",
       "      <td>0.830903</td>\n",
       "      <td>79634.465697</td>\n",
       "      <td>1.661048e+10</td>\n",
       "      <td>128881.667807</td>\n",
       "      <td>42.52</td>\n",
       "    </tr>\n",
       "    <tr>\n",
       "      <th>6</th>\n",
       "      <td>Gradient Boosting</td>\n",
       "      <td>0.886173</td>\n",
       "      <td>60701.362512</td>\n",
       "      <td>1.118136e+10</td>\n",
       "      <td>105741.940400</td>\n",
       "      <td>57.12</td>\n",
       "    </tr>\n",
       "    <tr>\n",
       "      <th>7</th>\n",
       "      <td>XGBoost Regressor</td>\n",
       "      <td>0.881897</td>\n",
       "      <td>64889.979920</td>\n",
       "      <td>1.160138e+10</td>\n",
       "      <td>107709.700036</td>\n",
       "      <td>53.19</td>\n",
       "    </tr>\n",
       "  </tbody>\n",
       "</table>\n",
       "</div>"
      ],
      "text/plain": [
       "                TIPO        R²            MAE           MSE           RMSE  \\\n",
       "0   LinearRegression  0.709134  112586.477540  2.857196e+10  169032.433289   \n",
       "1      KNN Regressor  0.518058  144521.755373  4.734158e+10  217581.196760   \n",
       "2      Decision Tree  0.735173   92926.299743  2.601416e+10  161289.051489   \n",
       "3      Random Forest  0.865981   64728.321062  1.316481e+10  114737.996376   \n",
       "4            Bagging  0.849884   68970.198098  1.474602e+10  121433.201443   \n",
       "5           Ensemble  0.830903   79634.465697  1.661048e+10  128881.667807   \n",
       "6  Gradient Boosting  0.886173   60701.362512  1.118136e+10  105741.940400   \n",
       "7  XGBoost Regressor  0.881897   64889.979920  1.160138e+10  107709.700036   \n",
       "\n",
       "   ACURACIA %  \n",
       "0       29.79  \n",
       "1       23.03  \n",
       "2       41.65  \n",
       "3       56.32  \n",
       "4       53.29  \n",
       "5       42.52  \n",
       "6       57.12  \n",
       "7       53.19  "
      ]
     },
     "execution_count": 138,
     "metadata": {},
     "output_type": "execute_result"
    }
   ],
   "source": [
    "Qua = pd.DataFrame([Linear,KNN,DT,RF,BAG,ENS,GBOS,XGB],columns=['TIPO','R²','MAE','MSE','RMSE','ACURACIA %'])\n",
    "Qua"
   ]
  }
 ],
 "metadata": {
  "kernelspec": {
   "display_name": "Python 3",
   "language": "python",
   "name": "python3"
  },
  "language_info": {
   "codemirror_mode": {
    "name": "ipython",
    "version": 3
   },
   "file_extension": ".py",
   "mimetype": "text/x-python",
   "name": "python",
   "nbconvert_exporter": "python",
   "pygments_lexer": "ipython3",
   "version": "3.8.5"
  }
 },
 "nbformat": 4,
 "nbformat_minor": 4
}
