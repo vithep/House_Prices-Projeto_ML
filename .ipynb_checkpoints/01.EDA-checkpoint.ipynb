{
 "cells": [
  {
   "cell_type": "markdown",
   "metadata": {},
   "source": [
    "# House Price - Linear Regression"
   ]
  },
  {
   "cell_type": "markdown",
   "metadata": {},
   "source": [
    "## Parte 01 - EDA"
   ]
  },
  {
   "cell_type": "markdown",
   "metadata": {},
   "source": [
    "#### > Importação das Bibliotecas"
   ]
  },
  {
   "cell_type": "markdown",
   "metadata": {},
   "source": [
    "Download da Biblioteca **Missingno**"
   ]
  },
  {
   "cell_type": "code",
   "execution_count": 2,
   "metadata": {},
   "outputs": [
    {
     "name": "stdout",
     "output_type": "stream",
     "text": [
      "^C\n",
      "\n",
      "Note: you may need to restart the kernel to use updated packages.\n"
     ]
    }
   ],
   "source": [
    "conda install -c conda-forge/label/gcc7 missingno"
   ]
  },
  {
   "cell_type": "code",
   "execution_count": 1,
   "metadata": {},
   "outputs": [],
   "source": [
    "import matplotlib.pyplot as plt\n",
    "#import missingno as msno\n",
    "import numpy as np\n",
    "import pandas as pd\n",
    "import seaborn as sns"
   ]
  },
  {
   "cell_type": "markdown",
   "metadata": {},
   "source": [
    "#### > Carregamento do Dataset"
   ]
  },
  {
   "cell_type": "markdown",
   "metadata": {},
   "source": [
    "Carregamento do dataset **'kc_house_data.csv'**. O comando 'set_option' permite que a tabela seja apresentada sem simplicação "
   ]
  },
  {
   "cell_type": "code",
   "execution_count": 2,
   "metadata": {},
   "outputs": [],
   "source": [
    "df = pd.read_csv('kc_house_data.csv')\n",
    "pd.set_option('max_columns', None)"
   ]
  },
  {
   "cell_type": "markdown",
   "metadata": {},
   "source": [
    "#### Legenda"
   ]
  },
  {
   "cell_type": "markdown",
   "metadata": {},
   "source": [
    "**id** - ID \\\n",
    "**date** - Dia da Venda \\\n",
    "**price** - Preço da Venda \\\n",
    "**bedrooms** - Número de quartos \\\n",
    "**bathrooms** - Número de banheiros, onde 0,5 corresponde a um lavabo \\\n",
    "**sqft_living** - Metragem quadrada da área interna \\\n",
    "**sqft_lot** - Metragem quadrada do Terreno \\\n",
    "**floors** - Número de andares \\\n",
    "**waterfront** - Se a casa é de frente para o mar \\\n",
    "**view** - Um índice de 0 a 4 de qualidade da vista \\\n",
    "**condition** - Um índice de 1 a 5 sobre a condição da casa \\\n",
    "**grade** - Um índice de 1 a 13, onde 1-3 tem uma construção e design do edifício de baixa qualidade, 7 tem um nível médio de construção e design e 11-13 tem um nível de construção e design de alta qualidade \\\n",
    "**sqft_above** - A metragem quadrada do espaço habitacional interior que está acima do nível do solo \\\n",
    "**sqft_basement** - A metragem quadrada do espaço habitacional interior que está abaixo do nível do solo \\\n",
    "**yr_built** - Ano de Construção \\\n",
    "**yr_renovated** - Ano de Reforma \\\n",
    "**zipcode** - Código Postal \\\n",
    "**lat** - Latitude \\\n",
    "**long** - Longitude \\\n",
    "**sqft_living15** - A metragem quadrada do espaço interno da casa para os 15 vizinhos mais próximos \\\n",
    "**sqft_lot15** - A metragem quadrada dos lotes de terreno dos 15 vizinhos mais próximos "
   ]
  },
  {
   "cell_type": "markdown",
   "metadata": {},
   "source": [
    "#### > Verificação do Dataset"
   ]
  },
  {
   "cell_type": "markdown",
   "metadata": {},
   "source": [
    "Verificação do tamanho do Dataset"
   ]
  },
  {
   "cell_type": "code",
   "execution_count": 3,
   "metadata": {},
   "outputs": [
    {
     "data": {
      "text/plain": [
       "(21613, 21)"
      ]
     },
     "execution_count": 3,
     "metadata": {},
     "output_type": "execute_result"
    }
   ],
   "source": [
    "df.shape"
   ]
  },
  {
   "cell_type": "markdown",
   "metadata": {},
   "source": [
    "Features do modelo"
   ]
  },
  {
   "cell_type": "code",
   "execution_count": 4,
   "metadata": {},
   "outputs": [
    {
     "data": {
      "text/plain": [
       "Index(['id', 'date', 'price', 'bedrooms', 'bathrooms', 'sqft_living',\n",
       "       'sqft_lot', 'floors', 'waterfront', 'view', 'condition', 'grade',\n",
       "       'sqft_above', 'sqft_basement', 'yr_built', 'yr_renovated', 'zipcode',\n",
       "       'lat', 'long', 'sqft_living15', 'sqft_lot15'],\n",
       "      dtype='object')"
      ]
     },
     "execution_count": 4,
     "metadata": {},
     "output_type": "execute_result"
    }
   ],
   "source": [
    "df.columns"
   ]
  },
  {
   "cell_type": "markdown",
   "metadata": {},
   "source": [
    "Verificando as informações do Dataset"
   ]
  },
  {
   "cell_type": "code",
   "execution_count": 5,
   "metadata": {},
   "outputs": [
    {
     "name": "stdout",
     "output_type": "stream",
     "text": [
      "<class 'pandas.core.frame.DataFrame'>\n",
      "RangeIndex: 21613 entries, 0 to 21612\n",
      "Data columns (total 21 columns):\n",
      " #   Column         Non-Null Count  Dtype  \n",
      "---  ------         --------------  -----  \n",
      " 0   id             21613 non-null  int64  \n",
      " 1   date           21613 non-null  object \n",
      " 2   price          21613 non-null  float64\n",
      " 3   bedrooms       21613 non-null  int64  \n",
      " 4   bathrooms      21613 non-null  float64\n",
      " 5   sqft_living    21613 non-null  int64  \n",
      " 6   sqft_lot       21613 non-null  int64  \n",
      " 7   floors         21613 non-null  float64\n",
      " 8   waterfront     21613 non-null  int64  \n",
      " 9   view           21613 non-null  int64  \n",
      " 10  condition      21613 non-null  int64  \n",
      " 11  grade          21613 non-null  int64  \n",
      " 12  sqft_above     21613 non-null  int64  \n",
      " 13  sqft_basement  21613 non-null  int64  \n",
      " 14  yr_built       21613 non-null  int64  \n",
      " 15  yr_renovated   21613 non-null  int64  \n",
      " 16  zipcode        21613 non-null  int64  \n",
      " 17  lat            21613 non-null  float64\n",
      " 18  long           21613 non-null  float64\n",
      " 19  sqft_living15  21613 non-null  int64  \n",
      " 20  sqft_lot15     21613 non-null  int64  \n",
      "dtypes: float64(5), int64(15), object(1)\n",
      "memory usage: 3.5+ MB\n"
     ]
    }
   ],
   "source": [
    "df.info()"
   ]
  },
  {
   "cell_type": "markdown",
   "metadata": {},
   "source": [
    "Nessa primeira informação, podemos ver que o nosso dataset se encontra sem valores nulo, isso pode ser percebido pela presença de valores iguais em todas as features."
   ]
  },
  {
   "cell_type": "markdown",
   "metadata": {},
   "source": [
    "Avaliando o dataset de forma aleatória"
   ]
  },
  {
   "cell_type": "code",
   "execution_count": 6,
   "metadata": {},
   "outputs": [
    {
     "data": {
      "text/html": [
       "<div>\n",
       "<style scoped>\n",
       "    .dataframe tbody tr th:only-of-type {\n",
       "        vertical-align: middle;\n",
       "    }\n",
       "\n",
       "    .dataframe tbody tr th {\n",
       "        vertical-align: top;\n",
       "    }\n",
       "\n",
       "    .dataframe thead th {\n",
       "        text-align: right;\n",
       "    }\n",
       "</style>\n",
       "<table border=\"1\" class=\"dataframe\">\n",
       "  <thead>\n",
       "    <tr style=\"text-align: right;\">\n",
       "      <th></th>\n",
       "      <th>id</th>\n",
       "      <th>date</th>\n",
       "      <th>price</th>\n",
       "      <th>bedrooms</th>\n",
       "      <th>bathrooms</th>\n",
       "      <th>sqft_living</th>\n",
       "      <th>sqft_lot</th>\n",
       "      <th>floors</th>\n",
       "      <th>waterfront</th>\n",
       "      <th>view</th>\n",
       "      <th>condition</th>\n",
       "      <th>grade</th>\n",
       "      <th>sqft_above</th>\n",
       "      <th>sqft_basement</th>\n",
       "      <th>yr_built</th>\n",
       "      <th>yr_renovated</th>\n",
       "      <th>zipcode</th>\n",
       "      <th>lat</th>\n",
       "      <th>long</th>\n",
       "      <th>sqft_living15</th>\n",
       "      <th>sqft_lot15</th>\n",
       "    </tr>\n",
       "  </thead>\n",
       "  <tbody>\n",
       "    <tr>\n",
       "      <th>10804</th>\n",
       "      <td>269000030</td>\n",
       "      <td>20140825T000000</td>\n",
       "      <td>976000.0</td>\n",
       "      <td>4</td>\n",
       "      <td>1.50</td>\n",
       "      <td>3120</td>\n",
       "      <td>7680</td>\n",
       "      <td>1.0</td>\n",
       "      <td>0</td>\n",
       "      <td>3</td>\n",
       "      <td>3</td>\n",
       "      <td>8</td>\n",
       "      <td>1660</td>\n",
       "      <td>1460</td>\n",
       "      <td>1956</td>\n",
       "      <td>0</td>\n",
       "      <td>98199</td>\n",
       "      <td>47.6460</td>\n",
       "      <td>-122.390</td>\n",
       "      <td>2900</td>\n",
       "      <td>7680</td>\n",
       "    </tr>\n",
       "    <tr>\n",
       "      <th>11706</th>\n",
       "      <td>5602000105</td>\n",
       "      <td>20140721T000000</td>\n",
       "      <td>265000.0</td>\n",
       "      <td>3</td>\n",
       "      <td>1.50</td>\n",
       "      <td>1560</td>\n",
       "      <td>10489</td>\n",
       "      <td>1.0</td>\n",
       "      <td>0</td>\n",
       "      <td>0</td>\n",
       "      <td>5</td>\n",
       "      <td>7</td>\n",
       "      <td>1560</td>\n",
       "      <td>0</td>\n",
       "      <td>1961</td>\n",
       "      <td>0</td>\n",
       "      <td>98022</td>\n",
       "      <td>47.2048</td>\n",
       "      <td>-121.999</td>\n",
       "      <td>1400</td>\n",
       "      <td>10489</td>\n",
       "    </tr>\n",
       "    <tr>\n",
       "      <th>2847</th>\n",
       "      <td>1723099031</td>\n",
       "      <td>20141020T000000</td>\n",
       "      <td>724950.0</td>\n",
       "      <td>4</td>\n",
       "      <td>3.50</td>\n",
       "      <td>3010</td>\n",
       "      <td>174240</td>\n",
       "      <td>2.0</td>\n",
       "      <td>0</td>\n",
       "      <td>0</td>\n",
       "      <td>3</td>\n",
       "      <td>9</td>\n",
       "      <td>3010</td>\n",
       "      <td>0</td>\n",
       "      <td>2004</td>\n",
       "      <td>0</td>\n",
       "      <td>98045</td>\n",
       "      <td>47.4775</td>\n",
       "      <td>-121.691</td>\n",
       "      <td>2720</td>\n",
       "      <td>247856</td>\n",
       "    </tr>\n",
       "    <tr>\n",
       "      <th>20848</th>\n",
       "      <td>7967000270</td>\n",
       "      <td>20141125T000000</td>\n",
       "      <td>353000.0</td>\n",
       "      <td>4</td>\n",
       "      <td>2.50</td>\n",
       "      <td>1912</td>\n",
       "      <td>5000</td>\n",
       "      <td>2.0</td>\n",
       "      <td>0</td>\n",
       "      <td>0</td>\n",
       "      <td>3</td>\n",
       "      <td>8</td>\n",
       "      <td>1912</td>\n",
       "      <td>0</td>\n",
       "      <td>2012</td>\n",
       "      <td>0</td>\n",
       "      <td>98001</td>\n",
       "      <td>47.3511</td>\n",
       "      <td>-122.275</td>\n",
       "      <td>2020</td>\n",
       "      <td>5000</td>\n",
       "    </tr>\n",
       "    <tr>\n",
       "      <th>5966</th>\n",
       "      <td>1795920250</td>\n",
       "      <td>20150227T000000</td>\n",
       "      <td>637000.0</td>\n",
       "      <td>3</td>\n",
       "      <td>2.25</td>\n",
       "      <td>2200</td>\n",
       "      <td>7355</td>\n",
       "      <td>2.0</td>\n",
       "      <td>0</td>\n",
       "      <td>0</td>\n",
       "      <td>4</td>\n",
       "      <td>8</td>\n",
       "      <td>2200</td>\n",
       "      <td>0</td>\n",
       "      <td>1986</td>\n",
       "      <td>0</td>\n",
       "      <td>98052</td>\n",
       "      <td>47.7266</td>\n",
       "      <td>-122.103</td>\n",
       "      <td>2290</td>\n",
       "      <td>7868</td>\n",
       "    </tr>\n",
       "  </tbody>\n",
       "</table>\n",
       "</div>"
      ],
      "text/plain": [
       "               id             date     price  bedrooms  bathrooms  \\\n",
       "10804   269000030  20140825T000000  976000.0         4       1.50   \n",
       "11706  5602000105  20140721T000000  265000.0         3       1.50   \n",
       "2847   1723099031  20141020T000000  724950.0         4       3.50   \n",
       "20848  7967000270  20141125T000000  353000.0         4       2.50   \n",
       "5966   1795920250  20150227T000000  637000.0         3       2.25   \n",
       "\n",
       "       sqft_living  sqft_lot  floors  waterfront  view  condition  grade  \\\n",
       "10804         3120      7680     1.0           0     3          3      8   \n",
       "11706         1560     10489     1.0           0     0          5      7   \n",
       "2847          3010    174240     2.0           0     0          3      9   \n",
       "20848         1912      5000     2.0           0     0          3      8   \n",
       "5966          2200      7355     2.0           0     0          4      8   \n",
       "\n",
       "       sqft_above  sqft_basement  yr_built  yr_renovated  zipcode      lat  \\\n",
       "10804        1660           1460      1956             0    98199  47.6460   \n",
       "11706        1560              0      1961             0    98022  47.2048   \n",
       "2847         3010              0      2004             0    98045  47.4775   \n",
       "20848        1912              0      2012             0    98001  47.3511   \n",
       "5966         2200              0      1986             0    98052  47.7266   \n",
       "\n",
       "          long  sqft_living15  sqft_lot15  \n",
       "10804 -122.390           2900        7680  \n",
       "11706 -121.999           1400       10489  \n",
       "2847  -121.691           2720      247856  \n",
       "20848 -122.275           2020        5000  \n",
       "5966  -122.103           2290        7868  "
      ]
     },
     "execution_count": 6,
     "metadata": {},
     "output_type": "execute_result"
    }
   ],
   "source": [
    "df.sample(5)"
   ]
  },
  {
   "cell_type": "markdown",
   "metadata": {},
   "source": [
    "Verificando a existencia de dados duplicados na coluna **'ID'**"
   ]
  },
  {
   "cell_type": "code",
   "execution_count": 7,
   "metadata": {},
   "outputs": [
    {
     "data": {
      "text/plain": [
       "id               21436\n",
       "date               372\n",
       "price             4028\n",
       "bedrooms            13\n",
       "bathrooms           30\n",
       "sqft_living       1038\n",
       "sqft_lot          9782\n",
       "floors               6\n",
       "waterfront           2\n",
       "view                 5\n",
       "condition            5\n",
       "grade               12\n",
       "sqft_above         946\n",
       "sqft_basement      306\n",
       "yr_built           116\n",
       "yr_renovated        70\n",
       "zipcode             70\n",
       "lat               5034\n",
       "long               752\n",
       "sqft_living15      777\n",
       "sqft_lot15        8689\n",
       "dtype: int64"
      ]
     },
     "execution_count": 7,
     "metadata": {},
     "output_type": "execute_result"
    }
   ],
   "source": [
    "df.nunique()"
   ]
  },
  {
   "cell_type": "markdown",
   "metadata": {},
   "source": [
    "Como podemos avaliar, o **'ID'** não apresenta valores unicos para o df, com isso, não podemos usar ele como index. Assim sendo, decidi retirar essa feature do nosso dataset"
   ]
  },
  {
   "cell_type": "code",
   "execution_count": 8,
   "metadata": {},
   "outputs": [],
   "source": [
    "df.drop(['id'],axis=1,inplace=True)"
   ]
  },
  {
   "cell_type": "code",
   "execution_count": 9,
   "metadata": {},
   "outputs": [
    {
     "data": {
      "text/html": [
       "<div>\n",
       "<style scoped>\n",
       "    .dataframe tbody tr th:only-of-type {\n",
       "        vertical-align: middle;\n",
       "    }\n",
       "\n",
       "    .dataframe tbody tr th {\n",
       "        vertical-align: top;\n",
       "    }\n",
       "\n",
       "    .dataframe thead th {\n",
       "        text-align: right;\n",
       "    }\n",
       "</style>\n",
       "<table border=\"1\" class=\"dataframe\">\n",
       "  <thead>\n",
       "    <tr style=\"text-align: right;\">\n",
       "      <th></th>\n",
       "      <th>price</th>\n",
       "      <th>bedrooms</th>\n",
       "      <th>bathrooms</th>\n",
       "      <th>sqft_living</th>\n",
       "      <th>sqft_lot</th>\n",
       "      <th>floors</th>\n",
       "      <th>waterfront</th>\n",
       "      <th>view</th>\n",
       "      <th>condition</th>\n",
       "      <th>grade</th>\n",
       "      <th>sqft_above</th>\n",
       "      <th>sqft_basement</th>\n",
       "      <th>yr_built</th>\n",
       "      <th>yr_renovated</th>\n",
       "      <th>zipcode</th>\n",
       "      <th>lat</th>\n",
       "      <th>long</th>\n",
       "      <th>sqft_living15</th>\n",
       "      <th>sqft_lot15</th>\n",
       "    </tr>\n",
       "  </thead>\n",
       "  <tbody>\n",
       "    <tr>\n",
       "      <th>count</th>\n",
       "      <td>21613.00000</td>\n",
       "      <td>21613.00000</td>\n",
       "      <td>21613.00000</td>\n",
       "      <td>21613.00000</td>\n",
       "      <td>21613.00000</td>\n",
       "      <td>21613.00000</td>\n",
       "      <td>21613.00000</td>\n",
       "      <td>21613.00000</td>\n",
       "      <td>21613.00000</td>\n",
       "      <td>21613.00000</td>\n",
       "      <td>21613.00000</td>\n",
       "      <td>21613.00000</td>\n",
       "      <td>21613.00000</td>\n",
       "      <td>21613.00000</td>\n",
       "      <td>21613.00000</td>\n",
       "      <td>21613.00000</td>\n",
       "      <td>21613.00000</td>\n",
       "      <td>21613.00000</td>\n",
       "      <td>21613.00000</td>\n",
       "    </tr>\n",
       "    <tr>\n",
       "      <th>mean</th>\n",
       "      <td>540088.14177</td>\n",
       "      <td>3.37084</td>\n",
       "      <td>2.11476</td>\n",
       "      <td>2079.89974</td>\n",
       "      <td>15106.96757</td>\n",
       "      <td>1.49431</td>\n",
       "      <td>0.00754</td>\n",
       "      <td>0.23430</td>\n",
       "      <td>3.40943</td>\n",
       "      <td>7.65687</td>\n",
       "      <td>1788.39069</td>\n",
       "      <td>291.50905</td>\n",
       "      <td>1971.00514</td>\n",
       "      <td>84.40226</td>\n",
       "      <td>98077.93980</td>\n",
       "      <td>47.56005</td>\n",
       "      <td>-122.21390</td>\n",
       "      <td>1986.55249</td>\n",
       "      <td>12768.45565</td>\n",
       "    </tr>\n",
       "    <tr>\n",
       "      <th>std</th>\n",
       "      <td>367127.19648</td>\n",
       "      <td>0.93006</td>\n",
       "      <td>0.77016</td>\n",
       "      <td>918.44090</td>\n",
       "      <td>41420.51152</td>\n",
       "      <td>0.53999</td>\n",
       "      <td>0.08652</td>\n",
       "      <td>0.76632</td>\n",
       "      <td>0.65074</td>\n",
       "      <td>1.17546</td>\n",
       "      <td>828.09098</td>\n",
       "      <td>442.57504</td>\n",
       "      <td>29.37341</td>\n",
       "      <td>401.67924</td>\n",
       "      <td>53.50503</td>\n",
       "      <td>0.13856</td>\n",
       "      <td>0.14083</td>\n",
       "      <td>685.39130</td>\n",
       "      <td>27304.17963</td>\n",
       "    </tr>\n",
       "    <tr>\n",
       "      <th>min</th>\n",
       "      <td>75000.00000</td>\n",
       "      <td>0.00000</td>\n",
       "      <td>0.00000</td>\n",
       "      <td>290.00000</td>\n",
       "      <td>520.00000</td>\n",
       "      <td>1.00000</td>\n",
       "      <td>0.00000</td>\n",
       "      <td>0.00000</td>\n",
       "      <td>1.00000</td>\n",
       "      <td>1.00000</td>\n",
       "      <td>290.00000</td>\n",
       "      <td>0.00000</td>\n",
       "      <td>1900.00000</td>\n",
       "      <td>0.00000</td>\n",
       "      <td>98001.00000</td>\n",
       "      <td>47.15590</td>\n",
       "      <td>-122.51900</td>\n",
       "      <td>399.00000</td>\n",
       "      <td>651.00000</td>\n",
       "    </tr>\n",
       "    <tr>\n",
       "      <th>25%</th>\n",
       "      <td>321950.00000</td>\n",
       "      <td>3.00000</td>\n",
       "      <td>1.75000</td>\n",
       "      <td>1427.00000</td>\n",
       "      <td>5040.00000</td>\n",
       "      <td>1.00000</td>\n",
       "      <td>0.00000</td>\n",
       "      <td>0.00000</td>\n",
       "      <td>3.00000</td>\n",
       "      <td>7.00000</td>\n",
       "      <td>1190.00000</td>\n",
       "      <td>0.00000</td>\n",
       "      <td>1951.00000</td>\n",
       "      <td>0.00000</td>\n",
       "      <td>98033.00000</td>\n",
       "      <td>47.47100</td>\n",
       "      <td>-122.32800</td>\n",
       "      <td>1490.00000</td>\n",
       "      <td>5100.00000</td>\n",
       "    </tr>\n",
       "    <tr>\n",
       "      <th>50%</th>\n",
       "      <td>450000.00000</td>\n",
       "      <td>3.00000</td>\n",
       "      <td>2.25000</td>\n",
       "      <td>1910.00000</td>\n",
       "      <td>7618.00000</td>\n",
       "      <td>1.50000</td>\n",
       "      <td>0.00000</td>\n",
       "      <td>0.00000</td>\n",
       "      <td>3.00000</td>\n",
       "      <td>7.00000</td>\n",
       "      <td>1560.00000</td>\n",
       "      <td>0.00000</td>\n",
       "      <td>1975.00000</td>\n",
       "      <td>0.00000</td>\n",
       "      <td>98065.00000</td>\n",
       "      <td>47.57180</td>\n",
       "      <td>-122.23000</td>\n",
       "      <td>1840.00000</td>\n",
       "      <td>7620.00000</td>\n",
       "    </tr>\n",
       "    <tr>\n",
       "      <th>75%</th>\n",
       "      <td>645000.00000</td>\n",
       "      <td>4.00000</td>\n",
       "      <td>2.50000</td>\n",
       "      <td>2550.00000</td>\n",
       "      <td>10688.00000</td>\n",
       "      <td>2.00000</td>\n",
       "      <td>0.00000</td>\n",
       "      <td>0.00000</td>\n",
       "      <td>4.00000</td>\n",
       "      <td>8.00000</td>\n",
       "      <td>2210.00000</td>\n",
       "      <td>560.00000</td>\n",
       "      <td>1997.00000</td>\n",
       "      <td>0.00000</td>\n",
       "      <td>98118.00000</td>\n",
       "      <td>47.67800</td>\n",
       "      <td>-122.12500</td>\n",
       "      <td>2360.00000</td>\n",
       "      <td>10083.00000</td>\n",
       "    </tr>\n",
       "    <tr>\n",
       "      <th>max</th>\n",
       "      <td>7700000.00000</td>\n",
       "      <td>33.00000</td>\n",
       "      <td>8.00000</td>\n",
       "      <td>13540.00000</td>\n",
       "      <td>1651359.00000</td>\n",
       "      <td>3.50000</td>\n",
       "      <td>1.00000</td>\n",
       "      <td>4.00000</td>\n",
       "      <td>5.00000</td>\n",
       "      <td>13.00000</td>\n",
       "      <td>9410.00000</td>\n",
       "      <td>4820.00000</td>\n",
       "      <td>2015.00000</td>\n",
       "      <td>2015.00000</td>\n",
       "      <td>98199.00000</td>\n",
       "      <td>47.77760</td>\n",
       "      <td>-121.31500</td>\n",
       "      <td>6210.00000</td>\n",
       "      <td>871200.00000</td>\n",
       "    </tr>\n",
       "  </tbody>\n",
       "</table>\n",
       "</div>"
      ],
      "text/plain": [
       "               price     bedrooms    bathrooms  sqft_living       sqft_lot  \\\n",
       "count    21613.00000  21613.00000  21613.00000  21613.00000    21613.00000   \n",
       "mean    540088.14177      3.37084      2.11476   2079.89974    15106.96757   \n",
       "std     367127.19648      0.93006      0.77016    918.44090    41420.51152   \n",
       "min      75000.00000      0.00000      0.00000    290.00000      520.00000   \n",
       "25%     321950.00000      3.00000      1.75000   1427.00000     5040.00000   \n",
       "50%     450000.00000      3.00000      2.25000   1910.00000     7618.00000   \n",
       "75%     645000.00000      4.00000      2.50000   2550.00000    10688.00000   \n",
       "max    7700000.00000     33.00000      8.00000  13540.00000  1651359.00000   \n",
       "\n",
       "            floors   waterfront         view    condition        grade  \\\n",
       "count  21613.00000  21613.00000  21613.00000  21613.00000  21613.00000   \n",
       "mean       1.49431      0.00754      0.23430      3.40943      7.65687   \n",
       "std        0.53999      0.08652      0.76632      0.65074      1.17546   \n",
       "min        1.00000      0.00000      0.00000      1.00000      1.00000   \n",
       "25%        1.00000      0.00000      0.00000      3.00000      7.00000   \n",
       "50%        1.50000      0.00000      0.00000      3.00000      7.00000   \n",
       "75%        2.00000      0.00000      0.00000      4.00000      8.00000   \n",
       "max        3.50000      1.00000      4.00000      5.00000     13.00000   \n",
       "\n",
       "        sqft_above sqft_basement     yr_built yr_renovated      zipcode  \\\n",
       "count  21613.00000   21613.00000  21613.00000  21613.00000  21613.00000   \n",
       "mean    1788.39069     291.50905   1971.00514     84.40226  98077.93980   \n",
       "std      828.09098     442.57504     29.37341    401.67924     53.50503   \n",
       "min      290.00000       0.00000   1900.00000      0.00000  98001.00000   \n",
       "25%     1190.00000       0.00000   1951.00000      0.00000  98033.00000   \n",
       "50%     1560.00000       0.00000   1975.00000      0.00000  98065.00000   \n",
       "75%     2210.00000     560.00000   1997.00000      0.00000  98118.00000   \n",
       "max     9410.00000    4820.00000   2015.00000   2015.00000  98199.00000   \n",
       "\n",
       "               lat         long sqft_living15    sqft_lot15  \n",
       "count  21613.00000  21613.00000   21613.00000   21613.00000  \n",
       "mean      47.56005   -122.21390    1986.55249   12768.45565  \n",
       "std        0.13856      0.14083     685.39130   27304.17963  \n",
       "min       47.15590   -122.51900     399.00000     651.00000  \n",
       "25%       47.47100   -122.32800    1490.00000    5100.00000  \n",
       "50%       47.57180   -122.23000    1840.00000    7620.00000  \n",
       "75%       47.67800   -122.12500    2360.00000   10083.00000  \n",
       "max       47.77760   -121.31500    6210.00000  871200.00000  "
      ]
     },
     "execution_count": 9,
     "metadata": {},
     "output_type": "execute_result"
    }
   ],
   "source": [
    "df.describe().apply(lambda s: s.apply('{0:.5f}'.format))"
   ]
  },
  {
   "cell_type": "markdown",
   "metadata": {},
   "source": [
    "Após a utilização do 'describe()', é possivel observar alguns pontos:\\\n",
    "Na coluna **'Price'**\n",
    "> Podemos perceber que a média de Preço dos imovéis é igual a 540088,14. Porém apresentamos mais valores com Preço menor que a média, isso pode ser concluido pela mediana (450000,00) ser menor que a média. O maior valor foi de 770000,00 e o menor foi de 75000,00. \n",
    "\n",
    "Na coluna **'bedrooms'**\n",
    "> É possivel identificar qua a média de Dormitórios é igual a 3, no caso estou arredondando o valor para baixo, pois não é possivel obter valores quebrados para esse tipo. Conforme visto na coluna anterior, apresenta uma quantidade de Dormitorios menor que a média, devido a comparação com a mediana (3). O valor maxímo foi de 33 e o minimo foi de 0.\n",
    "\n",
    "Na coluna **'bathrooms'**\n",
    "> É possivel identificar qua a média de Banheiros é igual a 2, no caso estou arredondando o valor para baixo, pois não é possivel obter valores quebrados para esse tipo. Conforme visto na coluna anterior, apresenta uma quantidade de Banheiros maior que a média, devido a comparação com a mediana (2). O valor maxímo foi de 8 e o minimo foi de 0."
   ]
  },
  {
   "cell_type": "markdown",
   "metadata": {},
   "source": [
    "#### > Gráficos"
   ]
  },
  {
   "cell_type": "markdown",
   "metadata": {},
   "source": [
    "Esse primeiro grafico é uma forma sutil de avaliar se podemos avaliar correlação entre as features"
   ]
  },
  {
   "cell_type": "markdown",
   "metadata": {},
   "source": [
    "A partir dessa primeira analise podemos identificar alguns pontos importantes, como a nossa pergunta visa trazer como resultado o valor de um imovel a partir de especificações dadas, podemos observar que:\n",
    "Features que mais influenciam no preço:\n",
    "> **'bathroom'**\\\n",
    "> **'sqft_living'**\\\n",
    "> **'grade'**\\\n",
    "> **'sqft_above'**\\\n",
    "> **'sqft_living15'**\n",
    "\n",
    "Features que mais influencima negativamente no preço:\n",
    "> **'zipcode'**\n",
    "\n",
    "Features com influencia conjunta:\n",
    "> **'sqfr_living15'**\\\n",
    "> **'sqft_lot15'**\\\n",
    "\n",
    "Isso se deve a relação do tamanho dos lot ao redor"
   ]
  },
  {
   "cell_type": "code",
   "execution_count": 11,
   "metadata": {},
   "outputs": [
    {
     "data": {
      "text/plain": [
       "<AxesSubplot:>"
      ]
     },
     "execution_count": 11,
     "metadata": {},
     "output_type": "execute_result"
    },
    {
     "data": {
      "image/png": "[encoded data removed]",
      "text/plain": [
       "<Figure size 1080x1080 with 2 Axes>"
      ]
     },
     "metadata": {},
     "output_type": "display_data"
    }
   ],
   "source": [
    "mask = np.triu(np.ones_like(df.corr(), dtype=np.bool))\n",
    "sns.set(rc={'figure.figsize':(15,15)})\n",
    "sns.heatmap(df.corr(),annot=True, fmt='.1g',vmin=-1,vmax=1,center=0,cmap='coolwarm', mask=mask)"
   ]
  },
  {
   "cell_type": "markdown",
   "metadata": {},
   "source": [
    "##### > **Gráfico das features**"
   ]
  },
  {
   "cell_type": "markdown",
   "metadata": {},
   "source": [
    "**BEDROOMS**"
   ]
  },
  {
   "cell_type": "code",
   "execution_count": null,
   "metadata": {},
   "outputs": [],
   "source": [
    "fig,ax = plt.subplots()\n",
    "sns.set(style='whitegrid')\n",
    "fig.set_size_inches(12,6)\n",
    "ax = sns.boxplot(df['bedrooms'])\n",
    "ax.set_title('Bedrooms',fontsize=20)\n",
    "ax.set_xlabel('Quantidade Total',fontsize=17)"
   ]
  },
  {
   "cell_type": "code",
   "execution_count": null,
   "metadata": {},
   "outputs": [],
   "source": [
    "fig,ax = plt.subplots()\n",
    "sns.set(style='darkgrid')\n",
    "fig.set_size_inches(12,6)\n",
    "ax = sns.countplot(x='bedrooms', data=df, order = df['bedrooms'].value_counts().iloc[:10].index)\n",
    "ax.set_ylabel('Quantidade de vezes',fontsize=17)\n",
    "ax.set_title('Bedrooms',fontsize=20)\n",
    "ax.set_xlabel('Quantidade',fontsize=17)\n",
    "\n",
    "for p in ax.patches:\n",
    "    percentage = '{:.1f}%'.format(100 * p.get_height()/df['bedrooms'].count())\n",
    "    x = p.get_x() + p.get_width()\n",
    "    y = p.get_height()\n",
    "    ax.annotate(percentage, (x, y),ha='center')\n",
    "\n",
    "plt.plot()"
   ]
  },
  {
   "cell_type": "markdown",
   "metadata": {},
   "source": [
    "Podemos observar que possuimos mais casas vendidas com 2 a 5 quartos disponíveis"
   ]
  },
  {
   "cell_type": "markdown",
   "metadata": {},
   "source": [
    "**BATHROOMS**"
   ]
  },
  {
   "cell_type": "code",
   "execution_count": null,
   "metadata": {},
   "outputs": [],
   "source": [
    "fig,ax = plt.subplots()\n",
    "sns.set(style='whitegrid')\n",
    "fig.set_size_inches(12,6)\n",
    "ax = sns.boxplot(df['bathrooms'])\n",
    "ax.set_title('Bathrooms',fontsize=20)\n",
    "ax.set_xlabel('Quantidade Total',fontsize=17)"
   ]
  },
  {
   "cell_type": "code",
   "execution_count": null,
   "metadata": {},
   "outputs": [],
   "source": [
    "fig,ax = plt.subplots()\n",
    "sns.set(style='darkgrid')\n",
    "fig.set_size_inches(12,6)\n",
    "ax = sns.countplot(x='bathrooms', data=df, order = df['bathrooms'].value_counts().iloc[:10].index)\n",
    "ax.set_ylabel('Quantidade de vezes',fontsize=17)\n",
    "ax.set_title('Bathrooms',fontsize=20)\n",
    "ax.set_xlabel('Quantidade',fontsize=17)\n",
    "\n",
    "for p in ax.patches:\n",
    "    percentage = '{:.1f}%'.format(100 * p.get_height()/df['bathrooms'].count())\n",
    "    x = p.get_x() + p.get_width()\n",
    "    y = p.get_height()\n",
    "    ax.annotate(percentage, (x, y),ha='center')\n",
    "\n",
    "plt.plot()"
   ]
  },
  {
   "cell_type": "markdown",
   "metadata": {},
   "source": [
    "Podemos observar que possuimos mais casas vendidas com 1 a 3 banheiros disponíveis"
   ]
  },
  {
   "cell_type": "markdown",
   "metadata": {},
   "source": [
    "**SQFT_LIVING**"
   ]
  },
  {
   "cell_type": "code",
   "execution_count": null,
   "metadata": {},
   "outputs": [],
   "source": [
    "fig,ax = plt.subplots()\n",
    "sns.set(style='whitegrid')\n",
    "fig.set_size_inches(12,6)\n",
    "ax = sns.distplot(df['sqft_living'], bins= 10)\n",
    "ax.set_title('Living',fontsize=20)\n",
    "ax.set_xlabel('Espaço',fontsize=17)"
   ]
  },
  {
   "cell_type": "markdown",
   "metadata": {},
   "source": [
    "**FLOORS**"
   ]
  },
  {
   "cell_type": "code",
   "execution_count": null,
   "metadata": {},
   "outputs": [],
   "source": [
    "fig,ax = plt.subplots()\n",
    "sns.set(style='whitegrid')\n",
    "fig.set_size_inches(12,6)\n",
    "ax = sns.boxplot(df['floors'])\n",
    "ax.set_title('Floors',fontsize=20)\n",
    "ax.set_xlabel('Quantidade Total',fontsize=17)"
   ]
  },
  {
   "cell_type": "code",
   "execution_count": null,
   "metadata": {},
   "outputs": [],
   "source": [
    "fig,ax = plt.subplots()\n",
    "sns.set(style='darkgrid')\n",
    "fig.set_size_inches(12,6)\n",
    "ax = sns.countplot(x='floors', data=df, order = df['floors'].value_counts().iloc[:10].index)\n",
    "ax.set_ylabel('Quantidade de vezes',fontsize=17)\n",
    "ax.set_title('Floors',fontsize=20)\n",
    "ax.set_xlabel('Andares',fontsize=17)\n",
    "\n",
    "for p in ax.patches:\n",
    "    percentage = '{:.1f}%'.format(100 * p.get_height()/df['floors'].count())\n",
    "    x = p.get_x() + p.get_width()\n",
    "    y = p.get_height()\n",
    "    ax.annotate(percentage, (x, y),ha='center')\n",
    "\n",
    "plt.plot()"
   ]
  },
  {
   "cell_type": "markdown",
   "metadata": {},
   "source": [
    "Podemos perceber que grande parte do dataset apresenta entre 1 a 2 andares"
   ]
  },
  {
   "cell_type": "markdown",
   "metadata": {},
   "source": [
    "**WATERFRONT**"
   ]
  },
  {
   "cell_type": "code",
   "execution_count": null,
   "metadata": {},
   "outputs": [],
   "source": [
    "fig,ax = plt.subplots()\n",
    "sns.set(style='darkgrid')\n",
    "fig.set_size_inches(12,6)\n",
    "ax = sns.countplot(x='waterfront', data=df, order = df['waterfront'].value_counts().iloc[:10].index)\n",
    "ax.set_ylabel('Quantidade de vezes',fontsize=17)\n",
    "ax.set_title('Waterfront',fontsize=20)\n",
    "\n",
    "for p in ax.patches:\n",
    "    percentage = '{:.1f}%'.format(100 * p.get_height()/df['floors'].count())\n",
    "    x = p.get_x() + p.get_width()\n",
    "    y = p.get_height()\n",
    "    ax.annotate(percentage, (x, y),ha='center')\n",
    "\n",
    "plt.plot()"
   ]
  },
  {
   "cell_type": "markdown",
   "metadata": {},
   "source": [
    "Podemos ver que grande parte das casas não possuem vista para o mar"
   ]
  },
  {
   "cell_type": "markdown",
   "metadata": {},
   "source": [
    "**VIEW**"
   ]
  },
  {
   "cell_type": "code",
   "execution_count": null,
   "metadata": {},
   "outputs": [],
   "source": [
    "fig,ax = plt.subplots()\n",
    "sns.set(style='darkgrid')\n",
    "fig.set_size_inches(12,6)\n",
    "ax = sns.countplot(x='view', data=df, order = df['view'].value_counts().iloc[:10].index)\n",
    "ax.set_ylabel('Quantidade de vezes',fontsize=17)\n",
    "ax.set_title('View',fontsize=20)\n",
    "\n",
    "for p in ax.patches:\n",
    "    percentage = '{:.1f}%'.format(100 * p.get_height()/df['view'].count())\n",
    "    x = p.get_x() + p.get_width()\n",
    "    y = p.get_height()\n",
    "    ax.annotate(percentage, (x, y),ha='center')\n",
    "\n",
    "plt.plot()"
   ]
  },
  {
   "cell_type": "markdown",
   "metadata": {},
   "source": [
    "A maioria das casas de casas recebeu 0 nota da vista "
   ]
  },
  {
   "cell_type": "markdown",
   "metadata": {},
   "source": [
    "**CONDITION**"
   ]
  },
  {
   "cell_type": "code",
   "execution_count": null,
   "metadata": {},
   "outputs": [],
   "source": [
    "fig,ax = plt.subplots()\n",
    "sns.set(style='darkgrid')\n",
    "fig.set_size_inches(12,6)\n",
    "ax = sns.countplot(x='condition', data=df, order = df['condition'].value_counts().iloc[:10].index)\n",
    "ax.set_ylabel('Quantidade de vezes',fontsize=17)\n",
    "ax.set_title('Estado',fontsize=20)\n",
    "\n",
    "for p in ax.patches:\n",
    "    percentage = '{:.1f}%'.format(100 * p.get_height()/df['condition'].count())\n",
    "    x = p.get_x() + p.get_width()\n",
    "    y = p.get_height()\n",
    "    ax.annotate(percentage, (x, y),ha='center')\n",
    "\n",
    "plt.plot()"
   ]
  },
  {
   "cell_type": "markdown",
   "metadata": {},
   "source": [
    "A maioria das casas estão como classificação 3 para o estado da moradia"
   ]
  },
  {
   "cell_type": "markdown",
   "metadata": {},
   "source": [
    "**GRADE**"
   ]
  },
  {
   "cell_type": "code",
   "execution_count": null,
   "metadata": {},
   "outputs": [],
   "source": [
    "fig,ax = plt.subplots()\n",
    "sns.set(style='darkgrid')\n",
    "fig.set_size_inches(12,6)\n",
    "ax = sns.countplot(x='grade', data=df, order = df['grade'].value_counts().iloc[:10].index)\n",
    "ax.set_ylabel('Quantidade de vezes',fontsize=17)\n",
    "ax.set_title('Grade',fontsize=20)\n",
    "\n",
    "for p in ax.patches:\n",
    "    percentage = '{:.1f}%'.format(100 * p.get_height()/df['grade'].count())\n",
    "    x = p.get_x() + p.get_width()\n",
    "    y = p.get_height()\n",
    "    ax.annotate(percentage, (x, y),ha='center')\n",
    "\n",
    "plt.plot()"
   ]
  },
  {
   "cell_type": "markdown",
   "metadata": {},
   "source": [
    "Mais da metade das casas estão classficadas com notas entre 6 a 9, em relação ao seu design e contrução"
   ]
  },
  {
   "cell_type": "markdown",
   "metadata": {},
   "source": [
    "**YR_BUILT**"
   ]
  },
  {
   "cell_type": "code",
   "execution_count": null,
   "metadata": {},
   "outputs": [],
   "source": [
    "fig,ax = plt.subplots()\n",
    "sns.set(style='whitegrid')\n",
    "fig.set_size_inches(12,6)\n",
    "ax = sns.distplot(df['yr_built'])\n",
    "ax.set_title('Construção',fontsize=20)\n",
    "ax.set_xlabel('Ano',fontsize=17)"
   ]
  },
  {
   "cell_type": "code",
   "execution_count": null,
   "metadata": {},
   "outputs": [],
   "source": [
    "fig,ax = plt.subplots()\n",
    "sns.set(style='whitegrid')\n",
    "fig.set_size_inches(12,6)\n",
    "ax = sns.boxplot(df['yr_built'])\n",
    "ax.set_title('Construção',fontsize=20)\n",
    "ax.set_xlabel('Ano',fontsize=17)"
   ]
  },
  {
   "cell_type": "markdown",
   "metadata": {},
   "source": [
    "A maioria das casas vendidas foram construidas entre os anos de 1951 a 1997"
   ]
  },
  {
   "cell_type": "markdown",
   "metadata": {},
   "source": [
    "**LAT e LON**"
   ]
  },
  {
   "cell_type": "code",
   "execution_count": null,
   "metadata": {},
   "outputs": [],
   "source": [
    "fig,ax = plt.subplots()\n",
    "sns.set(style='whitegrid')\n",
    "fig.set_size_inches(12,6)\n",
    "plt.scatter(x=df['lat'], y=df['long'])\n",
    "plt.show()"
   ]
  },
  {
   "cell_type": "code",
   "execution_count": null,
   "metadata": {},
   "outputs": [],
   "source": [
    "fig,ax = plt.subplots()\n",
    "sns.set(style='whitegrid')\n",
    "fig.set_size_inches(12,6)\n",
    "ax = sns.boxplot(df['sqft_lot'])\n",
    "ax.set_title('Bedrooms',fontsize=20)\n",
    "ax.set_xlabel('Quantidade Total',fontsize=17)"
   ]
  },
  {
   "cell_type": "code",
   "execution_count": null,
   "metadata": {},
   "outputs": [],
   "source": []
  }
 ],
 "metadata": {
  "kernelspec": {
   "display_name": "Python 3",
   "language": "python",
   "name": "python3"
  },
  "language_info": {
   "codemirror_mode": {
    "name": "ipython",
    "version": 3
   },
   "file_extension": ".py",
   "mimetype": "text/x-python",
   "name": "python",
   "nbconvert_exporter": "python",
   "pygments_lexer": "ipython3",
   "version": "3.8.5"
  }
 },
 "nbformat": 4,
 "nbformat_minor": 4
}
