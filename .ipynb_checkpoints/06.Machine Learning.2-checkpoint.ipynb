{
 "cells": [
  {
   "cell_type": "markdown",
   "metadata": {},
   "source": [
    "# House Price - Linear Regression"
   ]
  },
  {
   "cell_type": "markdown",
   "metadata": {},
   "source": [
    "## Parte 06 - Machine Learning - Rodagem com as variaveis mais importantes"
   ]
  },
  {
   "cell_type": "markdown",
   "metadata": {},
   "source": [
    "#### > Importação das Bibliotecas"
   ]
  },
  {
   "cell_type": "code",
   "execution_count": 93,
   "metadata": {},
   "outputs": [
    {
     "name": "stdout",
     "output_type": "stream",
     "text": [
      "Requirement already satisfied: xgboost in c:\\users\\vithep\\anaconda3\\lib\\site-packages (1.3.3)\n",
      "Requirement already satisfied: scipy in c:\\users\\vithep\\anaconda3\\lib\\site-packages (from xgboost) (1.5.2)\n",
      "Requirement already satisfied: numpy in c:\\users\\vithep\\anaconda3\\lib\\site-packages (from xgboost) (1.19.2)\n",
      "Note: you may need to restart the kernel to use updated packages.\n"
     ]
    }
   ],
   "source": [
    "pip install xgboost"
   ]
  },
  {
   "cell_type": "code",
   "execution_count": 94,
   "metadata": {},
   "outputs": [],
   "source": [
    "import matplotlib.pyplot as plt  \n",
    "import numpy as np \n",
    "import pandas as pd  \n",
    "import seaborn as sns\n",
    "from sklearn.ensemble import BaggingRegressor\n",
    "from sklearn.ensemble import GradientBoostingRegressor\n",
    "from sklearn.ensemble import RandomForestRegressor\n",
    "from sklearn.ensemble import VotingRegressor\n",
    "from sklearn.linear_model import LinearRegression\n",
    "from sklearn.model_selection import train_test_split \n",
    "from sklearn.neighbors import KNeighborsRegressor\n",
    "from sklearn.metrics import mean_squared_error, mean_absolute_error, r2_score\n",
    "from sklearn.tree import DecisionTreeRegressor\n",
    "from statsmodels.formula.api import ols\n",
    "from xgboost import XGBRegressor\n",
    "import statsmodels.api as sm\n",
    "import statsmodels.formula.api as smf"
   ]
  },
  {
   "cell_type": "markdown",
   "metadata": {},
   "source": [
    "#### > Carregamento do Dataset"
   ]
  },
  {
   "cell_type": "markdown",
   "metadata": {},
   "source": [
    "Carregamento do dataset **'house_price.csv'**. O comando 'set_option' permite que a tabela seja apresentada sem simplicação "
   ]
  },
  {
   "cell_type": "code",
   "execution_count": 95,
   "metadata": {},
   "outputs": [],
   "source": [
    "df0 = pd.read_csv('house_price.csv')\n",
    "pd.set_option('max_columns', None)"
   ]
  },
  {
   "cell_type": "markdown",
   "metadata": {},
   "source": [
    "#### 1. Primeira Rodagem"
   ]
  },
  {
   "cell_type": "markdown",
   "metadata": {},
   "source": [
    "Nessa primeira rodagem, serão colocados todos os dados do dataset, com a intenção de prever o preço da casa"
   ]
  },
  {
   "cell_type": "markdown",
   "metadata": {},
   "source": [
    "##### > Separando os Dados"
   ]
  },
  {
   "cell_type": "markdown",
   "metadata": {},
   "source": [
    "Colocando todas as colunas como variaveis"
   ]
  },
  {
   "cell_type": "code",
   "execution_count": 96,
   "metadata": {},
   "outputs": [],
   "source": [
    "df = df0.copy()"
   ]
  },
  {
   "cell_type": "code",
   "execution_count": 97,
   "metadata": {},
   "outputs": [
    {
     "data": {
      "text/plain": [
       "Index(['date', 'day', 'month', 'year', 'price', 'bedrooms', 'bathrooms',\n",
       "       'sqft_living', 'sqft_lot', 'floors', 'waterfront', 'view', 'condition',\n",
       "       'grade', 'sqft_above', 'sqft_basement', 'age_built', 'yr_renovated',\n",
       "       'zipcode', 'lat', 'long', 'sqft_living15', 'sqft_lot15'],\n",
       "      dtype='object')"
      ]
     },
     "execution_count": 97,
     "metadata": {},
     "output_type": "execute_result"
    }
   ],
   "source": [
    "df.columns"
   ]
  },
  {
   "cell_type": "code",
   "execution_count": 98,
   "metadata": {},
   "outputs": [
    {
     "name": "stdout",
     "output_type": "stream",
     "text": [
      "<class 'pandas.core.frame.DataFrame'>\n",
      "RangeIndex: 19450 entries, 0 to 19449\n",
      "Data columns (total 23 columns):\n",
      " #   Column         Non-Null Count  Dtype  \n",
      "---  ------         --------------  -----  \n",
      " 0   date           19450 non-null  object \n",
      " 1   day            19450 non-null  int64  \n",
      " 2   month          19450 non-null  int64  \n",
      " 3   year           19450 non-null  int64  \n",
      " 4   price          19450 non-null  float64\n",
      " 5   bedrooms       19450 non-null  float64\n",
      " 6   bathrooms      19450 non-null  float64\n",
      " 7   sqft_living    19450 non-null  float64\n",
      " 8   sqft_lot       19450 non-null  float64\n",
      " 9   floors         19450 non-null  float64\n",
      " 10  waterfront     19450 non-null  int64  \n",
      " 11  view           19450 non-null  int64  \n",
      " 12  condition      19450 non-null  int64  \n",
      " 13  grade          19450 non-null  int64  \n",
      " 14  sqft_above     19450 non-null  float64\n",
      " 15  sqft_basement  19450 non-null  int64  \n",
      " 16  age_built      19450 non-null  float64\n",
      " 17  yr_renovated   19450 non-null  int64  \n",
      " 18  zipcode        19450 non-null  int64  \n",
      " 19  lat            19450 non-null  float64\n",
      " 20  long           19450 non-null  float64\n",
      " 21  sqft_living15  19450 non-null  float64\n",
      " 22  sqft_lot15     19450 non-null  float64\n",
      "dtypes: float64(12), int64(10), object(1)\n",
      "memory usage: 3.4+ MB\n"
     ]
    }
   ],
   "source": [
    "df.info()"
   ]
  },
  {
   "cell_type": "markdown",
   "metadata": {},
   "source": [
    "Transformando os tipos de variaveis"
   ]
  },
  {
   "cell_type": "code",
   "execution_count": 99,
   "metadata": {},
   "outputs": [],
   "source": [
    "df['date']=df['date'].astype('datetime64')"
   ]
  },
  {
   "cell_type": "markdown",
   "metadata": {},
   "source": [
    "Colocando as features em uma variavel"
   ]
  },
  {
   "cell_type": "code",
   "execution_count": 100,
   "metadata": {},
   "outputs": [],
   "source": [
    "X = df[['bedrooms', 'bathrooms', 'sqft_living', 'view', 'sqft_above', 'sqft_basement']]"
   ]
  },
  {
   "cell_type": "markdown",
   "metadata": {},
   "source": [
    "Colocando a coluna 'price' como nossa variavel resposta"
   ]
  },
  {
   "cell_type": "code",
   "execution_count": 101,
   "metadata": {},
   "outputs": [],
   "source": [
    "y = df['price']"
   ]
  },
  {
   "cell_type": "markdown",
   "metadata": {},
   "source": [
    "Realizando a separação dos dados em Treino e Teste, onde 30% dos dados serão de teste"
   ]
  },
  {
   "cell_type": "code",
   "execution_count": 102,
   "metadata": {},
   "outputs": [],
   "source": [
    "X_train,X_test,y_train,y_test=train_test_split(X,y,test_size=0.2,random_state=42)"
   ]
  },
  {
   "cell_type": "markdown",
   "metadata": {},
   "source": [
    "Metrica para validação dos dados"
   ]
  },
  {
   "cell_type": "code",
   "execution_count": 103,
   "metadata": {},
   "outputs": [],
   "source": [
    "def acc_reg(y_pred,y_test,tolerancia):\n",
    "    \n",
    "    df_final = pd.DataFrame({'Actual': y_test, 'Predicted': y_pred})\n",
    "    \n",
    "    df_final['error']=1-df_final['Predicted']/df_final['Actual']\n",
    "    \n",
    "    ((df_final['error']<tolerancia) & (df_final['error']>-tolerancia)).value_counts()\n",
    "    \n",
    "    Falso = ((df_final['error']<tolerancia) & (df_final['error']>-tolerancia)).value_counts()[0]\n",
    "    \n",
    "    Verdadeiro = ((df_final['error']<tolerancia) & (df_final['error']>-tolerancia)).value_counts()[1]\n",
    "    \n",
    "    Acc = Verdadeiro/(Falso+Verdadeiro)*100\n",
    "    \n",
    "    return round(Acc,2)"
   ]
  },
  {
   "cell_type": "markdown",
   "metadata": {},
   "source": [
    "#### > LinearRegression"
   ]
  },
  {
   "cell_type": "markdown",
   "metadata": {},
   "source": [
    "##### > Verificação dos resultados"
   ]
  },
  {
   "cell_type": "code",
   "execution_count": 104,
   "metadata": {},
   "outputs": [
    {
     "name": "stdout",
     "output_type": "stream",
     "text": [
      "Coefficient: [-4.57396982e+04  1.10342404e+04  5.43835075e+15  9.59374701e+04\n",
      " -5.43835075e+15 -5.43835075e+15]\n",
      "Intercept: 103040.3264781491\n",
      "R^2: 0.51 \n",
      "Mean Absolute error: 154764.80516782202\n",
      "Mean Squared error: 48173006756.82912\n",
      "Root Mean Squared Error: 219483.49996487008\n"
     ]
    }
   ],
   "source": [
    "lr = LinearRegression()\n",
    "lr.fit(X_train,y_train)\n",
    "y_pred = lr.predict(X_test)\n",
    "lrr = r2_score(y_test, y_pred)\n",
    "MAElr = mean_absolute_error(y_test, y_pred)\n",
    "MSElr = mean_squared_error(y_test, y_pred)\n",
    "RMSElr = np.sqrt(mean_squared_error(y_test, y_pred))\n",
    "print('Coefficient:', lr.coef_)\n",
    "print('Intercept:', lr.intercept_)\n",
    "print('R^2: %.2f ' % lrr)\n",
    "print('Mean Absolute error:', MAElr)\n",
    "print('Mean Squared error:', MSElr )\n",
    "print('Root Mean Squared Error:', RMSElr )"
   ]
  },
  {
   "cell_type": "code",
   "execution_count": 105,
   "metadata": {},
   "outputs": [
    {
     "data": {
      "image/png": "[encoded data removed]",
      "text/plain": [
       "<Figure size 432x288 with 1 Axes>"
      ]
     },
     "metadata": {
      "needs_background": "light"
     },
     "output_type": "display_data"
    }
   ],
   "source": [
    "plt.scatter(y_test, y_pred)\n",
    "plt.xlabel('Preço')\n",
    "plt.ylabel('Previsão do Preço')\n",
    "plt.title('Preço vs Previsão do Preço')\n",
    "plt.show()"
   ]
  },
  {
   "cell_type": "code",
   "execution_count": 106,
   "metadata": {},
   "outputs": [
    {
     "data": {
      "text/plain": [
       "19.64"
      ]
     },
     "execution_count": 106,
     "metadata": {},
     "output_type": "execute_result"
    }
   ],
   "source": [
    "lrp = acc_reg(y_pred,y_test,0.1)\n",
    "lrp"
   ]
  },
  {
   "cell_type": "code",
   "execution_count": 107,
   "metadata": {},
   "outputs": [
    {
     "data": {
      "text/plain": [
       "['LinearRegression',\n",
       " 0.5095935215488815,\n",
       " 154764.80516782202,\n",
       " 48173006756.82912,\n",
       " 219483.49996487008,\n",
       " 19.64]"
      ]
     },
     "execution_count": 107,
     "metadata": {},
     "output_type": "execute_result"
    }
   ],
   "source": [
    "Linear = ['LinearRegression',lrr,MAElr,MSElr,RMSElr,lrp]\n",
    "Linear"
   ]
  },
  {
   "cell_type": "markdown",
   "metadata": {},
   "source": [
    "#### > KNN Regressor"
   ]
  },
  {
   "cell_type": "markdown",
   "metadata": {},
   "source": [
    "##### > Verificação dos resultados"
   ]
  },
  {
   "cell_type": "code",
   "execution_count": 108,
   "metadata": {},
   "outputs": [
    {
     "name": "stdout",
     "output_type": "stream",
     "text": [
      "R^2: 0.44 \n",
      "Mean Absolute error: 160699.774344473\n",
      "Mean Squared error: 55290877932.585495\n",
      "Root Mean Squared Error: 235140.12403795635\n"
     ]
    }
   ],
   "source": [
    "knn = KNeighborsRegressor(n_neighbors=5,metric='euclidean')\n",
    "knn.fit(X_train,y_train)\n",
    "y_pred = knn.predict(X_test)\n",
    "knnr = r2_score(y_test, y_pred)\n",
    "MAEknn = mean_absolute_error(y_test, y_pred)\n",
    "MSEknn = mean_squared_error(y_test, y_pred)\n",
    "RMSEknn = np.sqrt(mean_squared_error(y_test, y_pred))\n",
    "print('R^2: %.2f ' % knnr)\n",
    "print('Mean Absolute error:', MAEknn)\n",
    "print('Mean Squared error:', MSEknn )\n",
    "print('Root Mean Squared Error:', RMSEknn )"
   ]
  },
  {
   "cell_type": "code",
   "execution_count": 109,
   "metadata": {},
   "outputs": [
    {
     "data": {
      "image/png": "[encoded data removed]",
      "text/plain": [
       "<Figure size 432x288 with 1 Axes>"
      ]
     },
     "metadata": {
      "needs_background": "light"
     },
     "output_type": "display_data"
    }
   ],
   "source": [
    "plt.scatter(y_test, y_pred)\n",
    "plt.xlabel('Preço')\n",
    "plt.ylabel('Previsão do Preço')\n",
    "plt.title('Preço vs Previsão do Preço')\n",
    "plt.show()"
   ]
  },
  {
   "cell_type": "code",
   "execution_count": 110,
   "metadata": {},
   "outputs": [
    {
     "data": {
      "text/plain": [
       "19.05"
      ]
     },
     "execution_count": 110,
     "metadata": {},
     "output_type": "execute_result"
    }
   ],
   "source": [
    "knnp = acc_reg(y_pred,y_test,0.1)\n",
    "knnp"
   ]
  },
  {
   "cell_type": "code",
   "execution_count": 111,
   "metadata": {},
   "outputs": [
    {
     "data": {
      "text/plain": [
       "['KNN Regressor',\n",
       " 0.4371328143525933,\n",
       " 160699.774344473,\n",
       " 55290877932.585495,\n",
       " 235140.12403795635,\n",
       " 19.05]"
      ]
     },
     "execution_count": 111,
     "metadata": {},
     "output_type": "execute_result"
    }
   ],
   "source": [
    "KNN = ['KNN Regressor',knnr,MAEknn,MSEknn,RMSEknn,knnp]\n",
    "KNN"
   ]
  },
  {
   "cell_type": "markdown",
   "metadata": {},
   "source": [
    "#### > Decision Tree"
   ]
  },
  {
   "cell_type": "markdown",
   "metadata": {},
   "source": [
    "##### > Verificação dos resultados"
   ]
  },
  {
   "cell_type": "code",
   "execution_count": 112,
   "metadata": {},
   "outputs": [
    {
     "name": "stdout",
     "output_type": "stream",
     "text": [
      "R^2: 0.18 \n",
      "Mean Absolute error: 186220.58518193773\n",
      "Mean Squared error: 80107844745.82787\n",
      "Root Mean Squared Error: 283033.2926456318\n"
     ]
    }
   ],
   "source": [
    "dct = DecisionTreeRegressor(random_state=42)\n",
    "dct.fit(X_train, y_train)\n",
    "y_pred = dct.predict(X_test)\n",
    "dtr = r2_score(y_test, y_pred)\n",
    "MAEdt = mean_absolute_error(y_test, y_pred)\n",
    "MSEdt = mean_squared_error(y_test, y_pred)\n",
    "RMSEdt = np.sqrt(mean_squared_error(y_test, y_pred))\n",
    "print('R^2: %.2f ' % dtr)\n",
    "print('Mean Absolute error:', MAEdt)\n",
    "print('Mean Squared error:', MSEdt )\n",
    "print('Root Mean Squared Error:', RMSEdt )"
   ]
  },
  {
   "cell_type": "code",
   "execution_count": 113,
   "metadata": {},
   "outputs": [
    {
     "data": {
      "image/png": "[encoded data removed]",
      "text/plain": [
       "<Figure size 432x288 with 1 Axes>"
      ]
     },
     "metadata": {
      "needs_background": "light"
     },
     "output_type": "display_data"
    }
   ],
   "source": [
    "plt.scatter(y_test, y_pred)\n",
    "plt.xlabel('Preço')\n",
    "plt.ylabel('Previsão do Preço')\n",
    "plt.title('Preço vs Previsão do Preço')\n",
    "plt.show()"
   ]
  },
  {
   "cell_type": "code",
   "execution_count": 114,
   "metadata": {},
   "outputs": [
    {
     "data": {
      "text/plain": [
       "19.46"
      ]
     },
     "execution_count": 114,
     "metadata": {},
     "output_type": "execute_result"
    }
   ],
   "source": [
    "dtp = acc_reg(y_pred,y_test,0.1)\n",
    "dtp"
   ]
  },
  {
   "cell_type": "code",
   "execution_count": 115,
   "metadata": {},
   "outputs": [
    {
     "data": {
      "text/plain": [
       "['Decision Tree',\n",
       " 0.18449337745476746,\n",
       " 186220.58518193773,\n",
       " 80107844745.82787,\n",
       " 283033.2926456318,\n",
       " 19.46]"
      ]
     },
     "execution_count": 115,
     "metadata": {},
     "output_type": "execute_result"
    }
   ],
   "source": [
    "DT = ['Decision Tree',dtr,MAEdt,MSEdt,RMSEdt,dtp]\n",
    "DT"
   ]
  },
  {
   "cell_type": "markdown",
   "metadata": {},
   "source": [
    "#### > Random Forest"
   ]
  },
  {
   "cell_type": "markdown",
   "metadata": {},
   "source": [
    "##### > Verificação dos resultados"
   ]
  },
  {
   "cell_type": "code",
   "execution_count": 116,
   "metadata": {},
   "outputs": [
    {
     "name": "stdout",
     "output_type": "stream",
     "text": [
      "R^2: 0.51 \n",
      "Mean Absolute error: 152540.16153647486\n",
      "Mean Squared error: 47892460372.02529\n",
      "Root Mean Squared Error: 218843.4608847733\n"
     ]
    }
   ],
   "source": [
    "rft = RandomForestRegressor(n_estimators=100, random_state=26)\n",
    "rft.fit(X_train, y_train)\n",
    "y_pred = rft.predict(X_test)\n",
    "rfr = r2_score(y_test, y_pred)\n",
    "MAErf = mean_absolute_error(y_test, y_pred)\n",
    "MSErf = mean_squared_error(y_test, y_pred)\n",
    "RMSErf = np.sqrt(mean_squared_error(y_test, y_pred))\n",
    "print('R^2: %.2f ' % rfr)\n",
    "print('Mean Absolute error:', MAErf)\n",
    "print('Mean Squared error:', MSErf )\n",
    "print('Root Mean Squared Error:', RMSErf )"
   ]
  },
  {
   "cell_type": "code",
   "execution_count": 117,
   "metadata": {},
   "outputs": [
    {
     "data": {
      "image/png": "[encoded data removed]",
      "text/plain": [
       "<Figure size 432x288 with 1 Axes>"
      ]
     },
     "metadata": {
      "needs_background": "light"
     },
     "output_type": "display_data"
    }
   ],
   "source": [
    "plt.scatter(y_test, y_pred)\n",
    "plt.xlabel('Preço')\n",
    "plt.ylabel('Previsão do Preço')\n",
    "plt.title('Preço vs Previsão do Preço')\n",
    "plt.show()"
   ]
  },
  {
   "cell_type": "code",
   "execution_count": 118,
   "metadata": {},
   "outputs": [
    {
     "data": {
      "text/plain": [
       "21.34"
      ]
     },
     "execution_count": 118,
     "metadata": {},
     "output_type": "execute_result"
    }
   ],
   "source": [
    "rfp = acc_reg(y_pred,y_test,0.1)\n",
    "rfp"
   ]
  },
  {
   "cell_type": "code",
   "execution_count": 119,
   "metadata": {},
   "outputs": [
    {
     "data": {
      "text/plain": [
       "['Random Forest',\n",
       " 0.5124495144352781,\n",
       " 152540.16153647486,\n",
       " 47892460372.02529,\n",
       " 218843.4608847733,\n",
       " 21.34]"
      ]
     },
     "execution_count": 119,
     "metadata": {},
     "output_type": "execute_result"
    }
   ],
   "source": [
    "RF = ['Random Forest',rfr,MAErf,MSErf,RMSErf,rfp]\n",
    "RF"
   ]
  },
  {
   "cell_type": "markdown",
   "metadata": {},
   "source": [
    "#### > Bagging"
   ]
  },
  {
   "cell_type": "markdown",
   "metadata": {},
   "source": [
    "##### > Verificação dos resultados"
   ]
  },
  {
   "cell_type": "code",
   "execution_count": 120,
   "metadata": {},
   "outputs": [
    {
     "name": "stdout",
     "output_type": "stream",
     "text": [
      "R^2: 0.47 \n",
      "Mean Absolute error: 158225.42961862302\n",
      "Mean Squared error: 52339048099.5724\n",
      "Root Mean Squared Error: 228777.28930025463\n"
     ]
    }
   ],
   "source": [
    "bag_base = DecisionTreeRegressor(random_state=26)\n",
    "bag = BaggingRegressor(base_estimator=bag_base, n_estimators=10, random_state=26)\n",
    "bag.fit(X_train, y_train)\n",
    "y_pred = bag.predict(X_test)\n",
    "bagr = r2_score(y_test, y_pred)\n",
    "MAEbag = mean_absolute_error(y_test, y_pred)\n",
    "MSEbag = mean_squared_error(y_test, y_pred)\n",
    "RMSEbag = np.sqrt(mean_squared_error(y_test, y_pred))\n",
    "print('R^2: %.2f ' % bagr)\n",
    "print('Mean Absolute error:', MAEbag)\n",
    "print('Mean Squared error:', MSEbag )\n",
    "print('Root Mean Squared Error:', RMSEbag)"
   ]
  },
  {
   "cell_type": "code",
   "execution_count": 121,
   "metadata": {},
   "outputs": [
    {
     "data": {
      "image/png": "[encoded data removed]",
      "text/plain": [
       "<Figure size 432x288 with 1 Axes>"
      ]
     },
     "metadata": {
      "needs_background": "light"
     },
     "output_type": "display_data"
    }
   ],
   "source": [
    "plt.scatter(y_test, y_pred)\n",
    "plt.xlabel('Preço')\n",
    "plt.ylabel('Previsão do Preço')\n",
    "plt.title('Preço vs Previsão do Preço')\n",
    "plt.show()"
   ]
  },
  {
   "cell_type": "code",
   "execution_count": 122,
   "metadata": {},
   "outputs": [
    {
     "data": {
      "text/plain": [
       "20.31"
      ]
     },
     "execution_count": 122,
     "metadata": {},
     "output_type": "execute_result"
    }
   ],
   "source": [
    "bagp = acc_reg(y_pred,y_test,0.1)\n",
    "bagp"
   ]
  },
  {
   "cell_type": "code",
   "execution_count": 123,
   "metadata": {},
   "outputs": [
    {
     "data": {
      "text/plain": [
       "['Bagging',\n",
       " 0.4671827649546425,\n",
       " 158225.42961862302,\n",
       " 52339048099.5724,\n",
       " 228777.28930025463,\n",
       " 20.31]"
      ]
     },
     "execution_count": 123,
     "metadata": {},
     "output_type": "execute_result"
    }
   ],
   "source": [
    "BAG = ['Bagging',bagr,MAEbag,MSEbag,RMSEbag,bagp]\n",
    "BAG"
   ]
  },
  {
   "cell_type": "markdown",
   "metadata": {},
   "source": [
    "#### > Ensemble"
   ]
  },
  {
   "cell_type": "markdown",
   "metadata": {},
   "source": [
    "##### > Verificação dos resultados"
   ]
  },
  {
   "cell_type": "code",
   "execution_count": 124,
   "metadata": {},
   "outputs": [
    {
     "name": "stdout",
     "output_type": "stream",
     "text": [
      "R^2: 0.53 \n",
      "Mean Absolute error: 149986.22541274343\n",
      "Mean Squared error: 45989889641.32655\n",
      "Root Mean Squared Error: 214452.53470483056\n"
     ]
    }
   ],
   "source": [
    "rft2 = RandomForestRegressor(n_estimators=10, random_state=26)\n",
    "ens = VotingRegressor([('LR', lr), ('RF', rft2)])\n",
    "ens.fit(X_train, y_train)\n",
    "y_pred = ens.predict(X_test)\n",
    "ensr = r2_score(y_test, y_pred)\n",
    "MAEens = mean_absolute_error(y_test, y_pred)\n",
    "MSEens = mean_squared_error(y_test, y_pred)\n",
    "RMSEens = np.sqrt(mean_squared_error(y_test, y_pred))\n",
    "print('R^2: %.2f ' % ensr)\n",
    "print('Mean Absolute error:', MAEens)\n",
    "print('Mean Squared error:', MSEens )\n",
    "print('Root Mean Squared Error:', RMSEens)"
   ]
  },
  {
   "cell_type": "code",
   "execution_count": 125,
   "metadata": {},
   "outputs": [
    {
     "data": {
      "image/png": "[encoded data removed]",
      "text/plain": [
       "<Figure size 432x288 with 1 Axes>"
      ]
     },
     "metadata": {
      "needs_background": "light"
     },
     "output_type": "display_data"
    }
   ],
   "source": [
    "plt.scatter(y_test, y_pred)\n",
    "plt.xlabel('Preço')\n",
    "plt.ylabel('Previsão do Preço')\n",
    "plt.title('Preço vs Previsão do Preço')\n",
    "plt.show()"
   ]
  },
  {
   "cell_type": "code",
   "execution_count": 126,
   "metadata": {},
   "outputs": [
    {
     "data": {
      "text/plain": [
       "21.0"
      ]
     },
     "execution_count": 126,
     "metadata": {},
     "output_type": "execute_result"
    }
   ],
   "source": [
    "ensp = acc_reg(y_pred,y_test,0.1)\n",
    "ensp"
   ]
  },
  {
   "cell_type": "code",
   "execution_count": 127,
   "metadata": {},
   "outputs": [
    {
     "data": {
      "text/plain": [
       "['Ensemble',\n",
       " 0.5318178925968482,\n",
       " 149986.22541274343,\n",
       " 45989889641.32655,\n",
       " 214452.53470483056,\n",
       " 21.0]"
      ]
     },
     "execution_count": 127,
     "metadata": {},
     "output_type": "execute_result"
    }
   ],
   "source": [
    "ENS = ['Ensemble',ensr,MAEens,MSEens,RMSEens,ensp]\n",
    "ENS"
   ]
  },
  {
   "cell_type": "markdown",
   "metadata": {},
   "source": [
    "#### > Gradient Boosting Regressor"
   ]
  },
  {
   "cell_type": "markdown",
   "metadata": {},
   "source": [
    "##### > Verificação dos resultados"
   ]
  },
  {
   "cell_type": "code",
   "execution_count": 128,
   "metadata": {},
   "outputs": [
    {
     "name": "stdout",
     "output_type": "stream",
     "text": [
      "R^2: 0.55 \n",
      "Mean Absolute error: 147504.1483639407\n",
      "Mean Squared error: 44242920132.72805\n",
      "Root Mean Squared Error: 210340.01077476452\n"
     ]
    }
   ],
   "source": [
    "gbos = GradientBoostingRegressor(max_depth=7,random_state=42)\n",
    "gbos.fit(X_train, y_train)\n",
    "y_pred = gbos.predict(X_test)\n",
    "gbosr = r2_score(y_test, y_pred)\n",
    "MAEgbos = mean_absolute_error(y_test, y_pred)\n",
    "MSEgbos = mean_squared_error(y_test, y_pred)\n",
    "RMSEgbos = np.sqrt(mean_squared_error(y_test, y_pred))\n",
    "print('R^2: %.2f ' % gbosr)\n",
    "print('Mean Absolute error:', MAEgbos)\n",
    "print('Mean Squared error:', MSEgbos )\n",
    "print('Root Mean Squared Error:', RMSEgbos)"
   ]
  },
  {
   "cell_type": "code",
   "execution_count": 129,
   "metadata": {},
   "outputs": [
    {
     "data": {
      "image/png": "[encoded data removed]",
      "text/plain": [
       "<Figure size 432x288 with 1 Axes>"
      ]
     },
     "metadata": {
      "needs_background": "light"
     },
     "output_type": "display_data"
    }
   ],
   "source": [
    "plt.scatter(y_test, y_pred)\n",
    "plt.xlabel('Preço')\n",
    "plt.ylabel('Previsão do Preço')\n",
    "plt.title('Preço vs Previsão do Preço')\n",
    "plt.show()"
   ]
  },
  {
   "cell_type": "code",
   "execution_count": 130,
   "metadata": {},
   "outputs": [
    {
     "data": {
      "text/plain": [
       "19.95"
      ]
     },
     "execution_count": 130,
     "metadata": {},
     "output_type": "execute_result"
    }
   ],
   "source": [
    "gbosp = acc_reg(y_pred,y_test,0.1)\n",
    "gbosp"
   ]
  },
  {
   "cell_type": "code",
   "execution_count": 131,
   "metadata": {},
   "outputs": [
    {
     "data": {
      "text/plain": [
       "['Gradient Boosting',\n",
       " 0.549602233296151,\n",
       " 147504.1483639407,\n",
       " 44242920132.72805,\n",
       " 210340.01077476452,\n",
       " 19.95]"
      ]
     },
     "execution_count": 131,
     "metadata": {},
     "output_type": "execute_result"
    }
   ],
   "source": [
    "GBOS = ['Gradient Boosting',gbosr,MAEgbos,MSEgbos,RMSEgbos,gbosp]\n",
    "GBOS"
   ]
  },
  {
   "cell_type": "markdown",
   "metadata": {},
   "source": [
    "#### > XGBoost Regressor"
   ]
  },
  {
   "cell_type": "markdown",
   "metadata": {},
   "source": [
    "##### > Verificação dos resultados"
   ]
  },
  {
   "cell_type": "code",
   "execution_count": 132,
   "metadata": {},
   "outputs": [
    {
     "name": "stdout",
     "output_type": "stream",
     "text": [
      "R^2: 0.54 \n",
      "Mean Absolute error: 147896.34616805913\n",
      "Mean Squared error: 45084714487.872116\n",
      "Root Mean Squared Error: 212331.61443334838\n"
     ]
    }
   ],
   "source": [
    "xgb = XGBRegressor(max_depth=4,random_state=42).fit(X_train, y_train)\n",
    "y_pred = xgb.predict(X_test)\n",
    "xgbr = r2_score(y_test, y_pred)\n",
    "MAExgb = mean_absolute_error(y_test, y_pred)\n",
    "MSExgb = mean_squared_error(y_test, y_pred)\n",
    "RMSExgb = np.sqrt(mean_squared_error(y_test, y_pred))\n",
    "print('R^2: %.2f ' % xgbr)\n",
    "print('Mean Absolute error:', MAExgb)\n",
    "print('Mean Squared error:', MSExgb )\n",
    "print('Root Mean Squared Error:', RMSExgb)"
   ]
  },
  {
   "cell_type": "code",
   "execution_count": 145,
   "metadata": {},
   "outputs": [
    {
     "data": {
      "image/png": "[encoded data removed]",
      "text/plain": [
       "<Figure size 432x288 with 1 Axes>"
      ]
     },
     "metadata": {
      "needs_background": "light"
     },
     "output_type": "display_data"
    }
   ],
   "source": [
    "plt.scatter(y_test, y_pred)\n",
    "plt.xlabel('Preço')\n",
    "plt.ylabel('Previsão do Preço')\n",
    "plt.title('Preço vs Previsão do Preço')\n",
    "plt.show()"
   ]
  },
  {
   "cell_type": "code",
   "execution_count": 134,
   "metadata": {},
   "outputs": [
    {
     "data": {
      "text/plain": [
       "20.31"
      ]
     },
     "execution_count": 134,
     "metadata": {},
     "output_type": "execute_result"
    }
   ],
   "source": [
    "xgbp = acc_reg(y_pred,y_test,0.1)\n",
    "xgbp"
   ]
  },
  {
   "cell_type": "code",
   "execution_count": 135,
   "metadata": {},
   "outputs": [
    {
     "data": {
      "text/plain": [
       "['XGBoost Regressor',\n",
       " 0.5410326746765262,\n",
       " 147896.34616805913,\n",
       " 45084714487.872116,\n",
       " 212331.61443334838,\n",
       " 20.31]"
      ]
     },
     "execution_count": 135,
     "metadata": {},
     "output_type": "execute_result"
    }
   ],
   "source": [
    "XGB = ['XGBoost Regressor',xgbr,MAExgb,MSExgb,RMSExgb,xgbp]\n",
    "XGB"
   ]
  },
  {
   "cell_type": "markdown",
   "metadata": {},
   "source": [
    "#### > OLS"
   ]
  },
  {
   "cell_type": "markdown",
   "metadata": {},
   "source": [
    "##### > Verificação dos resultados"
   ]
  },
  {
   "cell_type": "code",
   "execution_count": 136,
   "metadata": {},
   "outputs": [
    {
     "name": "stdout",
     "output_type": "stream",
     "text": [
      "                            OLS Regression Results                            \n",
      "==============================================================================\n",
      "Dep. Variable:                  price   R-squared:                       0.499\n",
      "Model:                            OLS   Adj. R-squared:                  0.499\n",
      "Method:                 Least Squares   F-statistic:                     3874.\n",
      "Date:                Thu, 08 Apr 2021   Prob (F-statistic):               0.00\n",
      "Time:                        17:02:04   Log-Likelihood:            -2.6706e+05\n",
      "No. Observations:               19450   AIC:                         5.341e+05\n",
      "Df Residuals:                   19444   BIC:                         5.342e+05\n",
      "Df Model:                           5                                         \n",
      "Covariance Type:            nonrobust                                         \n",
      "=================================================================================\n",
      "                    coef    std err          t      P>|t|      [0.025      0.975]\n",
      "---------------------------------------------------------------------------------\n",
      "Intercept      1.181e+05   6604.006     17.889      0.000    1.05e+05    1.31e+05\n",
      "bedrooms      -4.973e+04   2348.382    -21.176      0.000   -5.43e+04   -4.51e+04\n",
      "bathrooms      1.116e+04   3247.971      3.437      0.001    4796.211    1.75e+04\n",
      "sqft_living     173.6357      2.348     73.946      0.000     169.033     178.238\n",
      "view           9.633e+04   2360.869     40.804      0.000    9.17e+04    1.01e+05\n",
      "sqft_above       88.0209      2.064     42.648      0.000      83.976      92.066\n",
      "sqft_basement    85.6148      2.787     30.717      0.000      80.152      91.078\n",
      "==============================================================================\n",
      "Omnibus:                     8409.639   Durbin-Watson:                   1.975\n",
      "Prob(Omnibus):                  0.000   Jarque-Bera (JB):            87543.305\n",
      "Skew:                           1.799   Prob(JB):                         0.00\n",
      "Kurtosis:                      12.751   Cond. No.                     7.70e+15\n",
      "==============================================================================\n",
      "\n",
      "Notes:\n",
      "[1] Standard Errors assume that the covariance matrix of the errors is correctly specified.\n",
      "[2] The smallest eigenvalue is 2.63e-21. This might indicate that there are\n",
      "strong multicollinearity problems or that the design matrix is singular.\n"
     ]
    }
   ],
   "source": [
    "m=ols('price~bedrooms+bathrooms+sqft_living+view+sqft_above+sqft_basement',df).fit()\n",
    "print(m.summary())"
   ]
  },
  {
   "cell_type": "code",
   "execution_count": 137,
   "metadata": {},
   "outputs": [
    {
     "data": {
      "text/html": [
       "<div>\n",
       "<style scoped>\n",
       "    .dataframe tbody tr th:only-of-type {\n",
       "        vertical-align: middle;\n",
       "    }\n",
       "\n",
       "    .dataframe tbody tr th {\n",
       "        vertical-align: top;\n",
       "    }\n",
       "\n",
       "    .dataframe thead th {\n",
       "        text-align: right;\n",
       "    }\n",
       "</style>\n",
       "<table border=\"1\" class=\"dataframe\">\n",
       "  <thead>\n",
       "    <tr style=\"text-align: right;\">\n",
       "      <th></th>\n",
       "      <th>TIPO</th>\n",
       "      <th>R²</th>\n",
       "      <th>MAE</th>\n",
       "      <th>MSE</th>\n",
       "      <th>RMSE</th>\n",
       "      <th>ACURACIA %</th>\n",
       "    </tr>\n",
       "  </thead>\n",
       "  <tbody>\n",
       "    <tr>\n",
       "      <th>0</th>\n",
       "      <td>LinearRegression</td>\n",
       "      <td>0.509594</td>\n",
       "      <td>154764.805168</td>\n",
       "      <td>4.817301e+10</td>\n",
       "      <td>219483.499965</td>\n",
       "      <td>19.64</td>\n",
       "    </tr>\n",
       "    <tr>\n",
       "      <th>1</th>\n",
       "      <td>KNN Regressor</td>\n",
       "      <td>0.437133</td>\n",
       "      <td>160699.774344</td>\n",
       "      <td>5.529088e+10</td>\n",
       "      <td>235140.124038</td>\n",
       "      <td>19.05</td>\n",
       "    </tr>\n",
       "    <tr>\n",
       "      <th>2</th>\n",
       "      <td>Decision Tree</td>\n",
       "      <td>0.184493</td>\n",
       "      <td>186220.585182</td>\n",
       "      <td>8.010784e+10</td>\n",
       "      <td>283033.292646</td>\n",
       "      <td>19.46</td>\n",
       "    </tr>\n",
       "    <tr>\n",
       "      <th>3</th>\n",
       "      <td>Random Forest</td>\n",
       "      <td>0.512450</td>\n",
       "      <td>152540.161536</td>\n",
       "      <td>4.789246e+10</td>\n",
       "      <td>218843.460885</td>\n",
       "      <td>21.34</td>\n",
       "    </tr>\n",
       "    <tr>\n",
       "      <th>4</th>\n",
       "      <td>Bagging</td>\n",
       "      <td>0.467183</td>\n",
       "      <td>158225.429619</td>\n",
       "      <td>5.233905e+10</td>\n",
       "      <td>228777.289300</td>\n",
       "      <td>20.31</td>\n",
       "    </tr>\n",
       "    <tr>\n",
       "      <th>5</th>\n",
       "      <td>Ensemble</td>\n",
       "      <td>0.531818</td>\n",
       "      <td>149986.225413</td>\n",
       "      <td>4.598989e+10</td>\n",
       "      <td>214452.534705</td>\n",
       "      <td>21.00</td>\n",
       "    </tr>\n",
       "    <tr>\n",
       "      <th>6</th>\n",
       "      <td>Gradient Boosting</td>\n",
       "      <td>0.549602</td>\n",
       "      <td>147504.148364</td>\n",
       "      <td>4.424292e+10</td>\n",
       "      <td>210340.010775</td>\n",
       "      <td>19.95</td>\n",
       "    </tr>\n",
       "    <tr>\n",
       "      <th>7</th>\n",
       "      <td>XGBoost Regressor</td>\n",
       "      <td>0.541033</td>\n",
       "      <td>147896.346168</td>\n",
       "      <td>4.508471e+10</td>\n",
       "      <td>212331.614433</td>\n",
       "      <td>20.31</td>\n",
       "    </tr>\n",
       "  </tbody>\n",
       "</table>\n",
       "</div>"
      ],
      "text/plain": [
       "                TIPO        R²            MAE           MSE           RMSE  \\\n",
       "0   LinearRegression  0.509594  154764.805168  4.817301e+10  219483.499965   \n",
       "1      KNN Regressor  0.437133  160699.774344  5.529088e+10  235140.124038   \n",
       "2      Decision Tree  0.184493  186220.585182  8.010784e+10  283033.292646   \n",
       "3      Random Forest  0.512450  152540.161536  4.789246e+10  218843.460885   \n",
       "4            Bagging  0.467183  158225.429619  5.233905e+10  228777.289300   \n",
       "5           Ensemble  0.531818  149986.225413  4.598989e+10  214452.534705   \n",
       "6  Gradient Boosting  0.549602  147504.148364  4.424292e+10  210340.010775   \n",
       "7  XGBoost Regressor  0.541033  147896.346168  4.508471e+10  212331.614433   \n",
       "\n",
       "   ACURACIA %  \n",
       "0       19.64  \n",
       "1       19.05  \n",
       "2       19.46  \n",
       "3       21.34  \n",
       "4       20.31  \n",
       "5       21.00  \n",
       "6       19.95  \n",
       "7       20.31  "
      ]
     },
     "execution_count": 137,
     "metadata": {},
     "output_type": "execute_result"
    }
   ],
   "source": [
    "Qui = pd.DataFrame([Linear,KNN,DT,RF,BAG,ENS,GBOS,XGB],columns=['TIPO','R²','MAE','MSE','RMSE','ACURACIA %'])\n",
    "Qui"
   ]
  },
  {
   "cell_type": "code",
   "execution_count": 138,
   "metadata": {
    "collapsed": true,
    "jupyter": {
     "outputs_hidden": true,
     "source_hidden": true
    }
   },
   "outputs": [
    {
     "name": "stdout",
     "output_type": "stream",
     "text": [
      "LinearRegression()\n",
      "R^2: 0.51 \n",
      "Mean Absolute error: 154764.80516782202\n",
      "Mean Squared error: 48173006756.82912\n",
      "Root Mean Squared Error: 219483.49996487008\n",
      "--------------------------------------\n",
      "=======================================\n",
      "--------------------------------------\n",
      "KNeighborsRegressor(metric='euclidean')\n",
      "R^2: 0.44 \n",
      "Mean Absolute error: 160699.774344473\n",
      "Mean Squared error: 55290877932.585495\n",
      "Root Mean Squared Error: 235140.12403795635\n",
      "--------------------------------------\n",
      "=======================================\n",
      "--------------------------------------\n",
      "DecisionTreeRegressor(random_state=42)\n",
      "R^2: 0.18 \n",
      "Mean Absolute error: 186220.58518193773\n",
      "Mean Squared error: 80107844745.82787\n",
      "Root Mean Squared Error: 283033.2926456318\n",
      "--------------------------------------\n",
      "=======================================\n",
      "--------------------------------------\n",
      "RandomForestRegressor(random_state=26)\n",
      "R^2: 0.51 \n",
      "Mean Absolute error: 152540.16153647486\n",
      "Mean Squared error: 47892460372.02529\n",
      "Root Mean Squared Error: 218843.4608847733\n",
      "--------------------------------------\n",
      "=======================================\n",
      "--------------------------------------\n",
      "DecisionTreeRegressor(random_state=26)\n",
      "R^2: 0.20 \n",
      "Mean Absolute error: 184475.7638737401\n",
      "Mean Squared error: 78143100148.53098\n",
      "Root Mean Squared Error: 279540.8738423256\n",
      "--------------------------------------\n",
      "=======================================\n",
      "--------------------------------------\n",
      "GradientBoostingRegressor(max_depth=7, random_state=42)\n",
      "R^2: 0.55 \n",
      "Mean Absolute error: 147504.1483639407\n",
      "Mean Squared error: 44242920132.72805\n",
      "Root Mean Squared Error: 210340.01077476452\n",
      "--------------------------------------\n",
      "=======================================\n",
      "--------------------------------------\n",
      "XGBRegressor(base_score=0.5, booster='gbtree', colsample_bylevel=1,\n",
      "             colsample_bynode=1, colsample_bytree=1, gamma=0, gpu_id=-1,\n",
      "             importance_type='gain', interaction_constraints='',\n",
      "             learning_rate=0.300000012, max_delta_step=0, max_depth=4,\n",
      "             min_child_weight=1, missing=nan, monotone_constraints='()',\n",
      "             n_estimators=100, n_jobs=4, num_parallel_tree=1, random_state=42,\n",
      "             reg_alpha=0, reg_lambda=1, scale_pos_weight=1, subsample=1,\n",
      "             tree_method='exact', validate_parameters=1, verbosity=None)\n",
      "R^2: 0.54 \n",
      "Mean Absolute error: 147896.34616805913\n",
      "Mean Squared error: 45084714487.872116\n",
      "Root Mean Squared Error: 212331.61443334838\n",
      "--------------------------------------\n",
      "=======================================\n",
      "--------------------------------------\n"
     ]
    }
   ],
   "source": [
    "model = [lr, knn, dct, rft, bag_base, gbos, xgb]\n",
    "\n",
    "for i in model:\n",
    "    \n",
    "    i.fit(X_train,y_train)\n",
    "    y_pred = i.predict(X_test)\n",
    "    r2 = r2_score(y_test, y_pred)\n",
    "    MAE = mean_absolute_error(y_test, y_pred)\n",
    "    MSE = mean_squared_error(y_test, y_pred)\n",
    "    RMSE = np.sqrt(mean_squared_error(y_test, y_pred))\n",
    "    print(i)\n",
    "    print('R^2: %.2f '%r2)\n",
    "    print('Mean Absolute error:', MAE)\n",
    "    print('Mean Squared error:', MSE )\n",
    "    print('Root Mean Squared Error:', RMSE)\n",
    "    acc_reg(y_pred,y_test,0.1)\n",
    "    print('--------------------------------------')\n",
    "    print('=======================================')\n",
    "    print('--------------------------------------')"
   ]
  }
 ],
 "metadata": {
  "kernelspec": {
   "display_name": "Python 3",
   "language": "python",
   "name": "python3"
  },
  "language_info": {
   "codemirror_mode": {
    "name": "ipython",
    "version": 3
   },
   "file_extension": ".py",
   "mimetype": "text/x-python",
   "name": "python",
   "nbconvert_exporter": "python",
   "pygments_lexer": "ipython3",
   "version": "3.8.5"
  }
 },
 "nbformat": 4,
 "nbformat_minor": 4
}
