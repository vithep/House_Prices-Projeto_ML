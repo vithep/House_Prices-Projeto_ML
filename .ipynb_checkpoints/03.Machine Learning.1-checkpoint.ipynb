{
 "cells": [
  {
   "cell_type": "markdown",
   "metadata": {},
   "source": [
    "# House Price - Linear Regression"
   ]
  },
  {
   "cell_type": "markdown",
   "metadata": {},
   "source": [
    "## Parte 03 - Machine Learning - Rodagem com todas as variaveis"
   ]
  },
  {
   "cell_type": "markdown",
   "metadata": {},
   "source": [
    "#### > Importação das Bibliotecas"
   ]
  },
  {
   "cell_type": "code",
   "execution_count": 1,
   "metadata": {},
   "outputs": [
    {
     "name": "stdout",
     "output_type": "stream",
     "text": [
      "Requirement already satisfied: xgboost in c:\\users\\vithep\\anaconda3\\lib\\site-packages (1.3.3)\n",
      "Requirement already satisfied: numpy in c:\\users\\vithep\\anaconda3\\lib\\site-packages (from xgboost) (1.19.2)\n",
      "Requirement already satisfied: scipy in c:\\users\\vithep\\anaconda3\\lib\\site-packages (from xgboost) (1.5.2)\n",
      "Note: you may need to restart the kernel to use updated packages.\n"
     ]
    }
   ],
   "source": [
    "pip install xgboost"
   ]
  },
  {
   "cell_type": "code",
   "execution_count": 2,
   "metadata": {},
   "outputs": [],
   "source": [
    "import matplotlib.pyplot as plt  \n",
    "import numpy as np \n",
    "import pandas as pd  \n",
    "import seaborn as sns\n",
    "from sklearn.ensemble import BaggingRegressor\n",
    "from sklearn.ensemble import GradientBoostingRegressor\n",
    "from sklearn.ensemble import RandomForestRegressor\n",
    "from sklearn.ensemble import VotingRegressor\n",
    "from sklearn.linear_model import LinearRegression\n",
    "from sklearn.model_selection import train_test_split \n",
    "from sklearn.neighbors import KNeighborsRegressor\n",
    "from sklearn.metrics import mean_squared_error, mean_absolute_error, r2_score\n",
    "from sklearn.tree import DecisionTreeRegressor\n",
    "from statsmodels.formula.api import ols\n",
    "from xgboost import XGBRegressor\n",
    "import statsmodels.api as sm\n",
    "import statsmodels.formula.api as smf"
   ]
  },
  {
   "cell_type": "markdown",
   "metadata": {},
   "source": [
    "#### > Carregamento do Dataset"
   ]
  },
  {
   "cell_type": "markdown",
   "metadata": {},
   "source": [
    "Carregamento do dataset **'house_data.csv'**. O comando 'set_option' permite que a tabela seja apresentada sem simplicação "
   ]
  },
  {
   "cell_type": "code",
   "execution_count": 3,
   "metadata": {},
   "outputs": [],
   "source": [
    "df0 = pd.read_csv('house_data.csv')\n",
    "pd.set_option('max_columns', None)"
   ]
  },
  {
   "cell_type": "markdown",
   "metadata": {},
   "source": [
    "#### 1. Primeira Rodagem"
   ]
  },
  {
   "cell_type": "markdown",
   "metadata": {},
   "source": [
    "Nessa primeira rodagem, serão colocados todos os dados do dataset, com a intenção de prever o preço da casa"
   ]
  },
  {
   "cell_type": "markdown",
   "metadata": {},
   "source": [
    "##### > Separando os Dados"
   ]
  },
  {
   "cell_type": "markdown",
   "metadata": {},
   "source": [
    "Colocando todas as colunas como variaveis"
   ]
  },
  {
   "cell_type": "code",
   "execution_count": 4,
   "metadata": {},
   "outputs": [],
   "source": [
    "df = df0.copy()"
   ]
  },
  {
   "cell_type": "code",
   "execution_count": 5,
   "metadata": {},
   "outputs": [
    {
     "data": {
      "text/plain": [
       "Index(['date', 'day', 'month', 'year', 'price', 'bedrooms', 'bathrooms',\n",
       "       'sqft_living', 'sqft_lot', 'floors', 'waterfront', 'view', 'condition',\n",
       "       'grade', 'sqft_above', 'sqft_basement', 'age_built', 'yr_renovated',\n",
       "       'zipcode', 'lat', 'long', 'sqft_living15', 'sqft_lot15'],\n",
       "      dtype='object')"
      ]
     },
     "execution_count": 5,
     "metadata": {},
     "output_type": "execute_result"
    }
   ],
   "source": [
    "df.columns"
   ]
  },
  {
   "cell_type": "code",
   "execution_count": 6,
   "metadata": {},
   "outputs": [
    {
     "name": "stdout",
     "output_type": "stream",
     "text": [
      "<class 'pandas.core.frame.DataFrame'>\n",
      "RangeIndex: 21613 entries, 0 to 21612\n",
      "Data columns (total 23 columns):\n",
      " #   Column         Non-Null Count  Dtype  \n",
      "---  ------         --------------  -----  \n",
      " 0   date           21613 non-null  object \n",
      " 1   day            21613 non-null  int64  \n",
      " 2   month          21613 non-null  int64  \n",
      " 3   year           21613 non-null  int64  \n",
      " 4   price          21613 non-null  float64\n",
      " 5   bedrooms       21613 non-null  int64  \n",
      " 6   bathrooms      21613 non-null  float64\n",
      " 7   sqft_living    21613 non-null  int64  \n",
      " 8   sqft_lot       21613 non-null  int64  \n",
      " 9   floors         21613 non-null  float64\n",
      " 10  waterfront     21613 non-null  int64  \n",
      " 11  view           21613 non-null  int64  \n",
      " 12  condition      21613 non-null  int64  \n",
      " 13  grade          21613 non-null  int64  \n",
      " 14  sqft_above     21613 non-null  int64  \n",
      " 15  sqft_basement  21613 non-null  int64  \n",
      " 16  age_built      21613 non-null  int64  \n",
      " 17  yr_renovated   21613 non-null  int64  \n",
      " 18  zipcode        21613 non-null  int64  \n",
      " 19  lat            21613 non-null  float64\n",
      " 20  long           21613 non-null  float64\n",
      " 21  sqft_living15  21613 non-null  int64  \n",
      " 22  sqft_lot15     21613 non-null  int64  \n",
      "dtypes: float64(5), int64(17), object(1)\n",
      "memory usage: 3.8+ MB\n"
     ]
    }
   ],
   "source": [
    "df.info()"
   ]
  },
  {
   "cell_type": "markdown",
   "metadata": {},
   "source": [
    "Transformando os tipos de variaveis"
   ]
  },
  {
   "cell_type": "code",
   "execution_count": 7,
   "metadata": {},
   "outputs": [],
   "source": [
    "df['date']=df['date'].astype('datetime64')"
   ]
  },
  {
   "cell_type": "code",
   "execution_count": 8,
   "metadata": {},
   "outputs": [
    {
     "name": "stdout",
     "output_type": "stream",
     "text": [
      "<class 'pandas.core.frame.DataFrame'>\n",
      "RangeIndex: 21613 entries, 0 to 21612\n",
      "Data columns (total 23 columns):\n",
      " #   Column         Non-Null Count  Dtype         \n",
      "---  ------         --------------  -----         \n",
      " 0   date           21613 non-null  datetime64[ns]\n",
      " 1   day            21613 non-null  int64         \n",
      " 2   month          21613 non-null  int64         \n",
      " 3   year           21613 non-null  int64         \n",
      " 4   price          21613 non-null  float64       \n",
      " 5   bedrooms       21613 non-null  int64         \n",
      " 6   bathrooms      21613 non-null  float64       \n",
      " 7   sqft_living    21613 non-null  int64         \n",
      " 8   sqft_lot       21613 non-null  int64         \n",
      " 9   floors         21613 non-null  float64       \n",
      " 10  waterfront     21613 non-null  int64         \n",
      " 11  view           21613 non-null  int64         \n",
      " 12  condition      21613 non-null  int64         \n",
      " 13  grade          21613 non-null  int64         \n",
      " 14  sqft_above     21613 non-null  int64         \n",
      " 15  sqft_basement  21613 non-null  int64         \n",
      " 16  age_built      21613 non-null  int64         \n",
      " 17  yr_renovated   21613 non-null  int64         \n",
      " 18  zipcode        21613 non-null  int64         \n",
      " 19  lat            21613 non-null  float64       \n",
      " 20  long           21613 non-null  float64       \n",
      " 21  sqft_living15  21613 non-null  int64         \n",
      " 22  sqft_lot15     21613 non-null  int64         \n",
      "dtypes: datetime64[ns](1), float64(5), int64(17)\n",
      "memory usage: 3.8 MB\n"
     ]
    }
   ],
   "source": [
    "df.info()"
   ]
  },
  {
   "cell_type": "markdown",
   "metadata": {},
   "source": [
    "Colocando as features em uma variavel"
   ]
  },
  {
   "cell_type": "code",
   "execution_count": 9,
   "metadata": {},
   "outputs": [],
   "source": [
    "X = df[['day', 'month', 'year', 'bedrooms', 'bathrooms',\n",
    "       'sqft_living', 'sqft_lot', 'floors', 'waterfront', 'view', 'condition',\n",
    "       'grade', 'sqft_above', 'sqft_basement', 'age_built', 'yr_renovated',\n",
    "       'zipcode', 'lat', 'long', 'sqft_living15', 'sqft_lot15']]"
   ]
  },
  {
   "cell_type": "markdown",
   "metadata": {},
   "source": [
    "Colocando a coluna 'price' como nossa variavel resposta"
   ]
  },
  {
   "cell_type": "code",
   "execution_count": 10,
   "metadata": {},
   "outputs": [],
   "source": [
    "y = df['price']"
   ]
  },
  {
   "cell_type": "markdown",
   "metadata": {},
   "source": [
    "Realizando a separação dos dados em Treino e Teste, onde 30% dos dados serão de teste"
   ]
  },
  {
   "cell_type": "code",
   "execution_count": 11,
   "metadata": {},
   "outputs": [],
   "source": [
    "X_train,X_test,y_train,y_test=train_test_split(X,y,test_size=0.2,random_state=42)"
   ]
  },
  {
   "cell_type": "markdown",
   "metadata": {},
   "source": [
    "Metrica para validação dos dados"
   ]
  },
  {
   "cell_type": "code",
   "execution_count": 12,
   "metadata": {},
   "outputs": [],
   "source": [
    "def acc_reg(y_pred,y_test,tolerancia):\n",
    "    \n",
    "    df_final = pd.DataFrame({'Actual': y_test, 'Predicted': y_pred})\n",
    "    \n",
    "    df_final['error']=1-df_final['Predicted']/df_final['Actual']\n",
    "    \n",
    "    ((df_final['error']<tolerancia) & (df_final['error']>-tolerancia)).value_counts()\n",
    "    \n",
    "    Falso = ((df_final['error']<tolerancia) & (df_final['error']>-tolerancia)).value_counts()[0]\n",
    "    \n",
    "    Verdadeiro = ((df_final['error']<tolerancia) & (df_final['error']>-tolerancia)).value_counts()[1]\n",
    "    \n",
    "    Acc = Verdadeiro/(Falso+Verdadeiro)*100\n",
    "    \n",
    "    return round(Acc,2)"
   ]
  },
  {
   "cell_type": "markdown",
   "metadata": {},
   "source": [
    "#### > LinearRegression"
   ]
  },
  {
   "cell_type": "markdown",
   "metadata": {},
   "source": [
    "##### > Verificação dos resultados"
   ]
  },
  {
   "cell_type": "code",
   "execution_count": 13,
   "metadata": {},
   "outputs": [
    {
     "name": "stdout",
     "output_type": "stream",
     "text": [
      "Coefficient: [-3.47904822e+02  1.13920027e+03  3.35240754e+04 -3.45002445e+04\n",
      "  4.46457817e+04  1.09075885e+02  8.58748177e-02  7.52014443e+03\n",
      "  5.63025998e+05  5.34117431e+04  2.58473178e+04  9.47238693e+04\n",
      "  7.00250182e+01  3.90508664e+01  2.67552983e+03  2.16391286e+01\n",
      " -5.53708536e+02  5.98270535e+05 -1.95001857e+05  2.13477786e+01\n",
      " -3.27377685e-01]\n",
      "Intercept: -66310248.64623741\n",
      "R^2: 0.70 \n",
      "Mean Absolute error: 126929.17347038178\n",
      "Mean Squared error: 44951491944.93573\n",
      "Root Mean Squared Error: 212017.6689451512\n"
     ]
    }
   ],
   "source": [
    "lr = LinearRegression()\n",
    "lr.fit(X_train,y_train)\n",
    "y_pred = lr.predict(X_test)\n",
    "lrr = r2_score(y_test, y_pred)\n",
    "MAElr = mean_absolute_error(y_test, y_pred)\n",
    "MSElr = mean_squared_error(y_test, y_pred)\n",
    "RMSElr = np.sqrt(mean_squared_error(y_test, y_pred))\n",
    "print('Coefficient:', lr.coef_)\n",
    "print('Intercept:', lr.intercept_)\n",
    "print('R^2: %.2f ' % lrr)\n",
    "print('Mean Absolute error:', MAElr)\n",
    "print('Mean Squared error:', MSElr )\n",
    "print('Root Mean Squared Error:', RMSElr )"
   ]
  },
  {
   "cell_type": "code",
   "execution_count": 14,
   "metadata": {},
   "outputs": [
    {
     "data": {
      "image/png": "[encoded data removed]",
      "text/plain": [
       "<Figure size 432x288 with 1 Axes>"
      ]
     },
     "metadata": {
      "needs_background": "light"
     },
     "output_type": "display_data"
    }
   ],
   "source": [
    "plt.scatter(y_test, y_pred)\n",
    "plt.xlabel('Preço')\n",
    "plt.ylabel('Previsão do Preço')\n",
    "plt.title('Preço vs Previsão do Preço')\n",
    "plt.show()"
   ]
  },
  {
   "cell_type": "code",
   "execution_count": 15,
   "metadata": {},
   "outputs": [
    {
     "data": {
      "text/plain": [
       "28.57"
      ]
     },
     "execution_count": 15,
     "metadata": {},
     "output_type": "execute_result"
    }
   ],
   "source": [
    "lrp = acc_reg(y_pred,y_test,0.1)\n",
    "lrp"
   ]
  },
  {
   "cell_type": "code",
   "execution_count": 16,
   "metadata": {},
   "outputs": [
    {
     "data": {
      "text/plain": [
       "['LinearRegression',\n",
       " 0.7026559760833999,\n",
       " 126929.17347038178,\n",
       " 44951491944.93573,\n",
       " 212017.6689451512,\n",
       " 28.57]"
      ]
     },
     "execution_count": 16,
     "metadata": {},
     "output_type": "execute_result"
    }
   ],
   "source": [
    "Linear = ['LinearRegression',lrr,MAElr,MSElr,RMSElr,lrp]\n",
    "Linear"
   ]
  },
  {
   "cell_type": "markdown",
   "metadata": {},
   "source": [
    "#### > KNN Regressor"
   ]
  },
  {
   "cell_type": "markdown",
   "metadata": {},
   "source": [
    "##### > Verificação dos resultados"
   ]
  },
  {
   "cell_type": "code",
   "execution_count": 17,
   "metadata": {},
   "outputs": [
    {
     "name": "stdout",
     "output_type": "stream",
     "text": [
      "R^2: 0.50 \n",
      "Mean Absolute error: 164958.10242886882\n",
      "Mean Squared error: 75047725156.76462\n",
      "Root Mean Squared Error: 273948.3987118096\n"
     ]
    }
   ],
   "source": [
    "knn = KNeighborsRegressor(n_neighbors=5,metric='euclidean')\n",
    "knn.fit(X_train,y_train)\n",
    "y_pred = knn.predict(X_test)\n",
    "knnr = r2_score(y_test, y_pred)\n",
    "MAEknn = mean_absolute_error(y_test, y_pred)\n",
    "MSEknn = mean_squared_error(y_test, y_pred)\n",
    "RMSEknn = np.sqrt(mean_squared_error(y_test, y_pred))\n",
    "print('R^2: %.2f ' % knnr)\n",
    "print('Mean Absolute error:', MAEknn)\n",
    "print('Mean Squared error:', MSEknn )\n",
    "print('Root Mean Squared Error:', RMSEknn )"
   ]
  },
  {
   "cell_type": "code",
   "execution_count": 18,
   "metadata": {},
   "outputs": [
    {
     "data": {
      "image/png": "[encoded data removed]",
      "text/plain": [
       "<Figure size 432x288 with 1 Axes>"
      ]
     },
     "metadata": {
      "needs_background": "light"
     },
     "output_type": "display_data"
    }
   ],
   "source": [
    "plt.scatter(y_test, y_pred)\n",
    "plt.xlabel('Preço')\n",
    "plt.ylabel('Previsão do Preço')\n",
    "plt.title('Preço vs Previsão do Preço')\n",
    "plt.show()"
   ]
  },
  {
   "cell_type": "code",
   "execution_count": 19,
   "metadata": {},
   "outputs": [
    {
     "data": {
      "text/plain": [
       "22.25"
      ]
     },
     "execution_count": 19,
     "metadata": {},
     "output_type": "execute_result"
    }
   ],
   "source": [
    "knnp = acc_reg(y_pred,y_test,0.1)\n",
    "knnp"
   ]
  },
  {
   "cell_type": "code",
   "execution_count": 20,
   "metadata": {},
   "outputs": [
    {
     "data": {
      "text/plain": [
       "['KNN Regressor',\n",
       " 0.5035761524615321,\n",
       " 164958.10242886882,\n",
       " 75047725156.76462,\n",
       " 273948.3987118096,\n",
       " 22.25]"
      ]
     },
     "execution_count": 20,
     "metadata": {},
     "output_type": "execute_result"
    }
   ],
   "source": [
    "KNN = ['KNN Regressor',knnr,MAEknn,MSEknn,RMSEknn,knnp]\n",
    "KNN"
   ]
  },
  {
   "cell_type": "markdown",
   "metadata": {},
   "source": [
    "#### > Decision Tree"
   ]
  },
  {
   "cell_type": "markdown",
   "metadata": {},
   "source": [
    "##### > Verificação dos resultados"
   ]
  },
  {
   "cell_type": "code",
   "execution_count": 21,
   "metadata": {},
   "outputs": [
    {
     "name": "stdout",
     "output_type": "stream",
     "text": [
      "R^2: 0.70 \n",
      "Mean Absolute error: 106339.26856349756\n",
      "Mean Squared error: 44855277426.120285\n",
      "Root Mean Squared Error: 211790.6452752819\n"
     ]
    }
   ],
   "source": [
    "dct = DecisionTreeRegressor(random_state=42)\n",
    "dct.fit(X_train, y_train)\n",
    "y_pred = dct.predict(X_test)\n",
    "dtr = r2_score(y_test, y_pred)\n",
    "MAEdt = mean_absolute_error(y_test, y_pred)\n",
    "MSEdt = mean_squared_error(y_test, y_pred)\n",
    "RMSEdt = np.sqrt(mean_squared_error(y_test, y_pred))\n",
    "print('R^2: %.2f ' % dtr)\n",
    "print('Mean Absolute error:', MAEdt)\n",
    "print('Mean Squared error:', MSEdt )\n",
    "print('Root Mean Squared Error:', RMSEdt )"
   ]
  },
  {
   "cell_type": "code",
   "execution_count": 22,
   "metadata": {},
   "outputs": [
    {
     "data": {
      "image/png": "[encoded data removed]",
      "text/plain": [
       "<Figure size 432x288 with 1 Axes>"
      ]
     },
     "metadata": {
      "needs_background": "light"
     },
     "output_type": "display_data"
    }
   ],
   "source": [
    "plt.scatter(y_test, y_pred)\n",
    "plt.xlabel('Preço')\n",
    "plt.ylabel('Previsão do Preço')\n",
    "plt.title('Preço vs Previsão do Preço')\n",
    "plt.show()"
   ]
  },
  {
   "cell_type": "code",
   "execution_count": 23,
   "metadata": {},
   "outputs": [
    {
     "data": {
      "text/plain": [
       "40.64"
      ]
     },
     "execution_count": 23,
     "metadata": {},
     "output_type": "execute_result"
    }
   ],
   "source": [
    "dtp = acc_reg(y_pred,y_test,0.1)\n",
    "dtp"
   ]
  },
  {
   "cell_type": "code",
   "execution_count": 24,
   "metadata": {},
   "outputs": [
    {
     "data": {
      "text/plain": [
       "['Decision Tree',\n",
       " 0.7032924135173082,\n",
       " 106339.26856349756,\n",
       " 44855277426.120285,\n",
       " 211790.6452752819,\n",
       " 40.64]"
      ]
     },
     "execution_count": 24,
     "metadata": {},
     "output_type": "execute_result"
    }
   ],
   "source": [
    "DT = ['Decision Tree',dtr,MAEdt,MSEdt,RMSEdt,dtp]\n",
    "DT"
   ]
  },
  {
   "cell_type": "markdown",
   "metadata": {},
   "source": [
    "#### > Random Forest"
   ]
  },
  {
   "cell_type": "markdown",
   "metadata": {},
   "source": [
    "##### > Verificação dos resultados"
   ]
  },
  {
   "cell_type": "code",
   "execution_count": 25,
   "metadata": {},
   "outputs": [
    {
     "name": "stdout",
     "output_type": "stream",
     "text": [
      "R^2: 0.87 \n",
      "Mean Absolute error: 72748.30682627804\n",
      "Mean Squared error: 20155891671.116276\n",
      "Root Mean Squared Error: 141971.44667543637\n"
     ]
    }
   ],
   "source": [
    "rft = RandomForestRegressor(n_estimators=100, random_state=26)\n",
    "rft.fit(X_train, y_train)\n",
    "y_pred = rft.predict(X_test)\n",
    "rfr = r2_score(y_test, y_pred)\n",
    "MAErf = mean_absolute_error(y_test, y_pred)\n",
    "MSErf = mean_squared_error(y_test, y_pred)\n",
    "RMSErf = np.sqrt(mean_squared_error(y_test, y_pred))\n",
    "print('R^2: %.2f ' % rfr)\n",
    "print('Mean Absolute error:', MAErf)\n",
    "print('Mean Squared error:', MSErf )\n",
    "print('Root Mean Squared Error:', RMSErf )"
   ]
  },
  {
   "cell_type": "code",
   "execution_count": 26,
   "metadata": {},
   "outputs": [
    {
     "data": {
      "image/png": "[encoded data removed]",
      "text/plain": [
       "<Figure size 432x288 with 1 Axes>"
      ]
     },
     "metadata": {
      "needs_background": "light"
     },
     "output_type": "display_data"
    }
   ],
   "source": [
    "plt.scatter(y_test, y_pred)\n",
    "plt.xlabel('Preço')\n",
    "plt.ylabel('Previsão do Preço')\n",
    "plt.title('Preço vs Previsão do Preço')\n",
    "plt.show()"
   ]
  },
  {
   "cell_type": "code",
   "execution_count": 27,
   "metadata": {},
   "outputs": [
    {
     "data": {
      "text/plain": [
       "54.71"
      ]
     },
     "execution_count": 27,
     "metadata": {},
     "output_type": "execute_result"
    }
   ],
   "source": [
    "rfp = acc_reg(y_pred,y_test,0.1)\n",
    "rfp"
   ]
  },
  {
   "cell_type": "code",
   "execution_count": 28,
   "metadata": {},
   "outputs": [
    {
     "data": {
      "text/plain": [
       "['Random Forest',\n",
       " 0.8666733032474576,\n",
       " 72748.30682627804,\n",
       " 20155891671.116276,\n",
       " 141971.44667543637,\n",
       " 54.71]"
      ]
     },
     "execution_count": 28,
     "metadata": {},
     "output_type": "execute_result"
    }
   ],
   "source": [
    "RF = ['Random Forest',rfr,MAErf,MSErf,RMSErf,rfp]\n",
    "RF"
   ]
  },
  {
   "cell_type": "markdown",
   "metadata": {},
   "source": [
    "#### > Bagging"
   ]
  },
  {
   "cell_type": "markdown",
   "metadata": {},
   "source": [
    "##### > Verificação dos resultados"
   ]
  },
  {
   "cell_type": "code",
   "execution_count": 29,
   "metadata": {},
   "outputs": [
    {
     "name": "stdout",
     "output_type": "stream",
     "text": [
      "R^2: 0.84 \n",
      "Mean Absolute error: 76903.42482072634\n",
      "Mean Squared error: 23714832014.083797\n",
      "Root Mean Squared Error: 153996.20779124333\n"
     ]
    }
   ],
   "source": [
    "bag_base = DecisionTreeRegressor(random_state=26)\n",
    "bag = BaggingRegressor(base_estimator=bag_base, n_estimators=10, random_state=26)\n",
    "bag.fit(X_train, y_train)\n",
    "y_pred = bag.predict(X_test)\n",
    "bagr = r2_score(y_test, y_pred)\n",
    "MAEbag = mean_absolute_error(y_test, y_pred)\n",
    "MSEbag = mean_squared_error(y_test, y_pred)\n",
    "RMSEbag = np.sqrt(mean_squared_error(y_test, y_pred))\n",
    "print('R^2: %.2f ' % bagr)\n",
    "print('Mean Absolute error:', MAEbag)\n",
    "print('Mean Squared error:', MSEbag )\n",
    "print('Root Mean Squared Error:', RMSEbag)"
   ]
  },
  {
   "cell_type": "code",
   "execution_count": 30,
   "metadata": {},
   "outputs": [
    {
     "data": {
      "image/png": "[encoded data removed]",
      "text/plain": [
       "<Figure size 432x288 with 1 Axes>"
      ]
     },
     "metadata": {
      "needs_background": "light"
     },
     "output_type": "display_data"
    }
   ],
   "source": [
    "plt.scatter(y_test, y_pred)\n",
    "plt.xlabel('Preço')\n",
    "plt.ylabel('Previsão do Preço')\n",
    "plt.title('Preço vs Previsão do Preço')\n",
    "plt.show()"
   ]
  },
  {
   "cell_type": "code",
   "execution_count": 31,
   "metadata": {},
   "outputs": [
    {
     "data": {
      "text/plain": [
       "51.75"
      ]
     },
     "execution_count": 31,
     "metadata": {},
     "output_type": "execute_result"
    }
   ],
   "source": [
    "bagp = acc_reg(y_pred,y_test,0.1)\n",
    "bagp"
   ]
  },
  {
   "cell_type": "code",
   "execution_count": 32,
   "metadata": {},
   "outputs": [
    {
     "data": {
      "text/plain": [
       "['Bagging',\n",
       " 0.8431317121529198,\n",
       " 76903.42482072634,\n",
       " 23714832014.083797,\n",
       " 153996.20779124333,\n",
       " 51.75]"
      ]
     },
     "execution_count": 32,
     "metadata": {},
     "output_type": "execute_result"
    }
   ],
   "source": [
    "BAG = ['Bagging',bagr,MAEbag,MSEbag,RMSEbag,bagp]\n",
    "BAG"
   ]
  },
  {
   "cell_type": "markdown",
   "metadata": {},
   "source": [
    "#### > Ensemble"
   ]
  },
  {
   "cell_type": "markdown",
   "metadata": {},
   "source": [
    "##### > Verificação dos resultados"
   ]
  },
  {
   "cell_type": "code",
   "execution_count": 33,
   "metadata": {},
   "outputs": [
    {
     "name": "stdout",
     "output_type": "stream",
     "text": [
      "R^2: 0.82 \n",
      "Mean Absolute error: 90766.41278090916\n",
      "Mean Squared error: 26830119218.563725\n",
      "Root Mean Squared Error: 163799.0208107598\n"
     ]
    }
   ],
   "source": [
    "rft2 = RandomForestRegressor(n_estimators=10, random_state=26)\n",
    "ens = VotingRegressor([('LR', lr), ('RF', rft2)])\n",
    "ens.fit(X_train, y_train)\n",
    "y_pred = ens.predict(X_test)\n",
    "ensr = r2_score(y_test, y_pred)\n",
    "MAEens = mean_absolute_error(y_test, y_pred)\n",
    "MSEens = mean_squared_error(y_test, y_pred)\n",
    "RMSEens = np.sqrt(mean_squared_error(y_test, y_pred))\n",
    "print('R^2: %.2f ' % ensr)\n",
    "print('Mean Absolute error:', MAEens)\n",
    "print('Mean Squared error:', MSEens )\n",
    "print('Root Mean Squared Error:', RMSEens)"
   ]
  },
  {
   "cell_type": "code",
   "execution_count": 34,
   "metadata": {},
   "outputs": [
    {
     "data": {
      "image/png": "[encoded data removed]",
      "text/plain": [
       "<Figure size 432x288 with 1 Axes>"
      ]
     },
     "metadata": {
      "needs_background": "light"
     },
     "output_type": "display_data"
    }
   ],
   "source": [
    "plt.scatter(y_test, y_pred)\n",
    "plt.xlabel('Preço')\n",
    "plt.ylabel('Previsão do Preço')\n",
    "plt.title('Preço vs Previsão do Preço')\n",
    "plt.show()"
   ]
  },
  {
   "cell_type": "code",
   "execution_count": 35,
   "metadata": {},
   "outputs": [
    {
     "data": {
      "text/plain": [
       "40.64"
      ]
     },
     "execution_count": 35,
     "metadata": {},
     "output_type": "execute_result"
    }
   ],
   "source": [
    "ensp = acc_reg(y_pred,y_test,0.1)\n",
    "ensp"
   ]
  },
  {
   "cell_type": "code",
   "execution_count": 36,
   "metadata": {},
   "outputs": [
    {
     "data": {
      "text/plain": [
       "['Ensemble',\n",
       " 0.8225247869329368,\n",
       " 90766.41278090916,\n",
       " 26830119218.563725,\n",
       " 163799.0208107598,\n",
       " 40.64]"
      ]
     },
     "execution_count": 36,
     "metadata": {},
     "output_type": "execute_result"
    }
   ],
   "source": [
    "ENS = ['Ensemble',ensr,MAEens,MSEens,RMSEens,ensp]\n",
    "ENS"
   ]
  },
  {
   "cell_type": "markdown",
   "metadata": {},
   "source": [
    "#### > Gradient Boosting Regressor"
   ]
  },
  {
   "cell_type": "markdown",
   "metadata": {},
   "source": [
    "##### > Verificação dos resultados"
   ]
  },
  {
   "cell_type": "code",
   "execution_count": 37,
   "metadata": {},
   "outputs": [
    {
     "name": "stdout",
     "output_type": "stream",
     "text": [
      "R^2: 0.87 \n",
      "Mean Absolute error: 68066.17668039865\n",
      "Mean Squared error: 18898875031.02849\n",
      "Root Mean Squared Error: 137473.17931519766\n"
     ]
    }
   ],
   "source": [
    "gbos = GradientBoostingRegressor(max_depth=7,random_state=42)\n",
    "gbos.fit(X_train, y_train)\n",
    "y_pred = gbos.predict(X_test)\n",
    "gbosr = r2_score(y_test, y_pred)\n",
    "MAEgbos = mean_absolute_error(y_test, y_pred)\n",
    "MSEgbos = mean_squared_error(y_test, y_pred)\n",
    "RMSEgbos = np.sqrt(mean_squared_error(y_test, y_pred))\n",
    "print('R^2: %.2f ' % gbosr)\n",
    "print('Mean Absolute error:', MAEgbos)\n",
    "print('Mean Squared error:', MSEgbos )\n",
    "print('Root Mean Squared Error:', RMSEgbos)"
   ]
  },
  {
   "cell_type": "code",
   "execution_count": 38,
   "metadata": {},
   "outputs": [
    {
     "data": {
      "image/png": "[encoded data removed]",
      "text/plain": [
       "<Figure size 432x288 with 1 Axes>"
      ]
     },
     "metadata": {
      "needs_background": "light"
     },
     "output_type": "display_data"
    }
   ],
   "source": [
    "plt.scatter(y_test, y_pred)\n",
    "plt.xlabel('Preço')\n",
    "plt.ylabel('Previsão do Preço')\n",
    "plt.title('Preço vs Previsão do Preço')\n",
    "plt.show()"
   ]
  },
  {
   "cell_type": "code",
   "execution_count": 39,
   "metadata": {},
   "outputs": [
    {
     "data": {
      "text/plain": [
       "56.35"
      ]
     },
     "execution_count": 39,
     "metadata": {},
     "output_type": "execute_result"
    }
   ],
   "source": [
    "gbosp = acc_reg(y_pred,y_test,0.1)\n",
    "gbosp"
   ]
  },
  {
   "cell_type": "code",
   "execution_count": 40,
   "metadata": {},
   "outputs": [
    {
     "data": {
      "text/plain": [
       "['Gradient Boosting',\n",
       " 0.8749881860182381,\n",
       " 68066.17668039865,\n",
       " 18898875031.02849,\n",
       " 137473.17931519766,\n",
       " 56.35]"
      ]
     },
     "execution_count": 40,
     "metadata": {},
     "output_type": "execute_result"
    }
   ],
   "source": [
    "GBOS = ['Gradient Boosting',gbosr,MAEgbos,MSEgbos,RMSEgbos,gbosp]\n",
    "GBOS"
   ]
  },
  {
   "cell_type": "markdown",
   "metadata": {},
   "source": [
    "#### > XGBoost Regressor"
   ]
  },
  {
   "cell_type": "markdown",
   "metadata": {},
   "source": [
    "##### > Verificação dos resultados"
   ]
  },
  {
   "cell_type": "code",
   "execution_count": 41,
   "metadata": {},
   "outputs": [
    {
     "name": "stdout",
     "output_type": "stream",
     "text": [
      "R^2: 0.87 \n",
      "Mean Absolute error: 72485.9115938729\n",
      "Mean Squared error: 19005663693.636326\n",
      "Root Mean Squared Error: 137861.0303662218\n"
     ]
    }
   ],
   "source": [
    "xgb = XGBRegressor(max_depth=4,random_state=42).fit(X_train, y_train)\n",
    "y_pred = xgb.predict(X_test)\n",
    "xgbr = r2_score(y_test, y_pred)\n",
    "MAExgb = mean_absolute_error(y_test, y_pred)\n",
    "MSExgb = mean_squared_error(y_test, y_pred)\n",
    "RMSExgb = np.sqrt(mean_squared_error(y_test, y_pred))\n",
    "print('R^2: %.2f ' % xgbr)\n",
    "print('Mean Absolute error:', MAExgb)\n",
    "print('Mean Squared error:', MSExgb )\n",
    "print('Root Mean Squared Error:', RMSExgb)"
   ]
  },
  {
   "cell_type": "code",
   "execution_count": 42,
   "metadata": {},
   "outputs": [
    {
     "data": {
      "image/png": "[encoded data removed]",
      "text/plain": [
       "<Figure size 432x288 with 1 Axes>"
      ]
     },
     "metadata": {
      "needs_background": "light"
     },
     "output_type": "display_data"
    }
   ],
   "source": [
    "plt.scatter(y_test, y_pred)\n",
    "plt.xlabel('Preço')\n",
    "plt.ylabel('Previsão do Preço')\n",
    "plt.title('Preço vs Previsão do Preço')\n",
    "plt.show()"
   ]
  },
  {
   "cell_type": "code",
   "execution_count": 43,
   "metadata": {},
   "outputs": [
    {
     "data": {
      "text/plain": [
       "53.07"
      ]
     },
     "execution_count": 43,
     "metadata": {},
     "output_type": "execute_result"
    }
   ],
   "source": [
    "xgbp = acc_reg(y_pred,y_test,0.1)\n",
    "xgbp"
   ]
  },
  {
   "cell_type": "code",
   "execution_count": 44,
   "metadata": {},
   "outputs": [
    {
     "data": {
      "text/plain": [
       "['XGBoost Regressor',\n",
       " 0.8742818029979063,\n",
       " 72485.9115938729,\n",
       " 19005663693.636326,\n",
       " 137861.0303662218,\n",
       " 53.07]"
      ]
     },
     "execution_count": 44,
     "metadata": {},
     "output_type": "execute_result"
    }
   ],
   "source": [
    "XGB = ['XGBoost Regressor',xgbr,MAExgb,MSExgb,RMSExgb,xgbp]\n",
    "XGB"
   ]
  },
  {
   "cell_type": "markdown",
   "metadata": {},
   "source": [
    "#### > OLS"
   ]
  },
  {
   "cell_type": "markdown",
   "metadata": {},
   "source": [
    "##### > Verificação dos resultados"
   ]
  },
  {
   "cell_type": "code",
   "execution_count": 45,
   "metadata": {},
   "outputs": [
    {
     "name": "stdout",
     "output_type": "stream",
     "text": [
      "                            OLS Regression Results                            \n",
      "==============================================================================\n",
      "Dep. Variable:                  price   R-squared:                       0.701\n",
      "Model:                            OLS   Adj. R-squared:                  0.701\n",
      "Method:                 Least Squares   F-statistic:                     2535.\n",
      "Date:                Thu, 08 Apr 2021   Prob (F-statistic):               0.00\n",
      "Time:                        14:33:08   Log-Likelihood:            -2.9454e+05\n",
      "No. Observations:               21613   AIC:                         5.891e+05\n",
      "Df Residuals:                   21592   BIC:                         5.893e+05\n",
      "Df Model:                          20                                         \n",
      "Covariance Type:            nonrobust                                         \n",
      "=================================================================================\n",
      "                    coef    std err          t      P>|t|      [0.025      0.975]\n",
      "---------------------------------------------------------------------------------\n",
      "Intercept     -6.659e+07   9.97e+06     -6.678      0.000   -8.61e+07    -4.7e+07\n",
      "day            -346.3079    159.113     -2.176      0.030    -658.180     -34.435\n",
      "month          1149.1408    708.546      1.622      0.105    -239.661    2537.943\n",
      "year           3.372e+04   4721.700      7.141      0.000    2.45e+04     4.3e+04\n",
      "bedrooms      -3.599e+04   1887.092    -19.071      0.000   -3.97e+04   -3.23e+04\n",
      "bathrooms      4.135e+04   3245.409     12.740      0.000     3.5e+04    4.77e+04\n",
      "sqft_living     110.5744      2.264     48.841      0.000     106.137     115.012\n",
      "sqft_lot          0.1252      0.048      2.620      0.009       0.032       0.219\n",
      "floors         7234.4740   3587.170      2.017      0.044     203.356    1.43e+04\n",
      "waterfront     5.836e+05   1.73e+04     33.701      0.000     5.5e+05    6.18e+05\n",
      "view           5.258e+04   2134.935     24.630      0.000    4.84e+04    5.68e+04\n",
      "condition      2.774e+04   2349.604     11.806      0.000    2.31e+04    3.23e+04\n",
      "grade           9.61e+04   2147.700     44.745      0.000    9.19e+04       1e+05\n",
      "sqft_above       70.7972      2.248     31.494      0.000      66.391      75.203\n",
      "sqft_basement    39.7426      2.640     15.054      0.000      34.568      44.917\n",
      "age_built      2619.1566     72.470     36.141      0.000    2477.109    2761.204\n",
      "yr_renovated     20.8914      3.648      5.727      0.000      13.742      28.041\n",
      "zipcode        -582.8260     32.903    -17.713      0.000    -647.319    -518.333\n",
      "lat            6.052e+05   1.07e+04     56.504      0.000    5.84e+05    6.26e+05\n",
      "long          -2.147e+05   1.31e+04    -16.386      0.000    -2.4e+05   -1.89e+05\n",
      "sqft_living15    21.8005      3.439      6.339      0.000      15.060      28.541\n",
      "sqft_lot15       -0.3811      0.073     -5.214      0.000      -0.524      -0.238\n",
      "==============================================================================\n",
      "Omnibus:                    18425.827   Durbin-Watson:                   1.993\n",
      "Prob(Omnibus):                  0.000   Jarque-Bera (JB):          1900056.109\n",
      "Skew:                           3.575   Prob(JB):                         0.00\n",
      "Kurtosis:                      48.374   Cond. No.                     3.60e+17\n",
      "==============================================================================\n",
      "\n",
      "Notes:\n",
      "[1] Standard Errors assume that the covariance matrix of the errors is correctly specified.\n",
      "[2] The smallest eigenvalue is 1.68e-21. This might indicate that there are\n",
      "strong multicollinearity problems or that the design matrix is singular.\n"
     ]
    }
   ],
   "source": [
    "m=ols('price~day+month+year+bedrooms+bathrooms+sqft_living+sqft_lot+floors+waterfront+view+condition+grade+sqft_above+sqft_basement+age_built+yr_renovated+zipcode+lat+long+sqft_living15+sqft_lot15',df).fit()\n",
    "print(m.summary())"
   ]
  },
  {
   "cell_type": "code",
   "execution_count": 46,
   "metadata": {},
   "outputs": [
    {
     "data": {
      "text/html": [
       "<div>\n",
       "<style scoped>\n",
       "    .dataframe tbody tr th:only-of-type {\n",
       "        vertical-align: middle;\n",
       "    }\n",
       "\n",
       "    .dataframe tbody tr th {\n",
       "        vertical-align: top;\n",
       "    }\n",
       "\n",
       "    .dataframe thead th {\n",
       "        text-align: right;\n",
       "    }\n",
       "</style>\n",
       "<table border=\"1\" class=\"dataframe\">\n",
       "  <thead>\n",
       "    <tr style=\"text-align: right;\">\n",
       "      <th></th>\n",
       "      <th>TIPO</th>\n",
       "      <th>R²</th>\n",
       "      <th>MAE</th>\n",
       "      <th>MSE</th>\n",
       "      <th>RMSE</th>\n",
       "      <th>ACURACIA %</th>\n",
       "    </tr>\n",
       "  </thead>\n",
       "  <tbody>\n",
       "    <tr>\n",
       "      <th>0</th>\n",
       "      <td>LinearRegression</td>\n",
       "      <td>0.702656</td>\n",
       "      <td>126929.173470</td>\n",
       "      <td>4.495149e+10</td>\n",
       "      <td>212017.668945</td>\n",
       "      <td>28.57</td>\n",
       "    </tr>\n",
       "    <tr>\n",
       "      <th>1</th>\n",
       "      <td>KNN Regressor</td>\n",
       "      <td>0.503576</td>\n",
       "      <td>164958.102429</td>\n",
       "      <td>7.504773e+10</td>\n",
       "      <td>273948.398712</td>\n",
       "      <td>22.25</td>\n",
       "    </tr>\n",
       "    <tr>\n",
       "      <th>2</th>\n",
       "      <td>Decision Tree</td>\n",
       "      <td>0.703292</td>\n",
       "      <td>106339.268563</td>\n",
       "      <td>4.485528e+10</td>\n",
       "      <td>211790.645275</td>\n",
       "      <td>40.64</td>\n",
       "    </tr>\n",
       "    <tr>\n",
       "      <th>3</th>\n",
       "      <td>Random Forest</td>\n",
       "      <td>0.866673</td>\n",
       "      <td>72748.306826</td>\n",
       "      <td>2.015589e+10</td>\n",
       "      <td>141971.446675</td>\n",
       "      <td>54.71</td>\n",
       "    </tr>\n",
       "    <tr>\n",
       "      <th>4</th>\n",
       "      <td>Bagging</td>\n",
       "      <td>0.843132</td>\n",
       "      <td>76903.424821</td>\n",
       "      <td>2.371483e+10</td>\n",
       "      <td>153996.207791</td>\n",
       "      <td>51.75</td>\n",
       "    </tr>\n",
       "    <tr>\n",
       "      <th>5</th>\n",
       "      <td>Ensemble</td>\n",
       "      <td>0.822525</td>\n",
       "      <td>90766.412781</td>\n",
       "      <td>2.683012e+10</td>\n",
       "      <td>163799.020811</td>\n",
       "      <td>40.64</td>\n",
       "    </tr>\n",
       "    <tr>\n",
       "      <th>6</th>\n",
       "      <td>Gradient Boosting</td>\n",
       "      <td>0.874988</td>\n",
       "      <td>68066.176680</td>\n",
       "      <td>1.889888e+10</td>\n",
       "      <td>137473.179315</td>\n",
       "      <td>56.35</td>\n",
       "    </tr>\n",
       "    <tr>\n",
       "      <th>7</th>\n",
       "      <td>XGBoost Regressor</td>\n",
       "      <td>0.874282</td>\n",
       "      <td>72485.911594</td>\n",
       "      <td>1.900566e+10</td>\n",
       "      <td>137861.030366</td>\n",
       "      <td>53.07</td>\n",
       "    </tr>\n",
       "  </tbody>\n",
       "</table>\n",
       "</div>"
      ],
      "text/plain": [
       "                TIPO        R²            MAE           MSE           RMSE  \\\n",
       "0   LinearRegression  0.702656  126929.173470  4.495149e+10  212017.668945   \n",
       "1      KNN Regressor  0.503576  164958.102429  7.504773e+10  273948.398712   \n",
       "2      Decision Tree  0.703292  106339.268563  4.485528e+10  211790.645275   \n",
       "3      Random Forest  0.866673   72748.306826  2.015589e+10  141971.446675   \n",
       "4            Bagging  0.843132   76903.424821  2.371483e+10  153996.207791   \n",
       "5           Ensemble  0.822525   90766.412781  2.683012e+10  163799.020811   \n",
       "6  Gradient Boosting  0.874988   68066.176680  1.889888e+10  137473.179315   \n",
       "7  XGBoost Regressor  0.874282   72485.911594  1.900566e+10  137861.030366   \n",
       "\n",
       "   ACURACIA %  \n",
       "0       28.57  \n",
       "1       22.25  \n",
       "2       40.64  \n",
       "3       54.71  \n",
       "4       51.75  \n",
       "5       40.64  \n",
       "6       56.35  \n",
       "7       53.07  "
      ]
     },
     "execution_count": 46,
     "metadata": {},
     "output_type": "execute_result"
    }
   ],
   "source": [
    "Fir = pd.DataFrame([Linear,KNN,DT,RF,BAG,ENS,GBOS,XGB],columns=['TIPO','R²','MAE','MSE','RMSE','ACURACIA %'])\n",
    "Fir"
   ]
  },
  {
   "cell_type": "code",
   "execution_count": 47,
   "metadata": {
    "collapsed": true,
    "jupyter": {
     "outputs_hidden": true,
     "source_hidden": true
    }
   },
   "outputs": [
    {
     "name": "stdout",
     "output_type": "stream",
     "text": [
      "LinearRegression()\n",
      "R^2: 0.70 \n",
      "Mean Absolute error: 126929.17347038178\n",
      "Mean Squared error: 44951491944.93573\n",
      "Root Mean Squared Error: 212017.6689451512\n",
      "--------------------------------------\n",
      "=======================================\n",
      "--------------------------------------\n",
      "KNeighborsRegressor(metric='euclidean')\n",
      "R^2: 0.50 \n",
      "Mean Absolute error: 164958.10242886882\n",
      "Mean Squared error: 75047725156.76462\n",
      "Root Mean Squared Error: 273948.3987118096\n",
      "--------------------------------------\n",
      "=======================================\n",
      "--------------------------------------\n",
      "DecisionTreeRegressor(random_state=42)\n",
      "R^2: 0.70 \n",
      "Mean Absolute error: 106339.26856349756\n",
      "Mean Squared error: 44855277426.120285\n",
      "Root Mean Squared Error: 211790.6452752819\n",
      "--------------------------------------\n",
      "=======================================\n",
      "--------------------------------------\n",
      "RandomForestRegressor(random_state=26)\n",
      "R^2: 0.87 \n",
      "Mean Absolute error: 72748.30682627804\n",
      "Mean Squared error: 20155891671.116276\n",
      "Root Mean Squared Error: 141971.44667543637\n",
      "--------------------------------------\n",
      "=======================================\n",
      "--------------------------------------\n",
      "DecisionTreeRegressor(random_state=26)\n",
      "R^2: 0.72 \n",
      "Mean Absolute error: 104175.27249595188\n",
      "Mean Squared error: 41820318317.450615\n",
      "Root Mean Squared Error: 204500.16703526335\n",
      "--------------------------------------\n",
      "=======================================\n",
      "--------------------------------------\n",
      "GradientBoostingRegressor(max_depth=7, random_state=42)\n",
      "R^2: 0.87 \n",
      "Mean Absolute error: 68066.17668039865\n",
      "Mean Squared error: 18898875031.02849\n",
      "Root Mean Squared Error: 137473.17931519766\n",
      "--------------------------------------\n",
      "=======================================\n",
      "--------------------------------------\n",
      "XGBRegressor(base_score=0.5, booster='gbtree', colsample_bylevel=1,\n",
      "             colsample_bynode=1, colsample_bytree=1, gamma=0, gpu_id=-1,\n",
      "             importance_type='gain', interaction_constraints='',\n",
      "             learning_rate=0.300000012, max_delta_step=0, max_depth=4,\n",
      "             min_child_weight=1, missing=nan, monotone_constraints='()',\n",
      "             n_estimators=100, n_jobs=4, num_parallel_tree=1, random_state=42,\n",
      "             reg_alpha=0, reg_lambda=1, scale_pos_weight=1, subsample=1,\n",
      "             tree_method='exact', validate_parameters=1, verbosity=None)\n",
      "R^2: 0.87 \n",
      "Mean Absolute error: 72485.9115938729\n",
      "Mean Squared error: 19005663693.636326\n",
      "Root Mean Squared Error: 137861.0303662218\n",
      "--------------------------------------\n",
      "=======================================\n",
      "--------------------------------------\n"
     ]
    }
   ],
   "source": [
    "model = [lr, knn, dct, rft, bag_base, gbos, xgb]\n",
    "\n",
    "for i in model:\n",
    "    \n",
    "    i.fit(X_train,y_train)\n",
    "    y_pred = i.predict(X_test)\n",
    "    r2 = r2_score(y_test, y_pred)\n",
    "    MAE = mean_absolute_error(y_test, y_pred)\n",
    "    MSE = mean_squared_error(y_test, y_pred)\n",
    "    RMSE = np.sqrt(mean_squared_error(y_test, y_pred))\n",
    "    print(i)\n",
    "    print('R^2: %.2f '%r2)\n",
    "    print('Mean Absolute error:', MAE)\n",
    "    print('Mean Squared error:', MSE )\n",
    "    print('Root Mean Squared Error:', RMSE)\n",
    "    acc_reg(y_pred,y_test,0.1)\n",
    "    print('--------------------------------------')\n",
    "    print('=======================================')\n",
    "    print('--------------------------------------')"
   ]
  }
 ],
 "metadata": {
  "kernelspec": {
   "display_name": "Python 3",
   "language": "python",
   "name": "python3"
  },
  "language_info": {
   "codemirror_mode": {
    "name": "ipython",
    "version": 3
   },
   "file_extension": ".py",
   "mimetype": "text/x-python",
   "name": "python",
   "nbconvert_exporter": "python",
   "pygments_lexer": "ipython3",
   "version": "3.8.5"
  }
 },
 "nbformat": 4,
 "nbformat_minor": 4
}
