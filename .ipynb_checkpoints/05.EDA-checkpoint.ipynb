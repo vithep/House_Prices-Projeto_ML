{
 "cells": [
  {
   "cell_type": "markdown",
   "metadata": {},
   "source": [
    "# House Price - Linear Regression"
   ]
  },
  {
   "cell_type": "markdown",
   "metadata": {},
   "source": [
    "## Parte 01 - EDA"
   ]
  },
  {
   "cell_type": "markdown",
   "metadata": {},
   "source": [
    "#### > Importação das Bibliotecas"
   ]
  },
  {
   "cell_type": "markdown",
   "metadata": {},
   "source": [
    "Download da Biblioteca **Missingno**"
   ]
  },
  {
   "cell_type": "code",
   "execution_count": 2,
   "metadata": {},
   "outputs": [
    {
     "name": "stdout",
     "output_type": "stream",
     "text": [
      "^C\n",
      "\n",
      "Note: you may need to restart the kernel to use updated packages.\n"
     ]
    }
   ],
   "source": [
    "conda install -c conda-forge/label/gcc7 missingno"
   ]
  },
  {
   "cell_type": "code",
   "execution_count": null,
   "metadata": {},
   "outputs": [],
   "source": [
    "import matplotlib.pyplot as plt\n",
    "#import missingno as msno\n",
    "import numpy as np\n",
    "import pandas as pd\n",
    "import seaborn as sns"
   ]
  },
  {
   "cell_type": "markdown",
   "metadata": {},
   "source": [
    "#### > Carregamento do Dataset"
   ]
  },
  {
   "cell_type": "markdown",
   "metadata": {},
   "source": [
    "Carregamento do dataset **'kc_house_data.csv'**. O comando 'set_option' permite que a tabela seja apresentada sem simplicação "
   ]
  },
  {
   "cell_type": "code",
   "execution_count": null,
   "metadata": {},
   "outputs": [],
   "source": [
    "df = pd.read_csv('kc_house_data.csv')\n",
    "pd.set_option('max_columns', None)"
   ]
  },
  {
   "cell_type": "markdown",
   "metadata": {},
   "source": [
    "#### Legenda"
   ]
  },
  {
   "cell_type": "markdown",
   "metadata": {},
   "source": [
    "**id** - ID \\\n",
    "**date** - Dia da Venda \\\n",
    "**price** - Preço da Venda \\\n",
    "**bedrooms** - Número de quartos \\\n",
    "**bathrooms** - Número de banheiros, onde 0,5 corresponde a um lavabo \\\n",
    "**sqft_living** - Metragem quadrada da área interna \\\n",
    "**sqft_lot** - Metragem quadrada do Terreno \\\n",
    "**floors** - Número de andares \\\n",
    "**waterfront** - Se a casa é de frente para o mar \\\n",
    "**view** - Um índice de 0 a 4 de qualidade da vista \\\n",
    "**condition** - Um índice de 1 a 5 sobre a condição da casa \\\n",
    "**grade** - Um índice de 1 a 13, onde 1-3 tem uma construção e design do edifício de baixa qualidade, 7 tem um nível médio de construção e design e 11-13 tem um nível de construção e design de alta qualidade \\\n",
    "**sqft_above** - A metragem quadrada do espaço habitacional interior que está acima do nível do solo \\\n",
    "**sqft_basement** - A metragem quadrada do espaço habitacional interior que está abaixo do nível do solo \\\n",
    "**yr_built** - Ano de Construção \\\n",
    "**yr_renovated** - Ano de Reforma \\\n",
    "**zipcode** - Código Postal \\\n",
    "**lat** - Latitude \\\n",
    "**long** - Longitude \\\n",
    "**sqft_living15** - A metragem quadrada do espaço interno da casa para os 15 vizinhos mais próximos \\\n",
    "**sqft_lot15** - A metragem quadrada dos lotes de terreno dos 15 vizinhos mais próximos "
   ]
  },
  {
   "cell_type": "markdown",
   "metadata": {},
   "source": [
    "#### > Verificação do Dataset"
   ]
  },
  {
   "cell_type": "markdown",
   "metadata": {},
   "source": [
    "Verificação do tamanho do Dataset"
   ]
  },
  {
   "cell_type": "code",
   "execution_count": null,
   "metadata": {},
   "outputs": [],
   "source": [
    "df.shape"
   ]
  },
  {
   "cell_type": "markdown",
   "metadata": {},
   "source": [
    "Features do modelo"
   ]
  },
  {
   "cell_type": "code",
   "execution_count": null,
   "metadata": {},
   "outputs": [],
   "source": [
    "df.columns"
   ]
  },
  {
   "cell_type": "markdown",
   "metadata": {},
   "source": [
    "Verificando as informações do Dataset"
   ]
  },
  {
   "cell_type": "code",
   "execution_count": null,
   "metadata": {},
   "outputs": [],
   "source": [
    "df.info()"
   ]
  },
  {
   "cell_type": "markdown",
   "metadata": {},
   "source": [
    "Nessa primeira informação, podemos ver que o nosso dataset se encontra sem valores nulo, isso pode ser percebido pela presença de valores iguais em todas as features."
   ]
  },
  {
   "cell_type": "markdown",
   "metadata": {},
   "source": [
    "Avaliando o dataset de forma aleatória"
   ]
  },
  {
   "cell_type": "code",
   "execution_count": null,
   "metadata": {},
   "outputs": [],
   "source": [
    "df.sample(5)"
   ]
  },
  {
   "cell_type": "markdown",
   "metadata": {},
   "source": [
    "Verificando a existencia de dados duplicados na coluna **'ID'**"
   ]
  },
  {
   "cell_type": "code",
   "execution_count": null,
   "metadata": {},
   "outputs": [],
   "source": [
    "df.nunique()"
   ]
  },
  {
   "cell_type": "markdown",
   "metadata": {},
   "source": [
    "Como podemos avaliar, o **'ID'** não apresenta valores unicos para o df, com isso, não podemos usar ele como index. Assim sendo, decidi retirar essa feature do nosso dataset"
   ]
  },
  {
   "cell_type": "code",
   "execution_count": null,
   "metadata": {},
   "outputs": [],
   "source": [
    "df.drop(['id'],axis=1,inplace=True)"
   ]
  },
  {
   "cell_type": "code",
   "execution_count": null,
   "metadata": {},
   "outputs": [],
   "source": [
    "df.describe().apply(lambda s: s.apply('{0:.5f}'.format))"
   ]
  },
  {
   "cell_type": "markdown",
   "metadata": {},
   "source": [
    "Após a utilização do 'describe()', é possivel observar alguns pontos:\\\n",
    "Na coluna **'Price'**\n",
    "> Podemos perceber que a média de Preço dos imovéis é igual a 540088,14. Porém apresentamos mais valores com Preço menor que a média, isso pode ser concluido pela mediana (450000,00) ser menor que a média. O maior valor foi de 770000,00 e o menor foi de 75000,00. \n",
    "\n",
    "Na coluna **'bedrooms'**\n",
    "> É possivel identificar qua a média de Dormitórios é igual a 3, no caso estou arredondando o valor para baixo, pois não é possivel obter valores quebrados para esse tipo. Conforme visto na coluna anterior, apresenta uma quantidade de Dormitorios menor que a média, devido a comparação com a mediana (3). O valor maxímo foi de 33 e o minimo foi de 0.\n",
    "\n",
    "Na coluna **'bathrooms'**\n",
    "> É possivel identificar qua a média de Banheiros é igual a 2, no caso estou arredondando o valor para baixo, pois não é possivel obter valores quebrados para esse tipo. Conforme visto na coluna anterior, apresenta uma quantidade de Banheiros maior que a média, devido a comparação com a mediana (2). O valor maxímo foi de 8 e o minimo foi de 0."
   ]
  },
  {
   "cell_type": "markdown",
   "metadata": {},
   "source": [
    "#### > Gráficos"
   ]
  },
  {
   "cell_type": "markdown",
   "metadata": {},
   "source": [
    "Esse primeiro grafico é uma forma sutil de avaliar se podemos avaliar correlação entre as features"
   ]
  },
  {
   "cell_type": "code",
   "execution_count": null,
   "metadata": {},
   "outputs": [],
   "source": [
    "sns.pairplot(df)"
   ]
  },
  {
   "cell_type": "markdown",
   "metadata": {},
   "source": [
    "A partir dessa primeira analise podemos identificar alguns pontos importantes, como a nossa pergunta visa trazer como resultado o valor de um imovel a partir de especificações dadas, podemos observar que:\n",
    "Features que mais influenciam no preço:\n",
    "> **'bathroom'**\\\n",
    "> **'sqft_living'**\\\n",
    "> **'grade'**\\\n",
    "> **'sqft_above'**\\\n",
    "> **'sqft_living15'**\n",
    "\n",
    "Features que mais influencima negativamente no preço:\n",
    "> **'zipcode'**\n",
    "\n",
    "Features com influencia conjunta:\n",
    "> **'sqfr_living15'**\\\n",
    "> **'sqft_lot15'**\\\n",
    "\n",
    "Isso se deve a relação do tamanho dos lot ao redor"
   ]
  },
  {
   "cell_type": "markdown",
   "metadata": {},
   "source": [
    "##### > **Gráfico das features**"
   ]
  },
  {
   "cell_type": "markdown",
   "metadata": {},
   "source": [
    "**BEDROOMS**"
   ]
  },
  {
   "cell_type": "code",
   "execution_count": null,
   "metadata": {},
   "outputs": [],
   "source": [
    "fig,ax = plt.subplots()\n",
    "sns.set(style='whitegrid')\n",
    "fig.set_size_inches(12,6)\n",
    "ax = sns.boxplot(df['bedrooms'])\n",
    "ax.set_title('Bedrooms',fontsize=20)\n",
    "ax.set_xlabel('Quantidade Total',fontsize=17)"
   ]
  },
  {
   "cell_type": "code",
   "execution_count": null,
   "metadata": {},
   "outputs": [],
   "source": [
    "fig,ax = plt.subplots()\n",
    "sns.set(style='darkgrid')\n",
    "fig.set_size_inches(12,6)\n",
    "ax = sns.countplot(x='bedrooms', data=df, order = df['bedrooms'].value_counts().iloc[:10].index)\n",
    "ax.set_ylabel('Quantidade de vezes',fontsize=17)\n",
    "ax.set_title('Bedrooms',fontsize=20)\n",
    "ax.set_xlabel('Quantidade',fontsize=17)\n",
    "\n",
    "for p in ax.patches:\n",
    "    percentage = '{:.1f}%'.format(100 * p.get_height()/df['bedrooms'].count())\n",
    "    x = p.get_x() + p.get_width()\n",
    "    y = p.get_height()\n",
    "    ax.annotate(percentage, (x, y),ha='center')\n",
    "\n",
    "plt.plot()"
   ]
  },
  {
   "cell_type": "markdown",
   "metadata": {},
   "source": [
    "Podemos observar que possuimos mais casas vendidas com 2 a 5 quartos disponíveis"
   ]
  },
  {
   "cell_type": "markdown",
   "metadata": {},
   "source": [
    "**BATHROOMS**"
   ]
  },
  {
   "cell_type": "code",
   "execution_count": null,
   "metadata": {},
   "outputs": [],
   "source": [
    "fig,ax = plt.subplots()\n",
    "sns.set(style='whitegrid')\n",
    "fig.set_size_inches(12,6)\n",
    "ax = sns.boxplot(df['bathrooms'])\n",
    "ax.set_title('Bathrooms',fontsize=20)\n",
    "ax.set_xlabel('Quantidade Total',fontsize=17)"
   ]
  },
  {
   "cell_type": "code",
   "execution_count": null,
   "metadata": {},
   "outputs": [],
   "source": [
    "fig,ax = plt.subplots()\n",
    "sns.set(style='darkgrid')\n",
    "fig.set_size_inches(12,6)\n",
    "ax = sns.countplot(x='bathrooms', data=df, order = df['bathrooms'].value_counts().iloc[:10].index)\n",
    "ax.set_ylabel('Quantidade de vezes',fontsize=17)\n",
    "ax.set_title('Bathrooms',fontsize=20)\n",
    "ax.set_xlabel('Quantidade',fontsize=17)\n",
    "\n",
    "for p in ax.patches:\n",
    "    percentage = '{:.1f}%'.format(100 * p.get_height()/df['bathrooms'].count())\n",
    "    x = p.get_x() + p.get_width()\n",
    "    y = p.get_height()\n",
    "    ax.annotate(percentage, (x, y),ha='center')\n",
    "\n",
    "plt.plot()"
   ]
  },
  {
   "cell_type": "markdown",
   "metadata": {},
   "source": [
    "Podemos observar que possuimos mais casas vendidas com 1 a 3 banheiros disponíveis"
   ]
  },
  {
   "cell_type": "markdown",
   "metadata": {},
   "source": [
    "**SQFT_LIVING**"
   ]
  },
  {
   "cell_type": "code",
   "execution_count": null,
   "metadata": {},
   "outputs": [],
   "source": [
    "fig,ax = plt.subplots()\n",
    "sns.set(style='whitegrid')\n",
    "fig.set_size_inches(12,6)\n",
    "ax = sns.distplot(df['sqft_living'], bins= 10)\n",
    "ax.set_title('Living',fontsize=20)\n",
    "ax.set_xlabel('Espaço',fontsize=17)"
   ]
  },
  {
   "cell_type": "markdown",
   "metadata": {},
   "source": [
    "**FLOORS**"
   ]
  },
  {
   "cell_type": "code",
   "execution_count": null,
   "metadata": {},
   "outputs": [],
   "source": [
    "fig,ax = plt.subplots()\n",
    "sns.set(style='whitegrid')\n",
    "fig.set_size_inches(12,6)\n",
    "ax = sns.boxplot(df['floors'])\n",
    "ax.set_title('Floors',fontsize=20)\n",
    "ax.set_xlabel('Quantidade Total',fontsize=17)"
   ]
  },
  {
   "cell_type": "code",
   "execution_count": null,
   "metadata": {},
   "outputs": [],
   "source": [
    "fig,ax = plt.subplots()\n",
    "sns.set(style='darkgrid')\n",
    "fig.set_size_inches(12,6)\n",
    "ax = sns.countplot(x='floors', data=df, order = df['floors'].value_counts().iloc[:10].index)\n",
    "ax.set_ylabel('Quantidade de vezes',fontsize=17)\n",
    "ax.set_title('Floors',fontsize=20)\n",
    "ax.set_xlabel('Andares',fontsize=17)\n",
    "\n",
    "for p in ax.patches:\n",
    "    percentage = '{:.1f}%'.format(100 * p.get_height()/df['floors'].count())\n",
    "    x = p.get_x() + p.get_width()\n",
    "    y = p.get_height()\n",
    "    ax.annotate(percentage, (x, y),ha='center')\n",
    "\n",
    "plt.plot()"
   ]
  },
  {
   "cell_type": "markdown",
   "metadata": {},
   "source": [
    "Podemos perceber que grande parte do dataset apresenta entre 1 a 2 andares"
   ]
  },
  {
   "cell_type": "markdown",
   "metadata": {},
   "source": [
    "**WATERFRONT**"
   ]
  },
  {
   "cell_type": "code",
   "execution_count": null,
   "metadata": {},
   "outputs": [],
   "source": [
    "fig,ax = plt.subplots()\n",
    "sns.set(style='darkgrid')\n",
    "fig.set_size_inches(12,6)\n",
    "ax = sns.countplot(x='waterfront', data=df, order = df['waterfront'].value_counts().iloc[:10].index)\n",
    "ax.set_ylabel('Quantidade de vezes',fontsize=17)\n",
    "ax.set_title('Waterfront',fontsize=20)\n",
    "\n",
    "for p in ax.patches:\n",
    "    percentage = '{:.1f}%'.format(100 * p.get_height()/df['floors'].count())\n",
    "    x = p.get_x() + p.get_width()\n",
    "    y = p.get_height()\n",
    "    ax.annotate(percentage, (x, y),ha='center')\n",
    "\n",
    "plt.plot()"
   ]
  },
  {
   "cell_type": "markdown",
   "metadata": {},
   "source": [
    "Podemos ver que grande parte das casas não possuem vista para o mar"
   ]
  },
  {
   "cell_type": "markdown",
   "metadata": {},
   "source": [
    "**VIEW**"
   ]
  },
  {
   "cell_type": "code",
   "execution_count": null,
   "metadata": {},
   "outputs": [],
   "source": [
    "fig,ax = plt.subplots()\n",
    "sns.set(style='darkgrid')\n",
    "fig.set_size_inches(12,6)\n",
    "ax = sns.countplot(x='view', data=df, order = df['view'].value_counts().iloc[:10].index)\n",
    "ax.set_ylabel('Quantidade de vezes',fontsize=17)\n",
    "ax.set_title('View',fontsize=20)\n",
    "\n",
    "for p in ax.patches:\n",
    "    percentage = '{:.1f}%'.format(100 * p.get_height()/df['view'].count())\n",
    "    x = p.get_x() + p.get_width()\n",
    "    y = p.get_height()\n",
    "    ax.annotate(percentage, (x, y),ha='center')\n",
    "\n",
    "plt.plot()"
   ]
  },
  {
   "cell_type": "markdown",
   "metadata": {},
   "source": [
    "A maioria das casas de casas recebeu 0 nota da vista "
   ]
  },
  {
   "cell_type": "markdown",
   "metadata": {},
   "source": [
    "**CONDITION**"
   ]
  },
  {
   "cell_type": "code",
   "execution_count": null,
   "metadata": {},
   "outputs": [],
   "source": [
    "fig,ax = plt.subplots()\n",
    "sns.set(style='darkgrid')\n",
    "fig.set_size_inches(12,6)\n",
    "ax = sns.countplot(x='condition', data=df, order = df['condition'].value_counts().iloc[:10].index)\n",
    "ax.set_ylabel('Quantidade de vezes',fontsize=17)\n",
    "ax.set_title('Estado',fontsize=20)\n",
    "\n",
    "for p in ax.patches:\n",
    "    percentage = '{:.1f}%'.format(100 * p.get_height()/df['condition'].count())\n",
    "    x = p.get_x() + p.get_width()\n",
    "    y = p.get_height()\n",
    "    ax.annotate(percentage, (x, y),ha='center')\n",
    "\n",
    "plt.plot()"
   ]
  },
  {
   "cell_type": "markdown",
   "metadata": {},
   "source": [
    "A maioria das casas estão como classificação 3 para o estado da moradia"
   ]
  },
  {
   "cell_type": "markdown",
   "metadata": {},
   "source": [
    "**GRADE**"
   ]
  },
  {
   "cell_type": "code",
   "execution_count": null,
   "metadata": {},
   "outputs": [],
   "source": [
    "fig,ax = plt.subplots()\n",
    "sns.set(style='darkgrid')\n",
    "fig.set_size_inches(12,6)\n",
    "ax = sns.countplot(x='grade', data=df, order = df['grade'].value_counts().iloc[:10].index)\n",
    "ax.set_ylabel('Quantidade de vezes',fontsize=17)\n",
    "ax.set_title('Grade',fontsize=20)\n",
    "\n",
    "for p in ax.patches:\n",
    "    percentage = '{:.1f}%'.format(100 * p.get_height()/df['grade'].count())\n",
    "    x = p.get_x() + p.get_width()\n",
    "    y = p.get_height()\n",
    "    ax.annotate(percentage, (x, y),ha='center')\n",
    "\n",
    "plt.plot()"
   ]
  },
  {
   "cell_type": "markdown",
   "metadata": {},
   "source": [
    "Mais da metade das casas estão classficadas com notas entre 6 a 9, em relação ao seu design e contrução"
   ]
  },
  {
   "cell_type": "markdown",
   "metadata": {},
   "source": [
    "**YR_BUILT**"
   ]
  },
  {
   "cell_type": "code",
   "execution_count": null,
   "metadata": {},
   "outputs": [],
   "source": [
    "fig,ax = plt.subplots()\n",
    "sns.set(style='whitegrid')\n",
    "fig.set_size_inches(12,6)\n",
    "ax = sns.distplot(df['yr_built'])\n",
    "ax.set_title('Construção',fontsize=20)\n",
    "ax.set_xlabel('Ano',fontsize=17)"
   ]
  },
  {
   "cell_type": "code",
   "execution_count": null,
   "metadata": {},
   "outputs": [],
   "source": [
    "fig,ax = plt.subplots()\n",
    "sns.set(style='whitegrid')\n",
    "fig.set_size_inches(12,6)\n",
    "ax = sns.boxplot(df['yr_built'])\n",
    "ax.set_title('Construção',fontsize=20)\n",
    "ax.set_xlabel('Ano',fontsize=17)"
   ]
  },
  {
   "cell_type": "markdown",
   "metadata": {},
   "source": [
    "A maioria das casas vendidas foram construidas entre os anos de 1951 a 1997"
   ]
  },
  {
   "cell_type": "markdown",
   "metadata": {},
   "source": [
    "**LAT e LON**"
   ]
  },
  {
   "cell_type": "code",
   "execution_count": null,
   "metadata": {},
   "outputs": [],
   "source": [
    "fig,ax = plt.subplots()\n",
    "sns.set(style='whitegrid')\n",
    "fig.set_size_inches(12,6)\n",
    "plt.scatter(x=df['lat'], y=df['long'])\n",
    "plt.show()"
   ]
  },
  {
   "cell_type": "code",
   "execution_count": null,
   "metadata": {},
   "outputs": [],
   "source": [
    "fig,ax = plt.subplots()\n",
    "sns.set(style='whitegrid')\n",
    "fig.set_size_inches(12,6)\n",
    "ax = sns.boxplot(df['sqft_lot'])\n",
    "ax.set_title('Bedrooms',fontsize=20)\n",
    "ax.set_xlabel('Quantidade Total',fontsize=17)"
   ]
  },
  {
   "cell_type": "code",
   "execution_count": null,
   "metadata": {},
   "outputs": [],
   "source": []
  }
 ],
 "metadata": {
  "kernelspec": {
   "display_name": "Python 3",
   "language": "python",
   "name": "python3"
  },
  "language_info": {
   "codemirror_mode": {
    "name": "ipython",
    "version": 3
   },
   "file_extension": ".py",
   "mimetype": "text/x-python",
   "name": "python",
   "nbconvert_exporter": "python",
   "pygments_lexer": "ipython3",
   "version": "3.8.5"
  }
 },
 "nbformat": 4,
 "nbformat_minor": 4
}
