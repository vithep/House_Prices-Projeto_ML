{
 "cells": [
  {
   "cell_type": "markdown",
   "metadata": {},
   "source": [
    "# House Price - Linear Regression"
   ]
  },
  {
   "cell_type": "markdown",
   "metadata": {},
   "source": [
    "## Parte 03 - Machine Learning - Rodagem com as variaveis mais importantes"
   ]
  },
  {
   "cell_type": "markdown",
   "metadata": {},
   "source": [
    "#### > Importação das Bibliotecas"
   ]
  },
  {
   "cell_type": "code",
   "execution_count": 1,
   "metadata": {},
   "outputs": [
    {
     "name": "stdout",
     "output_type": "stream",
     "text": [
      "Requirement already satisfied: xgboost in c:\\users\\vithep\\anaconda3\\lib\\site-packages (1.3.3)Note: you may need to restart the kernel to use updated packages.\n",
      "Requirement already satisfied: numpy in c:\\users\\vithep\\anaconda3\\lib\\site-packages (from xgboost) (1.19.2)\n",
      "Requirement already satisfied: scipy in c:\\users\\vithep\\anaconda3\\lib\\site-packages (from xgboost) (1.5.2)\n",
      "\n"
     ]
    }
   ],
   "source": [
    "pip install xgboost"
   ]
  },
  {
   "cell_type": "code",
   "execution_count": 2,
   "metadata": {},
   "outputs": [],
   "source": [
    "import matplotlib.pyplot as plt  \n",
    "import numpy as np \n",
    "import pandas as pd  \n",
    "import seaborn as sns\n",
    "from sklearn.ensemble import BaggingRegressor\n",
    "from sklearn.ensemble import GradientBoostingRegressor\n",
    "from sklearn.ensemble import RandomForestRegressor\n",
    "from sklearn.ensemble import VotingRegressor\n",
    "from sklearn.linear_model import LinearRegression\n",
    "from sklearn.model_selection import train_test_split \n",
    "from sklearn.neighbors import KNeighborsRegressor\n",
    "from sklearn.metrics import mean_squared_error, mean_absolute_error, r2_score\n",
    "from sklearn.tree import DecisionTreeRegressor\n",
    "from statsmodels.formula.api import ols\n",
    "from xgboost import XGBRegressor\n",
    "import statsmodels.api as sm\n",
    "import statsmodels.formula.api as smf"
   ]
  },
  {
   "cell_type": "markdown",
   "metadata": {},
   "source": [
    "#### > Carregamento do Dataset"
   ]
  },
  {
   "cell_type": "markdown",
   "metadata": {},
   "source": [
    "Carregamento do dataset **'house_data.csv'**. O comando 'set_option' permite que a tabela seja apresentada sem simplicação "
   ]
  },
  {
   "cell_type": "code",
   "execution_count": 3,
   "metadata": {},
   "outputs": [],
   "source": [
    "df0 = pd.read_csv('house_data.csv')\n",
    "pd.set_option('max_columns', None)"
   ]
  },
  {
   "cell_type": "markdown",
   "metadata": {},
   "source": [
    "#### 1. Primeira Rodagem"
   ]
  },
  {
   "cell_type": "markdown",
   "metadata": {},
   "source": [
    "Nessa primeira rodagem, serão colocados todos os dados do dataset, com a intenção de prever o preço da casa"
   ]
  },
  {
   "cell_type": "markdown",
   "metadata": {},
   "source": [
    "##### > Separando os Dados"
   ]
  },
  {
   "cell_type": "markdown",
   "metadata": {},
   "source": [
    "Colocando todas as colunas como variaveis"
   ]
  },
  {
   "cell_type": "code",
   "execution_count": 4,
   "metadata": {},
   "outputs": [],
   "source": [
    "df = df0.copy()"
   ]
  },
  {
   "cell_type": "code",
   "execution_count": 5,
   "metadata": {},
   "outputs": [
    {
     "data": {
      "text/plain": [
       "Index(['date', 'day', 'month', 'year', 'price', 'bedrooms', 'bathrooms',\n",
       "       'sqft_living', 'sqft_lot', 'floors', 'waterfront', 'view', 'condition',\n",
       "       'grade', 'sqft_above', 'sqft_basement', 'age_built', 'yr_renovated',\n",
       "       'zipcode', 'lat', 'long', 'sqft_living15', 'sqft_lot15'],\n",
       "      dtype='object')"
      ]
     },
     "execution_count": 5,
     "metadata": {},
     "output_type": "execute_result"
    }
   ],
   "source": [
    "df.columns"
   ]
  },
  {
   "cell_type": "code",
   "execution_count": 6,
   "metadata": {},
   "outputs": [
    {
     "name": "stdout",
     "output_type": "stream",
     "text": [
      "<class 'pandas.core.frame.DataFrame'>\n",
      "RangeIndex: 21613 entries, 0 to 21612\n",
      "Data columns (total 23 columns):\n",
      " #   Column         Non-Null Count  Dtype  \n",
      "---  ------         --------------  -----  \n",
      " 0   date           21613 non-null  object \n",
      " 1   day            21613 non-null  int64  \n",
      " 2   month          21613 non-null  int64  \n",
      " 3   year           21613 non-null  int64  \n",
      " 4   price          21613 non-null  float64\n",
      " 5   bedrooms       21613 non-null  int64  \n",
      " 6   bathrooms      21613 non-null  float64\n",
      " 7   sqft_living    21613 non-null  int64  \n",
      " 8   sqft_lot       21613 non-null  int64  \n",
      " 9   floors         21613 non-null  float64\n",
      " 10  waterfront     21613 non-null  int64  \n",
      " 11  view           21613 non-null  int64  \n",
      " 12  condition      21613 non-null  int64  \n",
      " 13  grade          21613 non-null  int64  \n",
      " 14  sqft_above     21613 non-null  int64  \n",
      " 15  sqft_basement  21613 non-null  int64  \n",
      " 16  age_built      21613 non-null  int64  \n",
      " 17  yr_renovated   21613 non-null  int64  \n",
      " 18  zipcode        21613 non-null  int64  \n",
      " 19  lat            21613 non-null  float64\n",
      " 20  long           21613 non-null  float64\n",
      " 21  sqft_living15  21613 non-null  int64  \n",
      " 22  sqft_lot15     21613 non-null  int64  \n",
      "dtypes: float64(5), int64(17), object(1)\n",
      "memory usage: 3.8+ MB\n"
     ]
    }
   ],
   "source": [
    "df.info()"
   ]
  },
  {
   "cell_type": "markdown",
   "metadata": {},
   "source": [
    "Transformando os tipos de variaveis"
   ]
  },
  {
   "cell_type": "code",
   "execution_count": 7,
   "metadata": {},
   "outputs": [],
   "source": [
    "df['date']=df['date'].astype('datetime64')"
   ]
  },
  {
   "cell_type": "code",
   "execution_count": 8,
   "metadata": {},
   "outputs": [
    {
     "name": "stdout",
     "output_type": "stream",
     "text": [
      "<class 'pandas.core.frame.DataFrame'>\n",
      "RangeIndex: 21613 entries, 0 to 21612\n",
      "Data columns (total 23 columns):\n",
      " #   Column         Non-Null Count  Dtype         \n",
      "---  ------         --------------  -----         \n",
      " 0   date           21613 non-null  datetime64[ns]\n",
      " 1   day            21613 non-null  int64         \n",
      " 2   month          21613 non-null  int64         \n",
      " 3   year           21613 non-null  int64         \n",
      " 4   price          21613 non-null  float64       \n",
      " 5   bedrooms       21613 non-null  int64         \n",
      " 6   bathrooms      21613 non-null  float64       \n",
      " 7   sqft_living    21613 non-null  int64         \n",
      " 8   sqft_lot       21613 non-null  int64         \n",
      " 9   floors         21613 non-null  float64       \n",
      " 10  waterfront     21613 non-null  int64         \n",
      " 11  view           21613 non-null  int64         \n",
      " 12  condition      21613 non-null  int64         \n",
      " 13  grade          21613 non-null  int64         \n",
      " 14  sqft_above     21613 non-null  int64         \n",
      " 15  sqft_basement  21613 non-null  int64         \n",
      " 16  age_built      21613 non-null  int64         \n",
      " 17  yr_renovated   21613 non-null  int64         \n",
      " 18  zipcode        21613 non-null  int64         \n",
      " 19  lat            21613 non-null  float64       \n",
      " 20  long           21613 non-null  float64       \n",
      " 21  sqft_living15  21613 non-null  int64         \n",
      " 22  sqft_lot15     21613 non-null  int64         \n",
      "dtypes: datetime64[ns](1), float64(5), int64(17)\n",
      "memory usage: 3.8 MB\n"
     ]
    }
   ],
   "source": [
    "df.info()"
   ]
  },
  {
   "cell_type": "code",
   "execution_count": 9,
   "metadata": {},
   "outputs": [
    {
     "data": {
      "image/png": "[encoded data removed]",
      "text/plain": [
       "<Figure size 1440x720 with 2 Axes>"
      ]
     },
     "metadata": {
      "needs_background": "light"
     },
     "output_type": "display_data"
    }
   ],
   "source": [
    "fig, ax = plt.subplots(figsize=(20, 10))\n",
    "sns.heatmap(df[['price','bedrooms', 'bathrooms','sqft_living','view','grade', 'sqft_above', 'sqft_basement', 'sqft_living15']].corr(), annot=True)\n",
    "plt.show()"
   ]
  },
  {
   "cell_type": "markdown",
   "metadata": {},
   "source": [
    "Colocando as features em uma variavel"
   ]
  },
  {
   "cell_type": "code",
   "execution_count": 10,
   "metadata": {},
   "outputs": [],
   "source": [
    "X = df[['bedrooms', 'bathrooms','sqft_living','view','sqft_basement','sqft_above']]"
   ]
  },
  {
   "cell_type": "markdown",
   "metadata": {},
   "source": [
    "Colocando a coluna 'price' como nossa variavel resposta"
   ]
  },
  {
   "cell_type": "code",
   "execution_count": 11,
   "metadata": {},
   "outputs": [
    {
     "name": "stdout",
     "output_type": "stream",
     "text": [
      "The history saving thread hit an unexpected error (OperationalError('database is locked')).History will not be written to the database.\n"
     ]
    }
   ],
   "source": [
    "y = df['price']"
   ]
  },
  {
   "cell_type": "markdown",
   "metadata": {},
   "source": [
    "Realizando a separação dos dados em Treino e Teste, onde 30% dos dados serão de teste"
   ]
  },
  {
   "cell_type": "code",
   "execution_count": 12,
   "metadata": {},
   "outputs": [],
   "source": [
    "X_train,X_test,y_train,y_test=train_test_split(X,y,test_size=0.2,random_state=42)"
   ]
  },
  {
   "cell_type": "markdown",
   "metadata": {},
   "source": [
    "Metrica para validação dos dados"
   ]
  },
  {
   "cell_type": "code",
   "execution_count": 13,
   "metadata": {},
   "outputs": [],
   "source": [
    "def acc_reg(y_pred,y_test,tolerancia):\n",
    "    \n",
    "    df_final = pd.DataFrame({'Actual': y_test, 'Predicted': y_pred})\n",
    "    \n",
    "    df_final['error']=1-df_final['Predicted']/df_final['Actual']\n",
    "    \n",
    "    ((df_final['error']<tolerancia) & (df_final['error']>-tolerancia)).value_counts()\n",
    "    \n",
    "    Falso = ((df_final['error']<tolerancia) & (df_final['error']>-tolerancia)).value_counts()[0]\n",
    "    \n",
    "    Verdadeiro = ((df_final['error']<tolerancia) & (df_final['error']>-tolerancia)).value_counts()[1]\n",
    "    \n",
    "    Acc = Verdadeiro/(Falso+Verdadeiro)*100\n",
    "    \n",
    "    return round(Acc,2)"
   ]
  },
  {
   "cell_type": "markdown",
   "metadata": {},
   "source": [
    "#### > LinearRegression"
   ]
  },
  {
   "cell_type": "markdown",
   "metadata": {},
   "source": [
    "##### > Verificação dos resultados"
   ]
  },
  {
   "cell_type": "code",
   "execution_count": 14,
   "metadata": {},
   "outputs": [
    {
     "name": "stdout",
     "output_type": "stream",
     "text": [
      "Coefficient: [-4.36914990e+04  1.18281648e+04  5.31660412e+15  9.73398627e+04\n",
      " -5.31660412e+15 -5.31660412e+15]\n",
      "Intercept: 62632.04794679\n",
      "R^2: 0.55 \n",
      "Mean Absolute error: 168870.75023223727\n",
      "Mean Squared error: 68633814749.4654\n",
      "Root Mean Squared Error: 261980.56177790253\n"
     ]
    }
   ],
   "source": [
    "lr = LinearRegression()\n",
    "lr.fit(X_train,y_train)\n",
    "y_pred = lr.predict(X_test)\n",
    "lrr = r2_score(y_test, y_pred)\n",
    "MAElr = mean_absolute_error(y_test, y_pred)\n",
    "MSElr = mean_squared_error(y_test, y_pred)\n",
    "RMSElr = np.sqrt(mean_squared_error(y_test, y_pred))\n",
    "print('Coefficient:', lr.coef_)\n",
    "print('Intercept:', lr.intercept_)\n",
    "print('R^2: %.2f ' % lrr)\n",
    "print('Mean Absolute error:', MAElr)\n",
    "print('Mean Squared error:', MSElr )\n",
    "print('Root Mean Squared Error:', RMSElr )"
   ]
  },
  {
   "cell_type": "code",
   "execution_count": 15,
   "metadata": {},
   "outputs": [
    {
     "data": {
      "image/png": "[encoded data removed]",
      "text/plain": [
       "<Figure size 432x288 with 1 Axes>"
      ]
     },
     "metadata": {
      "needs_background": "light"
     },
     "output_type": "display_data"
    }
   ],
   "source": [
    "plt.scatter(y_test, y_pred)\n",
    "plt.xlabel('Preço')\n",
    "plt.ylabel('Previsão do Preço')\n",
    "plt.title('Preço vs Previsão do Preço')\n",
    "plt.show()"
   ]
  },
  {
   "cell_type": "code",
   "execution_count": 16,
   "metadata": {},
   "outputs": [
    {
     "data": {
      "text/plain": [
       "20.98"
      ]
     },
     "execution_count": 16,
     "metadata": {},
     "output_type": "execute_result"
    }
   ],
   "source": [
    "lrp = acc_reg(y_pred,y_test,0.1)\n",
    "lrp"
   ]
  },
  {
   "cell_type": "code",
   "execution_count": 17,
   "metadata": {},
   "outputs": [
    {
     "data": {
      "text/plain": [
       "['LinearRegression',\n",
       " 0.5460027293565346,\n",
       " 168870.75023223727,\n",
       " 68633814749.4654,\n",
       " 261980.56177790253,\n",
       " 20.98]"
      ]
     },
     "execution_count": 17,
     "metadata": {},
     "output_type": "execute_result"
    }
   ],
   "source": [
    "Linear = ['LinearRegression',lrr,MAElr,MSElr,RMSElr,lrp]\n",
    "Linear"
   ]
  },
  {
   "cell_type": "markdown",
   "metadata": {},
   "source": [
    "#### > KNN Regressor"
   ]
  },
  {
   "cell_type": "markdown",
   "metadata": {},
   "source": [
    "##### > Verificação dos resultados"
   ]
  },
  {
   "cell_type": "code",
   "execution_count": 18,
   "metadata": {},
   "outputs": [
    {
     "name": "stdout",
     "output_type": "stream",
     "text": [
      "R^2: 0.47 \n",
      "Mean Absolute error: 175747.24533888503\n",
      "Mean Squared error: 80278575969.72523\n",
      "Root Mean Squared Error: 283334.741903857\n"
     ]
    }
   ],
   "source": [
    "knn = KNeighborsRegressor(n_neighbors=5,metric='euclidean')\n",
    "knn.fit(X_train,y_train)\n",
    "y_pred = knn.predict(X_test)\n",
    "knnr = r2_score(y_test, y_pred)\n",
    "MAEknn = mean_absolute_error(y_test, y_pred)\n",
    "MSEknn = mean_squared_error(y_test, y_pred)\n",
    "RMSEknn = np.sqrt(mean_squared_error(y_test, y_pred))\n",
    "print('R^2: %.2f ' % knnr)\n",
    "print('Mean Absolute error:', MAEknn)\n",
    "print('Mean Squared error:', MSEknn )\n",
    "print('Root Mean Squared Error:', RMSEknn )"
   ]
  },
  {
   "cell_type": "code",
   "execution_count": 19,
   "metadata": {},
   "outputs": [
    {
     "data": {
      "image/png": "[encoded data removed]",
      "text/plain": [
       "<Figure size 432x288 with 1 Axes>"
      ]
     },
     "metadata": {
      "needs_background": "light"
     },
     "output_type": "display_data"
    }
   ],
   "source": [
    "plt.scatter(y_test, y_pred)\n",
    "plt.xlabel('Preço')\n",
    "plt.ylabel('Previsão do Preço')\n",
    "plt.title('Preço vs Previsão do Preço')\n",
    "plt.show()"
   ]
  },
  {
   "cell_type": "code",
   "execution_count": 20,
   "metadata": {},
   "outputs": [
    {
     "data": {
      "text/plain": [
       "21.98"
      ]
     },
     "execution_count": 20,
     "metadata": {},
     "output_type": "execute_result"
    }
   ],
   "source": [
    "knnp = acc_reg(y_pred,y_test,0.1)\n",
    "knnp"
   ]
  },
  {
   "cell_type": "code",
   "execution_count": 21,
   "metadata": {},
   "outputs": [
    {
     "data": {
      "text/plain": [
       "['KNN Regressor',\n",
       " 0.4689752490891055,\n",
       " 175747.24533888503,\n",
       " 80278575969.72523,\n",
       " 283334.741903857,\n",
       " 21.98]"
      ]
     },
     "execution_count": 21,
     "metadata": {},
     "output_type": "execute_result"
    }
   ],
   "source": [
    "KNN = ['KNN Regressor',knnr,MAEknn,MSEknn,RMSEknn,knnp]\n",
    "KNN"
   ]
  },
  {
   "cell_type": "markdown",
   "metadata": {},
   "source": [
    "#### > Decision Tree"
   ]
  },
  {
   "cell_type": "markdown",
   "metadata": {},
   "source": [
    "##### > Verificação dos resultados"
   ]
  },
  {
   "cell_type": "code",
   "execution_count": 22,
   "metadata": {},
   "outputs": [
    {
     "name": "stdout",
     "output_type": "stream",
     "text": [
      "R^2: 0.24 \n",
      "Mean Absolute error: 203228.931656122\n",
      "Mean Squared error: 115605305354.72044\n",
      "Root Mean Squared Error: 340007.8019027217\n"
     ]
    }
   ],
   "source": [
    "dct = DecisionTreeRegressor(random_state=42)\n",
    "dct.fit(X_train, y_train)\n",
    "y_pred = dct.predict(X_test)\n",
    "dtr = r2_score(y_test, y_pred)\n",
    "MAEdt = mean_absolute_error(y_test, y_pred)\n",
    "MSEdt = mean_squared_error(y_test, y_pred)\n",
    "RMSEdt = np.sqrt(mean_squared_error(y_test, y_pred))\n",
    "print('R^2: %.2f ' % dtr)\n",
    "print('Mean Absolute error:', MAEdt)\n",
    "print('Mean Squared error:', MSEdt )\n",
    "print('Root Mean Squared Error:', RMSEdt )"
   ]
  },
  {
   "cell_type": "code",
   "execution_count": 23,
   "metadata": {},
   "outputs": [
    {
     "data": {
      "image/png": "[encoded data removed]",
      "text/plain": [
       "<Figure size 432x288 with 1 Axes>"
      ]
     },
     "metadata": {
      "needs_background": "light"
     },
     "output_type": "display_data"
    }
   ],
   "source": [
    "plt.scatter(y_test, y_pred)\n",
    "plt.xlabel('Preço')\n",
    "plt.ylabel('Previsão do Preço')\n",
    "plt.title('Preço vs Previsão do Preço')\n",
    "plt.show()"
   ]
  },
  {
   "cell_type": "code",
   "execution_count": 24,
   "metadata": {},
   "outputs": [
    {
     "data": {
      "text/plain": [
       "19.99"
      ]
     },
     "execution_count": 24,
     "metadata": {},
     "output_type": "execute_result"
    }
   ],
   "source": [
    "dtp = acc_reg(y_pred,y_test,0.1)\n",
    "dtp"
   ]
  },
  {
   "cell_type": "code",
   "execution_count": 25,
   "metadata": {},
   "outputs": [
    {
     "data": {
      "text/plain": [
       "['Decision Tree',\n",
       " 0.23529686795740457,\n",
       " 203228.931656122,\n",
       " 115605305354.72044,\n",
       " 340007.8019027217,\n",
       " 19.99]"
      ]
     },
     "execution_count": 25,
     "metadata": {},
     "output_type": "execute_result"
    }
   ],
   "source": [
    "DT = ['Decision Tree',dtr,MAEdt,MSEdt,RMSEdt,dtp]\n",
    "DT"
   ]
  },
  {
   "cell_type": "markdown",
   "metadata": {},
   "source": [
    "#### > Random Forest"
   ]
  },
  {
   "cell_type": "markdown",
   "metadata": {},
   "source": [
    "##### > Verificação dos resultados"
   ]
  },
  {
   "cell_type": "code",
   "execution_count": 26,
   "metadata": {},
   "outputs": [
    {
     "name": "stdout",
     "output_type": "stream",
     "text": [
      "R^2: 0.52 \n",
      "Mean Absolute error: 168568.68444927124\n",
      "Mean Squared error: 72904490588.11728\n",
      "Root Mean Squared Error: 270008.3157758614\n"
     ]
    }
   ],
   "source": [
    "rft = RandomForestRegressor(n_estimators=100, random_state=26)\n",
    "rft.fit(X_train, y_train)\n",
    "y_pred = rft.predict(X_test)\n",
    "rfr = r2_score(y_test, y_pred)\n",
    "MAErf = mean_absolute_error(y_test, y_pred)\n",
    "MSErf = mean_squared_error(y_test, y_pred)\n",
    "RMSErf = np.sqrt(mean_squared_error(y_test, y_pred))\n",
    "print('R^2: %.2f ' % rfr)\n",
    "print('Mean Absolute error:', MAErf)\n",
    "print('Mean Squared error:', MSErf )\n",
    "print('Root Mean Squared Error:', RMSErf )"
   ]
  },
  {
   "cell_type": "code",
   "execution_count": 27,
   "metadata": {},
   "outputs": [
    {
     "data": {
      "image/png": "[encoded data removed]",
      "text/plain": [
       "<Figure size 432x288 with 1 Axes>"
      ]
     },
     "metadata": {
      "needs_background": "light"
     },
     "output_type": "display_data"
    }
   ],
   "source": [
    "plt.scatter(y_test, y_pred)\n",
    "plt.xlabel('Preço')\n",
    "plt.ylabel('Previsão do Preço')\n",
    "plt.title('Preço vs Previsão do Preço')\n",
    "plt.show()"
   ]
  },
  {
   "cell_type": "code",
   "execution_count": 28,
   "metadata": {},
   "outputs": [
    {
     "data": {
      "text/plain": [
       "22.3"
      ]
     },
     "execution_count": 28,
     "metadata": {},
     "output_type": "execute_result"
    }
   ],
   "source": [
    "rfp = acc_reg(y_pred,y_test,0.1)\n",
    "rfp"
   ]
  },
  {
   "cell_type": "code",
   "execution_count": 29,
   "metadata": {},
   "outputs": [
    {
     "data": {
      "text/plain": [
       "['Random Forest',\n",
       " 0.5177531678010763,\n",
       " 168568.68444927124,\n",
       " 72904490588.11728,\n",
       " 270008.3157758614,\n",
       " 22.3]"
      ]
     },
     "execution_count": 29,
     "metadata": {},
     "output_type": "execute_result"
    }
   ],
   "source": [
    "RF = ['Random Forest',rfr,MAErf,MSErf,RMSErf,rfp]\n",
    "RF"
   ]
  },
  {
   "cell_type": "markdown",
   "metadata": {},
   "source": [
    "#### > Bagging"
   ]
  },
  {
   "cell_type": "markdown",
   "metadata": {},
   "source": [
    "##### > Verificação dos resultados"
   ]
  },
  {
   "cell_type": "code",
   "execution_count": 30,
   "metadata": {},
   "outputs": [
    {
     "name": "stdout",
     "output_type": "stream",
     "text": [
      "R^2: 0.47 \n",
      "Mean Absolute error: 172394.42427731486\n",
      "Mean Squared error: 79648998601.40598\n",
      "Root Mean Squared Error: 282221.54170333274\n"
     ]
    }
   ],
   "source": [
    "bag_base = DecisionTreeRegressor(random_state=26)\n",
    "bag = BaggingRegressor(base_estimator=bag_base, n_estimators=10, random_state=26)\n",
    "bag.fit(X_train, y_train)\n",
    "y_pred = bag.predict(X_test)\n",
    "bagr = r2_score(y_test, y_pred)\n",
    "MAEbag = mean_absolute_error(y_test, y_pred)\n",
    "MSEbag = mean_squared_error(y_test, y_pred)\n",
    "RMSEbag = np.sqrt(mean_squared_error(y_test, y_pred))\n",
    "print('R^2: %.2f ' % bagr)\n",
    "print('Mean Absolute error:', MAEbag)\n",
    "print('Mean Squared error:', MSEbag )\n",
    "print('Root Mean Squared Error:', RMSEbag)"
   ]
  },
  {
   "cell_type": "code",
   "execution_count": 31,
   "metadata": {},
   "outputs": [
    {
     "data": {
      "image/png": "[encoded data removed]",
      "text/plain": [
       "<Figure size 432x288 with 1 Axes>"
      ]
     },
     "metadata": {
      "needs_background": "light"
     },
     "output_type": "display_data"
    }
   ],
   "source": [
    "plt.scatter(y_test, y_pred)\n",
    "plt.xlabel('Preço')\n",
    "plt.ylabel('Previsão do Preço')\n",
    "plt.title('Preço vs Previsão do Preço')\n",
    "plt.show()"
   ]
  },
  {
   "cell_type": "code",
   "execution_count": 32,
   "metadata": {},
   "outputs": [
    {
     "data": {
      "text/plain": [
       "21.05"
      ]
     },
     "execution_count": 32,
     "metadata": {},
     "output_type": "execute_result"
    }
   ],
   "source": [
    "bagp = acc_reg(y_pred,y_test,0.1)\n",
    "bagp"
   ]
  },
  {
   "cell_type": "code",
   "execution_count": 33,
   "metadata": {},
   "outputs": [
    {
     "data": {
      "text/plain": [
       "['Bagging',\n",
       " 0.4731397619887483,\n",
       " 172394.42427731486,\n",
       " 79648998601.40598,\n",
       " 282221.54170333274,\n",
       " 21.05]"
      ]
     },
     "execution_count": 33,
     "metadata": {},
     "output_type": "execute_result"
    }
   ],
   "source": [
    "BAG = ['Bagging',bagr,MAEbag,MSEbag,RMSEbag,bagp]\n",
    "BAG"
   ]
  },
  {
   "cell_type": "markdown",
   "metadata": {},
   "source": [
    "#### > Ensemble"
   ]
  },
  {
   "cell_type": "markdown",
   "metadata": {},
   "source": [
    "##### > Verificação dos resultados"
   ]
  },
  {
   "cell_type": "code",
   "execution_count": 34,
   "metadata": {},
   "outputs": [
    {
     "name": "stdout",
     "output_type": "stream",
     "text": [
      "R^2: 0.56 \n",
      "Mean Absolute error: 164100.8761604778\n",
      "Mean Squared error: 66250461419.34048\n",
      "Root Mean Squared Error: 257391.64986327835\n"
     ]
    }
   ],
   "source": [
    "rft2 = RandomForestRegressor(n_estimators=10, random_state=26)\n",
    "ens = VotingRegressor([('LR', lr), ('RF', rft2)])\n",
    "ens.fit(X_train, y_train)\n",
    "y_pred = ens.predict(X_test)\n",
    "ensr = r2_score(y_test, y_pred)\n",
    "MAEens = mean_absolute_error(y_test, y_pred)\n",
    "MSEens = mean_squared_error(y_test, y_pred)\n",
    "RMSEens = np.sqrt(mean_squared_error(y_test, y_pred))\n",
    "print('R^2: %.2f ' % ensr)\n",
    "print('Mean Absolute error:', MAEens)\n",
    "print('Mean Squared error:', MSEens )\n",
    "print('Root Mean Squared Error:', RMSEens)"
   ]
  },
  {
   "cell_type": "code",
   "execution_count": 35,
   "metadata": {},
   "outputs": [
    {
     "data": {
      "image/png": "[encoded data removed]",
      "text/plain": [
       "<Figure size 432x288 with 1 Axes>"
      ]
     },
     "metadata": {
      "needs_background": "light"
     },
     "output_type": "display_data"
    }
   ],
   "source": [
    "plt.scatter(y_test, y_pred)\n",
    "plt.xlabel('Preço')\n",
    "plt.ylabel('Previsão do Preço')\n",
    "plt.title('Preço vs Previsão do Preço')\n",
    "plt.show()"
   ]
  },
  {
   "cell_type": "code",
   "execution_count": 36,
   "metadata": {},
   "outputs": [
    {
     "data": {
      "text/plain": [
       "21.24"
      ]
     },
     "execution_count": 36,
     "metadata": {},
     "output_type": "execute_result"
    }
   ],
   "source": [
    "ensp = acc_reg(y_pred,y_test,0.1)\n",
    "ensp"
   ]
  },
  {
   "cell_type": "code",
   "execution_count": 37,
   "metadata": {},
   "outputs": [
    {
     "data": {
      "text/plain": [
       "['Ensemble',\n",
       " 0.5617680763768845,\n",
       " 164100.8761604778,\n",
       " 66250461419.34048,\n",
       " 257391.64986327835,\n",
       " 21.24]"
      ]
     },
     "execution_count": 37,
     "metadata": {},
     "output_type": "execute_result"
    }
   ],
   "source": [
    "ENS = ['Ensemble',ensr,MAEens,MSEens,RMSEens,ensp]\n",
    "ENS"
   ]
  },
  {
   "cell_type": "markdown",
   "metadata": {},
   "source": [
    "#### > Gradient Boosting Regressor"
   ]
  },
  {
   "cell_type": "markdown",
   "metadata": {},
   "source": [
    "##### > Verificação dos resultados"
   ]
  },
  {
   "cell_type": "code",
   "execution_count": 38,
   "metadata": {},
   "outputs": [
    {
     "name": "stdout",
     "output_type": "stream",
     "text": [
      "R^2: 0.52 \n",
      "Mean Absolute error: 162059.60415255293\n",
      "Mean Squared error: 72558650889.6111\n",
      "Root Mean Squared Error: 269367.1303065968\n"
     ]
    }
   ],
   "source": [
    "gbos = GradientBoostingRegressor(max_depth=7,random_state=42)\n",
    "gbos.fit(X_train, y_train)\n",
    "y_pred = gbos.predict(X_test)\n",
    "gbosr = r2_score(y_test, y_pred)\n",
    "MAEgbos = mean_absolute_error(y_test, y_pred)\n",
    "MSEgbos = mean_squared_error(y_test, y_pred)\n",
    "RMSEgbos = np.sqrt(mean_squared_error(y_test, y_pred))\n",
    "print('R^2: %.2f ' % gbosr)\n",
    "print('Mean Absolute error:', MAEgbos)\n",
    "print('Mean Squared error:', MSEgbos )\n",
    "print('Root Mean Squared Error:', RMSEgbos)"
   ]
  },
  {
   "cell_type": "code",
   "execution_count": 39,
   "metadata": {},
   "outputs": [
    {
     "data": {
      "image/png": "[encoded data removed]",
      "text/plain": [
       "<Figure size 432x288 with 1 Axes>"
      ]
     },
     "metadata": {
      "needs_background": "light"
     },
     "output_type": "display_data"
    }
   ],
   "source": [
    "plt.scatter(y_test, y_pred)\n",
    "plt.xlabel('Preço')\n",
    "plt.ylabel('Previsão do Preço')\n",
    "plt.title('Preço vs Previsão do Preço')\n",
    "plt.show()"
   ]
  },
  {
   "cell_type": "code",
   "execution_count": 40,
   "metadata": {},
   "outputs": [
    {
     "data": {
      "text/plain": [
       "21.42"
      ]
     },
     "execution_count": 40,
     "metadata": {},
     "output_type": "execute_result"
    }
   ],
   "source": [
    "gbosp = acc_reg(y_pred,y_test,0.1)\n",
    "gbosp"
   ]
  },
  {
   "cell_type": "code",
   "execution_count": 41,
   "metadata": {},
   "outputs": [
    {
     "data": {
      "text/plain": [
       "['Gradient Boosting',\n",
       " 0.5200408197372991,\n",
       " 162059.60415255293,\n",
       " 72558650889.6111,\n",
       " 269367.1303065968,\n",
       " 21.42]"
      ]
     },
     "execution_count": 41,
     "metadata": {},
     "output_type": "execute_result"
    }
   ],
   "source": [
    "GBOS = ['Gradient Boosting',gbosr,MAEgbos,MSEgbos,RMSEgbos,gbosp]\n",
    "GBOS"
   ]
  },
  {
   "cell_type": "markdown",
   "metadata": {},
   "source": [
    "#### > XGBoost Regressor"
   ]
  },
  {
   "cell_type": "markdown",
   "metadata": {},
   "source": [
    "##### > Verificação dos resultados"
   ]
  },
  {
   "cell_type": "code",
   "execution_count": 42,
   "metadata": {},
   "outputs": [
    {
     "name": "stdout",
     "output_type": "stream",
     "text": [
      "R^2: 0.50 \n",
      "Mean Absolute error: 163240.36427249596\n",
      "Mean Squared error: 75171215921.61162\n",
      "Root Mean Squared Error: 274173.6966260834\n"
     ]
    }
   ],
   "source": [
    "xgb = XGBRegressor(max_depth=4,random_state=42).fit(X_train, y_train)\n",
    "y_pred = xgb.predict(X_test)\n",
    "xgbr = r2_score(y_test, y_pred)\n",
    "MAExgb = mean_absolute_error(y_test, y_pred)\n",
    "MSExgb = mean_squared_error(y_test, y_pred)\n",
    "RMSExgb = np.sqrt(mean_squared_error(y_test, y_pred))\n",
    "print('R^2: %.2f ' % xgbr)\n",
    "print('Mean Absolute error:', MAExgb)\n",
    "print('Mean Squared error:', MSExgb )\n",
    "print('Root Mean Squared Error:', RMSExgb)"
   ]
  },
  {
   "cell_type": "code",
   "execution_count": 43,
   "metadata": {},
   "outputs": [
    {
     "data": {
      "image/png": "[encoded data removed]",
      "text/plain": [
       "<Figure size 432x288 with 1 Axes>"
      ]
     },
     "metadata": {
      "needs_background": "light"
     },
     "output_type": "display_data"
    }
   ],
   "source": [
    "plt.scatter(y_test, y_pred)\n",
    "plt.xlabel('Preço')\n",
    "plt.ylabel('Previsão do Preço')\n",
    "plt.title('Preço vs Previsão do Preço')\n",
    "plt.show()"
   ]
  },
  {
   "cell_type": "code",
   "execution_count": 44,
   "metadata": {},
   "outputs": [
    {
     "data": {
      "text/plain": [
       "20.7"
      ]
     },
     "execution_count": 44,
     "metadata": {},
     "output_type": "execute_result"
    }
   ],
   "source": [
    "xgbp = acc_reg(y_pred,y_test,0.1)\n",
    "xgbp"
   ]
  },
  {
   "cell_type": "code",
   "execution_count": 45,
   "metadata": {},
   "outputs": [
    {
     "data": {
      "text/plain": [
       "['XGBoost Regressor',\n",
       " 0.5027592887858808,\n",
       " 163240.36427249596,\n",
       " 75171215921.61162,\n",
       " 274173.6966260834,\n",
       " 20.7]"
      ]
     },
     "execution_count": 45,
     "metadata": {},
     "output_type": "execute_result"
    }
   ],
   "source": [
    "XGB = ['XGBoost Regressor',xgbr,MAExgb,MSExgb,RMSExgb,xgbp]\n",
    "XGB"
   ]
  },
  {
   "cell_type": "markdown",
   "metadata": {},
   "source": [
    "#### > OLS"
   ]
  },
  {
   "cell_type": "markdown",
   "metadata": {},
   "source": [
    "##### > Verificação dos resultados"
   ]
  },
  {
   "cell_type": "code",
   "execution_count": 46,
   "metadata": {},
   "outputs": [
    {
     "name": "stdout",
     "output_type": "stream",
     "text": [
      "                            OLS Regression Results                            \n",
      "==============================================================================\n",
      "Dep. Variable:                  price   R-squared:                       0.545\n",
      "Model:                            OLS   Adj. R-squared:                  0.545\n",
      "Method:                 Least Squares   F-statistic:                     5174.\n",
      "Date:                Fri, 09 Apr 2021   Prob (F-statistic):               0.00\n",
      "Time:                        17:29:09   Log-Likelihood:            -2.9910e+05\n",
      "No. Observations:               21613   AIC:                         5.982e+05\n",
      "Df Residuals:                   21607   BIC:                         5.983e+05\n",
      "Df Model:                           5                                         \n",
      "Covariance Type:            nonrobust                                         \n",
      "=================================================================================\n",
      "                    coef    std err          t      P>|t|      [0.025      0.975]\n",
      "---------------------------------------------------------------------------------\n",
      "Intercept      7.488e+04   6689.709     11.193      0.000    6.18e+04     8.8e+04\n",
      "bedrooms      -4.771e+04   2267.184    -21.042      0.000   -5.22e+04   -4.33e+04\n",
      "bathrooms      1.145e+04   3385.986      3.381      0.001    4809.758    1.81e+04\n",
      "sqft_living     184.0977      2.219     82.949      0.000     179.747     188.448\n",
      "view           9.852e+04   2348.481     41.951      0.000    9.39e+04    1.03e+05\n",
      "sqft_basement    89.1278      2.797     31.870      0.000      83.646      94.609\n",
      "sqft_above       94.9699      2.004     47.392      0.000      91.042      98.898\n",
      "==============================================================================\n",
      "Omnibus:                    13965.091   Durbin-Watson:                   1.984\n",
      "Prob(Omnibus):                  0.000   Jarque-Bera (JB):           512784.150\n",
      "Skew:                           2.576   Prob(JB):                         0.00\n",
      "Kurtosis:                      26.300   Cond. No.                     1.39e+16\n",
      "==============================================================================\n",
      "\n",
      "Notes:\n",
      "[1] Standard Errors assume that the covariance matrix of the errors is correctly specified.\n",
      "[2] The smallest eigenvalue is 1.02e-21. This might indicate that there are\n",
      "strong multicollinearity problems or that the design matrix is singular.\n"
     ]
    }
   ],
   "source": [
    "m=ols('price~bedrooms+bathrooms+sqft_living+view+sqft_basement+sqft_above',df).fit()\n",
    "print(m.summary())"
   ]
  },
  {
   "cell_type": "code",
   "execution_count": 47,
   "metadata": {},
   "outputs": [
    {
     "data": {
      "text/html": [
       "<div>\n",
       "<style scoped>\n",
       "    .dataframe tbody tr th:only-of-type {\n",
       "        vertical-align: middle;\n",
       "    }\n",
       "\n",
       "    .dataframe tbody tr th {\n",
       "        vertical-align: top;\n",
       "    }\n",
       "\n",
       "    .dataframe thead th {\n",
       "        text-align: right;\n",
       "    }\n",
       "</style>\n",
       "<table border=\"1\" class=\"dataframe\">\n",
       "  <thead>\n",
       "    <tr style=\"text-align: right;\">\n",
       "      <th></th>\n",
       "      <th>TIPO</th>\n",
       "      <th>R²</th>\n",
       "      <th>MAE</th>\n",
       "      <th>MSE</th>\n",
       "      <th>RMSE</th>\n",
       "      <th>ACURACIA %</th>\n",
       "    </tr>\n",
       "  </thead>\n",
       "  <tbody>\n",
       "    <tr>\n",
       "      <th>0</th>\n",
       "      <td>LinearRegression</td>\n",
       "      <td>0.546003</td>\n",
       "      <td>168870.750232</td>\n",
       "      <td>6.863381e+10</td>\n",
       "      <td>261980.561778</td>\n",
       "      <td>20.98</td>\n",
       "    </tr>\n",
       "    <tr>\n",
       "      <th>1</th>\n",
       "      <td>KNN Regressor</td>\n",
       "      <td>0.468975</td>\n",
       "      <td>175747.245339</td>\n",
       "      <td>8.027858e+10</td>\n",
       "      <td>283334.741904</td>\n",
       "      <td>21.98</td>\n",
       "    </tr>\n",
       "    <tr>\n",
       "      <th>2</th>\n",
       "      <td>Decision Tree</td>\n",
       "      <td>0.235297</td>\n",
       "      <td>203228.931656</td>\n",
       "      <td>1.156053e+11</td>\n",
       "      <td>340007.801903</td>\n",
       "      <td>19.99</td>\n",
       "    </tr>\n",
       "    <tr>\n",
       "      <th>3</th>\n",
       "      <td>Random Forest</td>\n",
       "      <td>0.517753</td>\n",
       "      <td>168568.684449</td>\n",
       "      <td>7.290449e+10</td>\n",
       "      <td>270008.315776</td>\n",
       "      <td>22.30</td>\n",
       "    </tr>\n",
       "    <tr>\n",
       "      <th>4</th>\n",
       "      <td>Bagging</td>\n",
       "      <td>0.473140</td>\n",
       "      <td>172394.424277</td>\n",
       "      <td>7.964900e+10</td>\n",
       "      <td>282221.541703</td>\n",
       "      <td>21.05</td>\n",
       "    </tr>\n",
       "    <tr>\n",
       "      <th>5</th>\n",
       "      <td>Ensemble</td>\n",
       "      <td>0.561768</td>\n",
       "      <td>164100.876160</td>\n",
       "      <td>6.625046e+10</td>\n",
       "      <td>257391.649863</td>\n",
       "      <td>21.24</td>\n",
       "    </tr>\n",
       "    <tr>\n",
       "      <th>6</th>\n",
       "      <td>Gradient Boosting</td>\n",
       "      <td>0.520041</td>\n",
       "      <td>162059.604153</td>\n",
       "      <td>7.255865e+10</td>\n",
       "      <td>269367.130307</td>\n",
       "      <td>21.42</td>\n",
       "    </tr>\n",
       "    <tr>\n",
       "      <th>7</th>\n",
       "      <td>XGBoost Regressor</td>\n",
       "      <td>0.502759</td>\n",
       "      <td>163240.364272</td>\n",
       "      <td>7.517122e+10</td>\n",
       "      <td>274173.696626</td>\n",
       "      <td>20.70</td>\n",
       "    </tr>\n",
       "  </tbody>\n",
       "</table>\n",
       "</div>"
      ],
      "text/plain": [
       "                TIPO        R²            MAE           MSE           RMSE  \\\n",
       "0   LinearRegression  0.546003  168870.750232  6.863381e+10  261980.561778   \n",
       "1      KNN Regressor  0.468975  175747.245339  8.027858e+10  283334.741904   \n",
       "2      Decision Tree  0.235297  203228.931656  1.156053e+11  340007.801903   \n",
       "3      Random Forest  0.517753  168568.684449  7.290449e+10  270008.315776   \n",
       "4            Bagging  0.473140  172394.424277  7.964900e+10  282221.541703   \n",
       "5           Ensemble  0.561768  164100.876160  6.625046e+10  257391.649863   \n",
       "6  Gradient Boosting  0.520041  162059.604153  7.255865e+10  269367.130307   \n",
       "7  XGBoost Regressor  0.502759  163240.364272  7.517122e+10  274173.696626   \n",
       "\n",
       "   ACURACIA %  \n",
       "0       20.98  \n",
       "1       21.98  \n",
       "2       19.99  \n",
       "3       22.30  \n",
       "4       21.05  \n",
       "5       21.24  \n",
       "6       21.42  \n",
       "7       20.70  "
      ]
     },
     "execution_count": 47,
     "metadata": {},
     "output_type": "execute_result"
    }
   ],
   "source": [
    "Ter = pd.DataFrame([Linear,KNN,DT,RF,BAG,ENS,GBOS,XGB],columns=['TIPO','R²','MAE','MSE','RMSE','ACURACIA %'])\n",
    "Ter"
   ]
  },
  {
   "cell_type": "code",
   "execution_count": 48,
   "metadata": {
    "collapsed": true,
    "jupyter": {
     "outputs_hidden": true,
     "source_hidden": true
    }
   },
   "outputs": [
    {
     "name": "stdout",
     "output_type": "stream",
     "text": [
      "LinearRegression()\n",
      "R^2: 0.55 \n",
      "Mean Absolute error: 168870.75023223727\n",
      "Mean Squared error: 68633814749.4654\n",
      "Root Mean Squared Error: 261980.56177790253\n",
      "--------------------------------------\n",
      "=======================================\n",
      "--------------------------------------\n",
      "KNeighborsRegressor(metric='euclidean')\n",
      "R^2: 0.47 \n",
      "Mean Absolute error: 175747.24533888503\n",
      "Mean Squared error: 80278575969.72523\n",
      "Root Mean Squared Error: 283334.741903857\n",
      "--------------------------------------\n",
      "=======================================\n",
      "--------------------------------------\n",
      "DecisionTreeRegressor(random_state=42)\n",
      "R^2: 0.24 \n",
      "Mean Absolute error: 203228.931656122\n",
      "Mean Squared error: 115605305354.72044\n",
      "Root Mean Squared Error: 340007.8019027217\n",
      "--------------------------------------\n",
      "=======================================\n",
      "--------------------------------------\n",
      "RandomForestRegressor(random_state=26)\n",
      "R^2: 0.52 \n",
      "Mean Absolute error: 168568.68444927124\n",
      "Mean Squared error: 72904490588.11728\n",
      "Root Mean Squared Error: 270008.3157758614\n",
      "--------------------------------------\n",
      "=======================================\n",
      "--------------------------------------\n",
      "DecisionTreeRegressor(random_state=26)\n",
      "R^2: 0.21 \n",
      "Mean Absolute error: 203626.25807571597\n",
      "Mean Squared error: 120172614244.5318\n",
      "Root Mean Squared Error: 346659.2191829489\n",
      "--------------------------------------\n",
      "=======================================\n",
      "--------------------------------------\n",
      "GradientBoostingRegressor(max_depth=7, random_state=42)\n",
      "R^2: 0.52 \n",
      "Mean Absolute error: 162059.60415255293\n",
      "Mean Squared error: 72558650889.6111\n",
      "Root Mean Squared Error: 269367.1303065968\n",
      "--------------------------------------\n",
      "=======================================\n",
      "--------------------------------------\n",
      "XGBRegressor(base_score=0.5, booster='gbtree', colsample_bylevel=1,\n",
      "             colsample_bynode=1, colsample_bytree=1, gamma=0, gpu_id=-1,\n",
      "             importance_type='gain', interaction_constraints='',\n",
      "             learning_rate=0.300000012, max_delta_step=0, max_depth=4,\n",
      "             min_child_weight=1, missing=nan, monotone_constraints='()',\n",
      "             n_estimators=100, n_jobs=4, num_parallel_tree=1, random_state=42,\n",
      "             reg_alpha=0, reg_lambda=1, scale_pos_weight=1, subsample=1,\n",
      "             tree_method='exact', validate_parameters=1, verbosity=None)\n",
      "R^2: 0.50 \n",
      "Mean Absolute error: 163240.36427249596\n",
      "Mean Squared error: 75171215921.61162\n",
      "Root Mean Squared Error: 274173.6966260834\n",
      "--------------------------------------\n",
      "=======================================\n",
      "--------------------------------------\n"
     ]
    }
   ],
   "source": [
    "model = [lr, knn, dct, rft, bag_base, gbos, xgb]\n",
    "\n",
    "for i in model:\n",
    "    \n",
    "    i.fit(X_train,y_train)\n",
    "    y_pred = i.predict(X_test)\n",
    "    r2 = r2_score(y_test, y_pred)\n",
    "    MAE = mean_absolute_error(y_test, y_pred)\n",
    "    MSE = mean_squared_error(y_test, y_pred)\n",
    "    RMSE = np.sqrt(mean_squared_error(y_test, y_pred))\n",
    "    print(i)\n",
    "    print('R^2: %.2f '%r2)\n",
    "    print('Mean Absolute error:', MAE)\n",
    "    print('Mean Squared error:', MSE )\n",
    "    print('Root Mean Squared Error:', RMSE)\n",
    "    acc_reg(y_pred,y_test,0.1)\n",
    "    print('--------------------------------------')\n",
    "    print('=======================================')\n",
    "    print('--------------------------------------')"
   ]
  }
 ],
 "metadata": {
  "kernelspec": {
   "display_name": "Python 3",
   "language": "python",
   "name": "python3"
  },
  "language_info": {
   "codemirror_mode": {
    "name": "ipython",
    "version": 3
   },
   "file_extension": ".py",
   "mimetype": "text/x-python",
   "name": "python",
   "nbconvert_exporter": "python",
   "pygments_lexer": "ipython3",
   "version": "3.8.5"
  }
 },
 "nbformat": 4,
 "nbformat_minor": 4
}
